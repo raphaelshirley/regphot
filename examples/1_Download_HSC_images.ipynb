{
 "cells": [
  {
   "cell_type": "markdown",
   "metadata": {},
   "source": [
    "# Deblending of extended objects in HyperSuprimeCam imaging.\n",
    "\n",
    "Download a set of extended objects to test code on"
   ]
  },
  {
   "cell_type": "code",
   "execution_count": 1,
   "metadata": {
    "collapsed": true
   },
   "outputs": [],
   "source": [
    "from astropy.table import Table"
   ]
  },
  {
   "cell_type": "code",
   "execution_count": 6,
   "metadata": {
    "collapsed": true
   },
   "outputs": [],
   "source": [
    "database = '/Users/rs548/GitHub/dmu_products'"
   ]
  },
  {
   "cell_type": "code",
   "execution_count": 7,
   "metadata": {},
   "outputs": [],
   "source": [
    "cosmos = Table.read(\"{}/dmu0/dmu0_2MASS-extended-sources/data/2MASS-XSC_COSMOS.fits\".format(database))"
   ]
  },
  {
   "cell_type": "code",
   "execution_count": 8,
   "metadata": {},
   "outputs": [
    {
     "data": {
      "text/plain": [
       "['field',\n",
       " 'id2masx',\n",
       " 'raj2000',\n",
       " 'dej2000',\n",
       " 'supradeg',\n",
       " 'supdedeg',\n",
       " 'density',\n",
       " 'r_k20e',\n",
       " 'j_k20e',\n",
       " 'e_j_k20e',\n",
       " 'f_j_k20e',\n",
       " 'h_k20e',\n",
       " 'e_h_k20e',\n",
       " 'f_h_k20e',\n",
       " 'k_k20e',\n",
       " 'e_k_k20e',\n",
       " 'f_k_k20e',\n",
       " 'kb_a',\n",
       " 'kpa',\n",
       " 'sb_a',\n",
       " 'spa',\n",
       " 'r_ext',\n",
       " 'j_ext',\n",
       " 'e_j_ext',\n",
       " 'h_ext',\n",
       " 'e_h_ext',\n",
       " 'k_ext',\n",
       " 'e_k_ext',\n",
       " 'cc']"
      ]
     },
     "execution_count": 8,
     "metadata": {},
     "output_type": "execute_result"
    }
   ],
   "source": [
    "cosmos.colnames"
   ]
  },
  {
   "cell_type": "code",
   "execution_count": 10,
   "metadata": {},
   "outputs": [],
   "source": [
    "cosmos.sort('r_k20e')"
   ]
  },
  {
   "cell_type": "code",
   "execution_count": 13,
   "metadata": {},
   "outputs": [],
   "source": [
    "f = open('data/cosmos_extended.txt','w')\n",
    "f.write('#?         filter  ra        dec       sw      sh      image    mask     variance # column descriptor  \\n')\n",
    "for galaxy in cosmos:\n",
    "    if galaxy['r_k20e'] > 10.:\n",
    "        f.write('   HSC-G   {}        {}        50asec  50asec  true     true     true \\n'.format(galaxy['raj2000'],galaxy['dej2000']))\n",
    "        f.write('   HSC-R   {}        {}        50asec  50asec  true     true     true \\n'.format(galaxy['raj2000'],galaxy['dej2000']))\n",
    "        f.write('   HSC-I   {}        {}        50asec  50asec  true     true     true \\n'.format(galaxy['raj2000'],galaxy['dej2000']))\n",
    "        f.write('   HSC-Z   {}        {}        50asec  50asec  true     true     true \\n'.format(galaxy['raj2000'],galaxy['dej2000']))\n",
    "        f.write('   HSC-Y   {}        {}        50asec  50asec  true     true     true \\n'.format(galaxy['raj2000'],galaxy['dej2000']))\n",
    "    \n",
    "f.close()\n",
    "    \n",
    "    "
   ]
  },
  {
   "cell_type": "markdown",
   "metadata": {},
   "source": [
    "The resulting file is uploaded here to download the images:\n",
    "    https://hsc-release.mtk.nao.ac.jp/das_quarry/#bulk"
   ]
  }
 ],
 "metadata": {
  "kernelspec": {
   "display_name": "Python (herschelhelp_internal)",
   "language": "python",
   "name": "helpint"
  },
  "language_info": {
   "codemirror_mode": {
    "name": "ipython",
    "version": 3
   },
   "file_extension": ".py",
   "mimetype": "text/x-python",
   "name": "python",
   "nbconvert_exporter": "python",
   "pygments_lexer": "ipython3",
   "version": "3.6.1"
  }
 },
 "nbformat": 4,
 "nbformat_minor": 2
}

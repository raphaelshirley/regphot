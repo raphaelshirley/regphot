{
 "cells": [
  {
   "cell_type": "markdown",
   "metadata": {},
   "source": [
    "# Create fake images of gaussian psfs and compare evidence.\n",
    "\n",
    "\n"
   ]
  },
  {
   "cell_type": "code",
   "execution_count": 1,
   "metadata": {},
   "outputs": [],
   "source": [
    "from __future__ import absolute_import, unicode_literals, print_function\n",
    "\n",
    "import numpy as np\n",
    "import numpy\n",
    "from numpy import log, exp, pi, cos\n",
    "\n",
    "from astropy.io import fits, ascii\n",
    "from astropy.coordinates import SkyCoord, Angle\n",
    "from astropy import units as u\n",
    "from astropy import constants as const\n",
    "from astropy import wcs\n",
    "from astropy.convolution import Gaussian2DKernel, convolve\n",
    "from astropy.table import Table, Column, join, hstack\n",
    "\n",
    "import json\n",
    "\n",
    "\n",
    "import scipy.stats, scipy\n",
    "\n",
    "import matplotlib.pyplot as plt\n",
    "\n",
    "\n",
    "\n",
    "\n",
    "import pymultinest\n",
    "from pymultinest.solve import solve\n",
    "\n",
    "\n",
    "import math, os\n",
    "\n",
    "import scipy\n",
    "import scipy.interpolate\n",
    "import scipy.ndimage\n",
    "\n",
    "import time\n",
    "\n",
    "%matplotlib inline\n",
    "#%config InlineBackend.figure_format = 'svg'\n",
    "import matplotlib.pyplot as plt\n",
    "from matplotlib.colors import LogNorm\n",
    "plt.rc('figure', figsize=(10, 6))\n"
   ]
  },
  {
   "cell_type": "markdown",
   "metadata": {},
   "source": [
    "## Simple image tests\n",
    "\n",
    "We were given some example code from Jason Glenn. To begin we test that we can open the images and use them as anticipated. The code had to be changed from Python 2 to 3."
   ]
  },
  {
   "cell_type": "code",
   "execution_count": 2,
   "metadata": {},
   "outputs": [],
   "source": [
    "#data_folder = \"/Volumes/Raph500/GEP\"\n",
    "DAT_FOL = './' #\"/Users/rs548/GitHub/GEP\"\n",
    "OUT_FOL='./data/fakes/'"
   ]
  },
  {
   "cell_type": "code",
   "execution_count": 3,
   "metadata": {},
   "outputs": [
    {
     "data": {
      "text/plain": [
       "<matplotlib.image.AxesImage at 0x11d5c6240>"
      ]
     },
     "execution_count": 3,
     "metadata": {},
     "output_type": "execute_result"
    },
    {
     "data": {
      "image/png": "[encoded data removed]",
      "text/plain": [
       "<Figure size 432x288 with 1 Axes>"
      ]
     },
     "metadata": {},
     "output_type": "display_data"
    }
   ],
   "source": [
    "def make_fake_image(n_gaussians, \n",
    "                    psf_size   = 2.,         #pixels \n",
    "                    image_size = 10,         #pixels \n",
    "                    buffer     = 5,          #pixels\n",
    "                    background = 0.,         #uJy\n",
    "                    flux_range = [10., 100.], #uJy\n",
    "                    depth      = 0.,        #uJy\n",
    "                    save       = False\n",
    "                   ):\n",
    "    \"\"\"\n",
    "    Make a fake image with a given number of Gaussians\n",
    "    \n",
    "    Randomly choose n fluxes and put n Gaussians with those fluxes at \n",
    "    random positions.\n",
    "    \n",
    "    This will be used to test algorithms for calculating the \n",
    "    number of objects.\n",
    "    \n",
    "    Inputs\n",
    "    ------\n",
    "    n_gaussians: int\n",
    "        Number of gaussian objects to add to image\n",
    "    psf_size: float\n",
    "        Point Spread Function (PSF) standard deviation in pixel scale.\n",
    "    image_size: int\n",
    "        The number of pixels in the central square region.\n",
    "    buffer: int\n",
    "        The number of pixels to border the central region.\n",
    "    background: float\n",
    "        Background to add to every pixel.\n",
    "    flux_range: list of two floats\n",
    "        Lower and upper flux to uniformly sample from in uJy.\n",
    "    depth: float\n",
    "        Standard deviation of Gaussian noise to add to image.\n",
    "        \n",
    "    \n",
    "    Returns\n",
    "    -------\n",
    "    image: np.array\n",
    "        2D array with n gaussians randomly placed around central pixel space\n",
    "    \"\"\"\n",
    "    \n",
    "    psf = Gaussian2DKernel(psf_size,x_size=101,y_size=101)\n",
    "    \n",
    "    image = np.full([image_size + 2*buffer,image_size + 2*buffer], 0.)\n",
    "    \n",
    "    for gal in np.arange(n_gaussians):\n",
    "        gal_x = np.random.choice(np.arange(image_size))\n",
    "        gal_y = np.random.choice(np.arange(image_size))\n",
    "        gal_flux = np.random.uniform(flux_range[0],flux_range[1])\n",
    "        image[gal_y + buffer, gal_x + buffer] = gal_flux\n",
    "        #print(\"Object {}: x = {}, y = {}, flux = {}\".format(gal, gal_x, gal_y, gal_flux))\n",
    "    \n",
    "    image = convolve(image, psf)\n",
    "    \n",
    "    # Add background\n",
    "    image = image + background\n",
    "    \n",
    "    # Add noise\n",
    "    noise = depth * np.random.randn(image.shape[0], image.shape[1])\n",
    "    image = image + noise\n",
    "    \n",
    "    # Save image with key info\n",
    "    if save:\n",
    "        np.save(OUT_FOL + 'fake_x{}_y{}_f{}_t{}.npy'.format(gal_x, gal_y, gal_flux, time.time()), image)\n",
    "    \n",
    "    \n",
    "    \n",
    "    return image\n",
    "    \n",
    "    \n",
    "    \n",
    "test_image = make_fake_image(3, save=True, depth=0.1)\n",
    "plt.imshow(test_image)"
   ]
  },
  {
   "cell_type": "code",
   "execution_count": 4,
   "metadata": {},
   "outputs": [
    {
     "data": {
      "text/plain": [
       "<matplotlib.image.AxesImage at 0x11d6bcfd0>"
      ]
     },
     "execution_count": 4,
     "metadata": {},
     "output_type": "execute_result"
    },
    {
     "data": {
      "image/png": "[encoded data removed]",
      "text/plain": [
       "<Figure size 432x288 with 1 Axes>"
      ]
     },
     "metadata": {},
     "output_type": "display_data"
    }
   ],
   "source": [
    "def make_model_image(n_gaussians, \n",
    "                     positions,        \n",
    "                     fluxes,                  #uJy\n",
    "                     psf_size   = 2.,         #pixels \n",
    "                     image_size = 10,         #pixels \n",
    "                     buffer     = 5,          #pixels\n",
    "                     noise      = None,\n",
    "                     background = 0.,  #uJy\n",
    "                     save       = False\n",
    "                    ):\n",
    "    \"\"\"\n",
    "    Make a model image with a given number of Gaussians\n",
    "    \n",
    "    Randomly choose n fluxes and put n Gaussians with those fluxes at \n",
    "    random positions.\n",
    "    \n",
    "    This will be used to test algorithms for calculating the \n",
    "    number of objects.\n",
    "    \n",
    "    Inputs\n",
    "    ------\n",
    "    n_gaussians: int\n",
    "        Number of gaussian objects to add to image\n",
    "    psf_size: float\n",
    "        Point Spread Function (PSF) standard deviation in pixel scale.\n",
    "    image_size: int\n",
    "        The number of pixels in the central square region.\n",
    "    buffer: int\n",
    "        The number of pixels to border the central region.\n",
    "    background: float\n",
    "        Background to add to every pixel.\n",
    "        \n",
    "    \n",
    "    Returns\n",
    "    -------\n",
    "    image: np.array\n",
    "        2D array with model image\n",
    "    \"\"\"\n",
    "    #print(\"make model called\")\n",
    "    psf = Gaussian2DKernel(psf_size,x_size=101,y_size=101)\n",
    "    \n",
    "    model_image = np.full([image_size + 2*buffer,image_size + 2*buffer], 0.)\n",
    "    \n",
    "    #print(\"before loop\")\n",
    "    for n, gal in enumerate(positions):\n",
    "        gal_x = gal[0]\n",
    "        gal_y = gal[1]\n",
    "        #print('gal_x: {}, gal_y: {}'.format(gal_x,gal_y))\n",
    "        gal_flux = fluxes[n]\n",
    "        #print(gal_flux)\n",
    "        model_image[gal_y + buffer, gal_x + buffer] = gal_flux\n",
    "        #print(\"loop {} done\".format(n))\n",
    "    \n",
    "    model_image = convolve(model_image, psf)\n",
    "    \n",
    "    # Add background\n",
    "    model_image = model_image + background\n",
    "    \n",
    "    # Add noise\n",
    "    if noise != None:\n",
    "        noise = noise * np.random.randn(model_image.shape[0], model_image.shape[1])\n",
    "        model_image = model_image + noise\n",
    "    \n",
    "    # Save image with key info\n",
    "    if save:\n",
    "        np.save(OUT_FOL + 'fake_x{}_y{}_f{}_t{}.npy'.format(gal_x, gal_y, gal_flux, time.time()), image)\n",
    "    \n",
    "    \n",
    "    #print(\"Make model finished\")\n",
    "    return model_image\n",
    "    \n",
    "\n",
    "    \n",
    "test_model = make_model_image(3, [[9,0], [8,9], [4,8]], [75., 29., 89.], noise = 0.1)\n",
    "plt.imshow(test_model)"
   ]
  },
  {
   "cell_type": "code",
   "execution_count": 5,
   "metadata": {},
   "outputs": [
    {
     "data": {
      "text/plain": [
       "-16288.670333600772"
      ]
     },
     "execution_count": 5,
     "metadata": {},
     "output_type": "execute_result"
    }
   ],
   "source": [
    "-0.5*np.sum(test_model.flatten()**2/(0.1**2))"
   ]
  },
  {
   "cell_type": "markdown",
   "metadata": {},
   "source": [
    "## PyMultiNest Examples\n",
    "\n",
    "The example evidence calculations are for the egg box problem presented in Feroz et al (2008)."
   ]
  },
  {
   "cell_type": "code",
   "execution_count": 6,
   "metadata": {},
   "outputs": [
    {
     "name": "stdout",
     "output_type": "stream",
     "text": [
      "  analysing data from chains/3-.txt\n",
      "\n",
      "evidence: 235.7 +- 0.1\n",
      "\n",
      "parameter values:\n",
      "              x : 14.340 +- 7.972\n",
      "              y : 14.825 +- 9.470\n"
     ]
    }
   ],
   "source": [
    "from pymultinest.solve import solve\n",
    "from numpy import cos, pi\n",
    "# probability function, taken from the eggbox problem.\n",
    "\n",
    "def myprior(cube):\n",
    "        return cube * 10 * pi\n",
    "\n",
    "def myloglike(cube):\n",
    "        chi = (cos(cube / 2.)).prod()\n",
    "        return (2. + chi)**5\n",
    "\n",
    "# number of dimensions our problem has\n",
    "parameters = [\"x\", \"y\"]\n",
    "#parameters = [\"x\", \"y\", \"z\", \"j\"]\n",
    "n_params = len(parameters)\n",
    "\n",
    "\n",
    "# name of the output files\n",
    "#prefix = \"chains/3-\"\n",
    "prefix = \"chains/{}-\".format(n_params + 1)\n",
    "\n",
    "# run MultiNest\n",
    "result = solve(LogLikelihood=myloglike, Prior=myprior,\n",
    "        n_dims=n_params, outputfiles_basename=prefix, verbose=True)\n",
    "\n",
    "print()\n",
    "print('evidence: %(logZ).1f +- %(logZerr).1f' % result)\n",
    "print()\n",
    "print('parameter values:')\n",
    "for name, col in zip(parameters, result['samples'].transpose()):\n",
    "        print('%15s : %.3f +- %.3f' % (name, col.mean(), col.std()))\n",
    "\n",
    "# make marginal plots by running:\n",
    "# $ python multinest_marginals.py chains/3-\n",
    "# For that, we need to store the parameter names:\n",
    "import json\n",
    "with open('%sparams.json' % prefix, 'w') as f:\n",
    "        json.dump(parameters, f, indent=2)"
   ]
  },
  {
   "cell_type": "code",
   "execution_count": 7,
   "metadata": {},
   "outputs": [
    {
     "data": {
      "text/plain": [
       "0.65486002231239671"
      ]
     },
     "execution_count": 7,
     "metadata": {},
     "output_type": "execute_result"
    }
   ],
   "source": [
    "(cos(np.array([1,1,1,0.5]) / 2.)).prod()"
   ]
  },
  {
   "cell_type": "code",
   "execution_count": 8,
   "metadata": {},
   "outputs": [
    {
     "data": {
      "text/plain": [
       "31.41592653589793"
      ]
     },
     "execution_count": 8,
     "metadata": {},
     "output_type": "execute_result"
    }
   ],
   "source": [
    "1*10*pi"
   ]
  },
  {
   "cell_type": "markdown",
   "metadata": {},
   "source": [
    "## Define prior and liklihood\n",
    "\n",
    "We want to define a prior for the parameters of n gaussians and a background.\n",
    "\n",
    "The model is background plus n Gaussians plus noise. Lets ignore the background for now and assume we know it is 0. We then have n Gaussians each with a uniformly distributed position and flux\n"
   ]
  },
  {
   "cell_type": "code",
   "execution_count": 9,
   "metadata": {},
   "outputs": [
    {
     "data": {
      "text/plain": [
       "array([  0.   ,   9.   ,  74.998,   8.   ,   9.   ,  28.99 ,   4.   ,\n",
       "         8.   ,  89.02 ])"
      ]
     },
     "execution_count": 9,
     "metadata": {},
     "output_type": "execute_result"
    }
   ],
   "source": [
    "def general_prior(n_gaussians, x_l, x_u, y_l, y_u, f_l, f_u):\n",
    "    \"\"\"\n",
    "    Return position in D-dimensional parameter space according to \n",
    "    location in D-dimensional unit hypercube.\n",
    "    \n",
    "    I.e. if one randomly samples from the uniformly distributed unit \n",
    "    hypercube and passes that sample to this function the result will\n",
    "    be randomly sampled from the parameter prior.\n",
    "    \n",
    "    The prior is defined by a transformation of the D-dimensional hypercube\n",
    "    \n",
    "    Inputs\n",
    "    ------\n",
    "    cube: array of floats\n",
    "        position in unit hypercube of random sample\n",
    "        \n",
    "    Returns\n",
    "    -------\n",
    "    prior: function object\n",
    "        The prior function that turns positions in the unit hypercube to \n",
    "        positions in parameter space.\n",
    "    \"\"\"\n",
    "    #print(\"general_prior called\")\n",
    "    def prior(cube):\n",
    "        \"\"\"Return position in parameter space given position in unit hypercube\n",
    "        \"\"\"\n",
    "        #print(\"prior called\")\n",
    "\n",
    "        out_cube = cube #.copy()\n",
    "        for n in np.arange(n_gaussians):\n",
    "            out_cube[0 + 3*n] = x_l + out_cube[0 + 3*n] * (x_u - x_l) # x pixel\n",
    "            out_cube[1 + 3*n] = y_l + out_cube[1 + 3*n] * (y_u - y_l) # y pixel\n",
    "            out_cube[2 + 3*n] = f_l + out_cube[2 + 3*n] * (f_u - f_l) # flux\n",
    "        return out_cube\n",
    "        \n",
    "    return prior\n",
    "\n",
    "n_gaussians = 3\n",
    "x_l = 0\n",
    "x_u = 10\n",
    "y_l = 0\n",
    "y_u = 10\n",
    "f_l = 10.\n",
    "f_u = 100.\n",
    "truth = [0, 9, 75., 8, 9, 29., 4, 8, 89.]\n",
    "truth_cube_close = np.array([0.,0.9,0.7222, 0.8, 0.9, 0.211, 0.4, 0.8, 0.878])\n",
    "general_prior(n_gaussians, x_l, x_u, y_l, y_u, f_l, f_u)(truth_cube_close)"
   ]
  },
  {
   "cell_type": "code",
   "execution_count": 10,
   "metadata": {},
   "outputs": [],
   "source": [
    "def chi_squared(image, model, error):\n",
    "    \"\"\"Return chi-squared for a given image and model\n",
    "    \n",
    "    Inputs\n",
    "    ------\n",
    "    image: np.array\n",
    "        The image to fit\n",
    "    model: np.array\n",
    "        The model image\n",
    "    \"\"\"\n",
    "    #Ignore constant term\n",
    "    chi_squared = -0.5 * np.sum((image - model)**2/ error**2 )\n",
    "    return chi_squared"
   ]
  },
  {
   "cell_type": "code",
   "execution_count": 11,
   "metadata": {},
   "outputs": [
    {
     "name": "stdout",
     "output_type": "stream",
     "text": [
      "close: -16288.141169086139\n",
      "far: -16288.534456961472\n"
     ]
    }
   ],
   "source": [
    "def general_loglike(n_gaussians, x_l, x_u, y_l, y_u, f_l, f_u, image, error=0.1):\n",
    "    \"\"\"Return Log10 liklihood for model made from unit hypercube parameter space\n",
    "    \"\"\"\n",
    "    #print(\"general_loglike called\")\n",
    "        \n",
    "    def loglike(cube):\n",
    "        \n",
    "        #print(\"loglike called\")\n",
    "\n",
    "    \n",
    "        # First get parameter values\n",
    "        #print('like prior calling {}'.format(n_gaussians))\n",
    "        #prior = general_prior(n_gaussians, x_l, x_u, y_l, y_u, f_l, f_u)\n",
    "        #parameters = prior(cube)\n",
    "        parameters = cube.copy()\n",
    "        #print(len(parameters))\n",
    "        #for n in np.arange(int(len(parameters)/3)):\n",
    "        #    print(n)\n",
    "        #    parameters[0 + 3*n] = x_l + parameters[0 + 3*n] * (x_u - x_l) # x pixel\n",
    "        #    parameters[1 + 3*n] = y_l + parameters[1 + 3*n] * (y_u - y_l) # y pixel\n",
    "        #    parameters[2 + 3*n] = f_l + parameters[2 + 3*n] * (f_u - f_l) # flux\n",
    "        \n",
    "        positions = []\n",
    "        fluxes = []\n",
    "        \n",
    "        for gal in np.arange(int(len(parameters)/3)):\n",
    "            positions += [[ int(parameters[0 + 3*gal] ), int( parameters[1 + 3*gal] ) ] ]\n",
    "            fluxes += [parameters[2 + 3*gal]]\n",
    "        \n",
    "        # then generate model image\n",
    "        #print(n_gaussians, positions, fluxes)\n",
    "        #print('before model')\n",
    "        model = make_model_image(n_gaussians, positions, fluxes)\n",
    "        #plt.imshow(model)\n",
    "        # Then calculate log chi squared\n",
    "        #print('before chisq')\n",
    "        loglike = chi_squared(image, model, error)\n",
    "        #print('end of loglike')\n",
    "        return loglike\n",
    "    \n",
    "    return loglike\n",
    "\n",
    "#[[9,0], [8,9], [4,8]], [75., 29., 89.]\n",
    "n_gaussians = 3\n",
    "x_l = 0\n",
    "x_u = 10\n",
    "y_l = 0\n",
    "y_u = 10\n",
    "f_l = 10.\n",
    "f_u = 100.\n",
    "image = test_model\n",
    "truth = [0, 9, 75., 8, 9, 29., 4, 8, 89.]\n",
    "truth_cube_far = np.array([0.1,0.1,0.1, 0.1, 0.1, 0.1, 0.1, 0.1, 0.1])\n",
    "truth_cube_far = [0.1,0.1,0.1, 0.1, 0.1, 0.1, 0.1, 0.1, 0.1]\n",
    "truth_cube_close = [0.,0.9,0.66, 0.8, 0.9, 0.21, 0.4, 0.8, 0.66]\n",
    "print(\"close: {}\".format(general_loglike(n_gaussians, x_l, x_u, y_l, y_u, f_l, f_u, image)(truth_cube_close)))\n",
    "print(\"far: {}\".format(general_loglike(n_gaussians, x_l, x_u, y_l, y_u, f_l, f_u, image)(truth_cube_far)))"
   ]
  },
  {
   "cell_type": "code",
   "execution_count": 12,
   "metadata": {},
   "outputs": [
    {
     "data": {
      "text/plain": [
       "array([ 0.,  1.,  2.])"
      ]
     },
     "execution_count": 12,
     "metadata": {},
     "output_type": "execute_result"
    }
   ],
   "source": [
    "np.arange(3.0)"
   ]
  },
  {
   "cell_type": "code",
   "execution_count": 13,
   "metadata": {},
   "outputs": [],
   "source": [
    "loglike = general_loglike(n_gaussians, x_l, x_u, y_l, y_u, f_l, f_u, image)"
   ]
  },
  {
   "cell_type": "code",
   "execution_count": 14,
   "metadata": {},
   "outputs": [
    {
     "name": "stdout",
     "output_type": "stream",
     "text": [
      "-16288.1411691\n"
     ]
    }
   ],
   "source": [
    "print(loglike(truth_cube_close))"
   ]
  },
  {
   "cell_type": "code",
   "execution_count": 15,
   "metadata": {},
   "outputs": [],
   "source": [
    "# run MultiNest for simple test\n",
    "n_gaussians = 2\n",
    "x_l = 0\n",
    "x_u = 10\n",
    "y_l = 0\n",
    "y_u = 10\n",
    "f_l = 10.\n",
    "f_u = 100.\n",
    "prefix = \"TEST_n3_{}\".format(time.time())\n",
    "parameters = [ \"x\", \"y\", \"flux\", \"x2\", \"y2\", \"flux2\"]\n",
    "n_params = len(parameters)\n",
    "#image = make_model_image(3, [[9,0], [8,9], [4,8]], [75., 29., 89.], noise = 0.1)\n",
    "image = make_model_image(1, [[9,0]], [75.], noise = 0.1)\n",
    "\n",
    "\n",
    "prior = general_prior(n_gaussians, x_l, x_u, y_l, y_u, f_l, f_u)\n",
    "\n",
    "loglike = general_loglike(n_gaussians, x_l, x_u, y_l, y_u, f_l, f_u, image)"
   ]
  },
  {
   "cell_type": "code",
   "execution_count": 16,
   "metadata": {},
   "outputs": [
    {
     "ename": "NameError",
     "evalue": "name 'loglike2' is not defined",
     "output_type": "error",
     "traceback": [
      "\u001b[0;31m---------------------------------------------------------------------------\u001b[0m",
      "\u001b[0;31mNameError\u001b[0m                                 Traceback (most recent call last)",
      "\u001b[0;32m<ipython-input-16-5303cca14b61>\u001b[0m in \u001b[0;36m<module>\u001b[0;34m()\u001b[0m\n\u001b[0;32m----> 1\u001b[0;31m result = solve(LogLikelihood=loglike2, \n\u001b[0m\u001b[1;32m      2\u001b[0m                \u001b[0mPrior\u001b[0m\u001b[0;34m=\u001b[0m\u001b[0mprior\u001b[0m\u001b[0;34m,\u001b[0m\u001b[0;34m\u001b[0m\u001b[0m\n\u001b[1;32m      3\u001b[0m                n_dims=n_params, outputfiles_basename=prefix, verbose=True)\n",
      "\u001b[0;31mNameError\u001b[0m: name 'loglike2' is not defined"
     ]
    }
   ],
   "source": [
    "result = solve(LogLikelihood=loglike2, \n",
    "               Prior=prior,\n",
    "               n_dims=n_params, outputfiles_basename=prefix, verbose=True)"
   ]
  },
  {
   "cell_type": "code",
   "execution_count": null,
   "metadata": {},
   "outputs": [],
   "source": [
    "result"
   ]
  },
  {
   "cell_type": "markdown",
   "metadata": {},
   "source": [
    "## 2. Run test images on 0, 1, 2, 3, 4, 5 and choose best"
   ]
  },
  {
   "cell_type": "code",
   "execution_count": null,
   "metadata": {},
   "outputs": [],
   "source": [
    "# run MultiNest for simple test\n",
    "x_l = 0\n",
    "x_u = 10\n",
    "y_l = 0\n",
    "y_u = 10\n",
    "f_l = 10.\n",
    "f_u = 100.\n",
    "image = test_model\n",
    "for n in np.arange(6):\n",
    "    prior = general_prior(n, x_l, x_u, y_l, y_u, f_l, f_u)\n",
    "    loglike = general_loglike(n, x_l, x_u, y_l, y_u, f_l, f_u, image)\n",
    "    prefix = \"TEST_{}d_{}\".format(n,time.time())\n",
    "    result = solve(LogLikelihood=loglike, \n",
    "               Prior=prior,\n",
    "               n_dims=n*3, outputfiles_basename=prefix, verbose=True)\n",
    "    print(result)"
   ]
  },
  {
   "cell_type": "code",
   "execution_count": null,
   "metadata": {},
   "outputs": [],
   "source": []
  }
 ],
 "metadata": {
  "anaconda-cloud": {},
  "kernelspec": {
   "display_name": "Python (herschelhelp_internal)",
   "language": "python",
   "name": "helpint"
  },
  "language_info": {
   "codemirror_mode": {
    "name": "ipython",
    "version": 3
   },
   "file_extension": ".py",
   "mimetype": "text/x-python",
   "name": "python",
   "nbconvert_exporter": "python",
   "pygments_lexer": "ipython3",
   "version": "3.6.5"
  }
 },
 "nbformat": 4,
 "nbformat_minor": 2
}

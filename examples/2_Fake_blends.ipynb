{
 "cells": [
  {
   "cell_type": "markdown",
   "metadata": {},
   "source": [
    "# Create fake images of gaussian psfs and compare evidence.\n",
    "\n",
    "\n"
   ]
  },
  {
   "cell_type": "code",
   "execution_count": 53,
   "metadata": {
    "collapsed": true
   },
   "outputs": [],
   "source": [
    "import numpy as np\n",
    "\n",
    "from astropy.io import fits, ascii\n",
    "from astropy.coordinates import SkyCoord, Angle\n",
    "from astropy import units as u\n",
    "from astropy import constants as const\n",
    "from astropy import wcs\n",
    "from astropy.convolution import Gaussian2DKernel, convolve\n",
    "from astropy.table import Table, Column, join, hstack\n",
    "\n",
    "\n",
    "\n",
    "import scipy\n",
    "import scipy.interpolate\n",
    "import scipy.ndimage\n",
    "\n",
    "\n",
    "\n",
    "%matplotlib inline\n",
    "#%config InlineBackend.figure_format = 'svg'\n",
    "import matplotlib.pyplot as plt\n",
    "from matplotlib.colors import LogNorm\n",
    "plt.rc('figure', figsize=(10, 6))\n"
   ]
  },
  {
   "cell_type": "markdown",
   "metadata": {},
   "source": [
    "## Simple image tests\n",
    "\n",
    "We were given some example code from Jason Glenn. To begin we test that we can open the images and use them as anticipated. The code had to be changed from Python 2 to 3."
   ]
  },
  {
   "cell_type": "code",
   "execution_count": 4,
   "metadata": {
    "collapsed": true
   },
   "outputs": [],
   "source": [
    "#data_folder = \"/Volumes/Raph500/GEP\"\n",
    "data_folder = './' #\"/Users/rs548/GitHub/GEP\"\n",
    "output_folder='./data/'"
   ]
  },
  {
   "cell_type": "code",
   "execution_count": 58,
   "metadata": {},
   "outputs": [
    {
     "data": {
      "text/plain": [
       "<matplotlib.image.AxesImage at 0x117c50a20>"
      ]
     },
     "execution_count": 58,
     "metadata": {},
     "output_type": "execute_result"
    },
    {
     "data": {
      "image/png": "[encoded data removed]",
      "text/plain": [
       "<matplotlib.figure.Figure at 0x117478588>"
      ]
     },
     "metadata": {},
     "output_type": "display_data"
    }
   ],
   "source": [
    "def make_fake_image(n_gaussians, \n",
    "                    psf_size   = 1.,         #arcsec \n",
    "                    image_size = 10,        #pixels \n",
    "                    buffer     = 5,         #pixels\n",
    "                    background = 0.,         #uJy\n",
    "                    flux_range = [10., 100], #uJy\n",
    "                    depth      = 10.         #uJy\n",
    "                   ):\n",
    "    \"\"\"\n",
    "    Make a fake image with a given number of Gaussians\n",
    "    \n",
    "    Randomly choose n fluxes and put n Gaussians with those fluxes at \n",
    "    random positions\n",
    "    \n",
    "    Inputs\n",
    "    ------\n",
    "    \n",
    "    Returns\n",
    "    -------\n",
    "    image: np.array\n",
    "        2D array with n gaussians randomly placed around central pixel space\n",
    "    \"\"\"\n",
    "    \n",
    "    psf = Gaussian2DKernel(psf_size,x_size=101,y_size=101)\n",
    "    \n",
    "    image = np.full([image_size + buffer,image_size + buffer], 0.)\n",
    "    \n",
    "    for gal in np.arange(n_gaussians):\n",
    "        gal_x = np.random.choice(np.arange(image_size))\n",
    "        gal_y = np.random.choice(np.arange(image_size))\n",
    "        gal_flux = np.random.uniform(flux_range[0],flux_range[1])\n",
    "        image[gal_y, gal_x] = gal_flux\n",
    "    \n",
    "    image = convolve(image, psf)\n",
    "    return image\n",
    "    \n",
    "    \n",
    "    \n",
    "plt.imshow(make_fake_image(2))"
   ]
  },
  {
   "cell_type": "code",
   "execution_count": 51,
   "metadata": {},
   "outputs": [
    {
     "data": {
      "text/plain": [
       "array([[  0.        ,   0.        ,   0.        ,   0.        ,   0.        ],\n",
       "       [  0.        ,   0.        ,   0.        ,   0.        ,   0.        ],\n",
       "       [ 55.00082807,   0.        ,   0.        ,   0.        ,   0.        ],\n",
       "       [  0.        ,   0.        ,   0.        ,   0.        ,   0.        ],\n",
       "       [  0.        ,   0.        ,   0.        ,   0.        ,   0.        ]])"
      ]
     },
     "execution_count": 51,
     "metadata": {},
     "output_type": "execute_result"
    }
   ],
   "source": [
    "image = np.full([5,5], 0.)\n",
    "flux_range = [10., 100]\n",
    "image[np.random.choice(np.arange(4)), np.random.choice(np.arange(4))] = np.random.uniform(flux_range[0], flux_range[1])\n",
    "image"
   ]
  },
  {
   "cell_type": "code",
   "execution_count": 48,
   "metadata": {},
   "outputs": [
    {
     "data": {
      "text/plain": [
       "3.72355426796266"
      ]
     },
     "execution_count": 48,
     "metadata": {},
     "output_type": "execute_result"
    }
   ],
   "source": [
    "np.random.uniform(1.,5.)"
   ]
  },
  {
   "cell_type": "code",
   "execution_count": 24,
   "metadata": {},
   "outputs": [
    {
     "name": "stdout",
     "output_type": "stream",
     "text": [
      "8.69567683295435\n",
      "7.41554214353363\n",
      "7.7429810068403935\n",
      "9.322505524548262\n",
      "6.680516025522825\n",
      "7.638578429283646\n",
      "5.559000815854287\n",
      "9.241319838101763\n",
      "8.296939694032883\n",
      "6.4700741818098635\n",
      "1\n"
     ]
    }
   ],
   "source": [
    "image_size = 100\n",
    "a = 1\n",
    "for test in np.arange(10):\n",
    "    print(np.random.uniform(5.,10.))\n",
    "print(a)"
   ]
  },
  {
   "cell_type": "code",
   "execution_count": 27,
   "metadata": {},
   "outputs": [
    {
     "data": {
      "text/plain": [
       "5.239290404381602"
      ]
     },
     "execution_count": 27,
     "metadata": {},
     "output_type": "execute_result"
    }
   ],
   "source": [
    "np.random.uniform(5.,10.)"
   ]
  },
  {
   "cell_type": "code",
   "execution_count": 20,
   "metadata": {},
   "outputs": [],
   "source": [
    "image[1,4] = 10."
   ]
  },
  {
   "cell_type": "code",
   "execution_count": 21,
   "metadata": {},
   "outputs": [
    {
     "data": {
      "text/plain": [
       "array([[  0.,   0.,   0.,   0.,   0.,   0.,   0.,   0.,   0.,   0.],\n",
       "       [  0.,   0.,   0.,   0.,  10.,   0.,   0.,   0.,   0.,   0.],\n",
       "       [  0.,   0.,   0.,   0.,   0.,   0.,   0.,   0.,   0.,   0.],\n",
       "       [  0.,   0.,   0.,   0.,   0.,   0.,   0.,   0.,   0.,   0.],\n",
       "       [  0.,   0.,   0.,   0.,   0.,   0.,   0.,   0.,   0.,   0.],\n",
       "       [  0.,   0.,   0.,   0.,   0.,   0.,   0.,   0.,   0.,   0.],\n",
       "       [  0.,   0.,   0.,   0.,   0.,   0.,   0.,   0.,   0.,   0.],\n",
       "       [  0.,   0.,   0.,   0.,   0.,   0.,   0.,   0.,   0.,   0.],\n",
       "       [  0.,   0.,   0.,   0.,   0.,   0.,   0.,   0.,   0.,   0.],\n",
       "       [  0.,   0.,   0.,   0.,   0.,   0.,   0.,   0.,   0.,   0.]])"
      ]
     },
     "execution_count": 21,
     "metadata": {},
     "output_type": "execute_result"
    }
   ],
   "source": [
    "image"
   ]
  },
  {
   "cell_type": "code",
   "execution_count": 22,
   "metadata": {},
   "outputs": [
    {
     "data": {
      "text/plain": [
       "<matplotlib.image.AxesImage at 0x1174592b0>"
      ]
     },
     "execution_count": 22,
     "metadata": {},
     "output_type": "execute_result"
    },
    {
     "data": {
      "image/png": "[encoded data removed]",
      "text/plain": [
       "<matplotlib.figure.Figure at 0x1168537f0>"
      ]
     },
     "metadata": {},
     "output_type": "display_data"
    }
   ],
   "source": [
    "plt.imshow(image)"
   ]
  },
  {
   "cell_type": "code",
   "execution_count": null,
   "metadata": {
    "collapsed": true
   },
   "outputs": [],
   "source": [
    "hdulist = fits.open(GEP20_fits)\n",
    "imGEP20phdu=hdulist[0].header\n",
    "imGEP20hdu=hdulist[0].header\n",
    "\n",
    "GEP20_pix_size = float(GEP_overview['pixel_size'][GEP_overview['waveband'] == 20]) / 3600.\n",
    "GEP20_bandwidth = float(GEP_overview['bandwidth'][GEP_overview['waveband'] == 20])\n",
    "\n",
    "#Create fake data for WCS solution\n",
    "imGEP20hdu.set('META_1',  value = 250,             comment = '[] Wavelength of the array'    )                 \n",
    "imGEP20hdu.set('EQUINOX', value = 2000.0,          comment = '[] WCS: Equinox of celestial pointing'  )        \n",
    "imGEP20hdu.set('EPOCH',   value = 2000.0,          comment = '[] WCS: Epoch of celestial pointing'     )       \n",
    "imGEP20hdu.set('CRVAL1',  value = 0.0,             comment = '[] R.A. (degrees) of reference pixel'    )       \n",
    "imGEP20hdu.set('CRVAL2',  value = 0.0,             comment = '[] Declination of reference pixel'        )      \n",
    "imGEP20hdu.set('CD1_1',   value = -GEP20_pix_size, comment = '[] [degrees] WCS: Pixel scale axis 1,1'   )      \n",
    "imGEP20hdu.set('CD1_2',   value = 0.0,             comment = '[] [degrees] WCS: Pixel scale axis 1,2'   )      \n",
    "imGEP20hdu.set('CD2_1',   value = 0.0,             comment = '[] [degrees] WCS: Pixel scale axis 2,1'   )      \n",
    "imGEP20hdu.set('CD2_2',   value = GEP20_pix_size,  comment = '[] [degrees] WCS: Pixel scale axis 2,2'    )     \n",
    "imGEP20hdu.set('CTYPE1',  value = 'RA---TAN',      comment = 'WCS: Projection type axis 1, default'     )      \n",
    "imGEP20hdu.set('CTYPE2',  value = 'DEC--TAN',      comment = 'WCS: Projection type axis 1, default'       )    \n",
    "imGEP20hdu.set('CRPIX1',  value = 0.0,             comment = '[] [pixel] WCS: Reference pixel position axis'  )                                                                  \n",
    "imGEP20hdu.set('CRPIX2',  value = 0.0,             comment = ' [] [pixel] WCS: Reference pixel position axis' )\n",
    "\n",
    "#Images are in Watts per metre squared and I want them in mJy\n",
    "\n",
    "\n",
    "imGEP20 = (hdulist[0].data * 1.0E29) / GEP20_bandwidth #convert to mJy\n",
    "#mean subtract\n",
    "imGEP20mean = np.mean(imGEP20)\n",
    "imGEP20  = imGEP20 - np.mean(imGEP20)\n",
    "               \n",
    "#Very crude first guess error = 6 uJy\n",
    "nimGEP20 = imGEP20.copy()\n",
    "nimGEP20.fill(6.e-3)\n",
    "               \n",
    "w_GEP20 = wcs.WCS(imGEP20hdu)\n",
    "pixsizeGEP20=3600.0*w_GEP20.wcs.cd[1,1] #pixel size (in arcseconds)\n",
    "del GEP20_pix_size #USE ARCSEC in PSF\n",
    "hdulist.writeto('./data/GEP20_with_fake_wcs.fits', overwrite=True)\n",
    "hdulist.close()"
   ]
  }
 ],
 "metadata": {
  "kernelspec": {
   "display_name": "Python (herschelhelp_internal)",
   "language": "python",
   "name": "helpint"
  },
  "language_info": {
   "codemirror_mode": {
    "name": "ipython",
    "version": 3
   },
   "file_extension": ".py",
   "mimetype": "text/x-python",
   "name": "python",
   "nbconvert_exporter": "python",
   "pygments_lexer": "ipython3",
   "version": "3.6.4"
  }
 },
 "nbformat": 4,
 "nbformat_minor": 2
}

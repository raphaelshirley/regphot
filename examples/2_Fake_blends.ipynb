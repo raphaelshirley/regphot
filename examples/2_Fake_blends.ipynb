{
 "cells": [
  {
   "cell_type": "markdown",
   "metadata": {},
   "source": [
    "# Create fake images of gaussian psfs and compare evidence.\n",
    "\n",
    "\n"
   ]
  },
  {
   "cell_type": "code",
   "execution_count": 1,
   "metadata": {},
   "outputs": [],
   "source": [
    "import numpy as np\n",
    "\n",
    "from astropy.io import fits, ascii\n",
    "from astropy.coordinates import SkyCoord, Angle\n",
    "from astropy import units as u\n",
    "from astropy import constants as const\n",
    "from astropy import wcs\n",
    "from astropy.convolution import Gaussian2DKernel, convolve\n",
    "from astropy.table import Table, Column, join, hstack\n",
    "\n",
    "import json\n",
    "\n",
    "\n",
    "import scipy.stats, scipy\n",
    "\n",
    "import matplotlib.pyplot as plt\n",
    "\n",
    "\n",
    "\n",
    "\n",
    "import pymultinest\n",
    "from pymultinest.solve import solve\n",
    "\n",
    "\n",
    "import math, os\n",
    "\n",
    "import scipy\n",
    "import scipy.interpolate\n",
    "import scipy.ndimage\n",
    "\n",
    "import time\n",
    "\n",
    "%matplotlib inline\n",
    "#%config InlineBackend.figure_format = 'svg'\n",
    "import matplotlib.pyplot as plt\n",
    "from matplotlib.colors import LogNorm\n",
    "plt.rc('figure', figsize=(10, 6))\n"
   ]
  },
  {
   "cell_type": "markdown",
   "metadata": {},
   "source": [
    "## Simple image tests\n",
    "\n",
    "We were given some example code from Jason Glenn. To begin we test that we can open the images and use them as anticipated. The code had to be changed from Python 2 to 3."
   ]
  },
  {
   "cell_type": "code",
   "execution_count": 2,
   "metadata": {},
   "outputs": [],
   "source": [
    "#data_folder = \"/Volumes/Raph500/GEP\"\n",
    "DAT_FOL = './' #\"/Users/rs548/GitHub/GEP\"\n",
    "OUT_FOL='./data/fakes/'"
   ]
  },
  {
   "cell_type": "code",
   "execution_count": 3,
   "metadata": {},
   "outputs": [
    {
     "data": {
      "text/plain": [
       "<matplotlib.image.AxesImage at 0x111d810f0>"
      ]
     },
     "execution_count": 3,
     "metadata": {},
     "output_type": "execute_result"
    },
    {
     "data": {
      "image/png": "[encoded data removed]",
      "text/plain": [
       "<Figure size 432x288 with 1 Axes>"
      ]
     },
     "metadata": {},
     "output_type": "display_data"
    }
   ],
   "source": [
    "def make_fake_image(n_gaussians, \n",
    "                    psf_size   = 2.,         #pixels \n",
    "                    image_size = 10,         #pixels \n",
    "                    buffer     = 5,          #pixels\n",
    "                    background = 0.,         #uJy\n",
    "                    flux_range = [10., 100.], #uJy\n",
    "                    depth      = 0.,        #uJy\n",
    "                    save       = False\n",
    "                   ):\n",
    "    \"\"\"\n",
    "    Make a fake image with a given number of Gaussians\n",
    "    \n",
    "    Randomly choose n fluxes and put n Gaussians with those fluxes at \n",
    "    random positions.\n",
    "    \n",
    "    This will be used to test algorithms for calculating the \n",
    "    number of objects.\n",
    "    \n",
    "    Inputs\n",
    "    ------\n",
    "    n_gaussians: int\n",
    "        Number of gaussian objects to add to image\n",
    "    psf_size: float\n",
    "        Point Spread Function (PSF) standard deviation in pixel scale.\n",
    "    image_size: int\n",
    "        The number of pixels in the central square region.\n",
    "    buffer: int\n",
    "        The number of pixels to border the central region.\n",
    "    background: float\n",
    "        Background to add to every pixel.\n",
    "    flux_range: list of two floats\n",
    "        Lower and upper flux to uniformly sample from in uJy.\n",
    "    depth: float\n",
    "        Standard deviation of Gaussian noise to add to image.\n",
    "        \n",
    "    \n",
    "    Returns\n",
    "    -------\n",
    "    image: np.array\n",
    "        2D array with n gaussians randomly placed around central pixel space\n",
    "    \"\"\"\n",
    "    \n",
    "    psf = Gaussian2DKernel(psf_size,x_size=101,y_size=101)\n",
    "    \n",
    "    image = np.full([image_size + 2*buffer,image_size + 2*buffer], 0.)\n",
    "    \n",
    "    for gal in np.arange(n_gaussians):\n",
    "        gal_x = np.random.choice(np.arange(image_size))\n",
    "        gal_y = np.random.choice(np.arange(image_size))\n",
    "        gal_flux = np.random.uniform(flux_range[0],flux_range[1])\n",
    "        image[gal_y + buffer, gal_x + buffer] = gal_flux\n",
    "        #print(\"Object {}: x = {}, y = {}, flux = {}\".format(gal, gal_x, gal_y, gal_flux))\n",
    "    \n",
    "    image = convolve(image, psf)\n",
    "    \n",
    "    # Add background\n",
    "    image = image + background\n",
    "    \n",
    "    # Add noise\n",
    "    noise = depth * np.random.randn(image.shape[0], image.shape[1])\n",
    "    image = image + noise\n",
    "    \n",
    "    # Save image with key info\n",
    "    if save:\n",
    "        np.save(OUT_FOL + 'fake_x{}_y{}_f{}_t{}.npy'.format(gal_x, gal_y, gal_flux, time.time()), image)\n",
    "    \n",
    "    \n",
    "    \n",
    "    return image\n",
    "    \n",
    "    \n",
    "    \n",
    "test_image = make_fake_image(3, save=True, depth=0.1)\n",
    "plt.imshow(test_image)"
   ]
  },
  {
   "cell_type": "code",
   "execution_count": 4,
   "metadata": {},
   "outputs": [
    {
     "data": {
      "text/plain": [
       "<matplotlib.image.AxesImage at 0x111e76f60>"
      ]
     },
     "execution_count": 4,
     "metadata": {},
     "output_type": "execute_result"
    },
    {
     "data": {
      "image/png": "[encoded data removed]",
      "text/plain": [
       "<Figure size 432x288 with 1 Axes>"
      ]
     },
     "metadata": {},
     "output_type": "display_data"
    }
   ],
   "source": [
    "def make_model_image(n_gaussians, \n",
    "                     positions,        \n",
    "                     fluxes,                  #uJy\n",
    "                     psf_size   = 2.,         #pixels \n",
    "                     image_size = 10,         #pixels \n",
    "                     buffer     = 5,          #pixels\n",
    "                     noise      = None,\n",
    "                     background = 0.,  #uJy\n",
    "                     save       = False\n",
    "                    ):\n",
    "    \"\"\"\n",
    "    Make a model image with a given number of Gaussians\n",
    "    \n",
    "    Randomly choose n fluxes and put n Gaussians with those fluxes at \n",
    "    random positions.\n",
    "    \n",
    "    This will be used to test algorithms for calculating the \n",
    "    number of objects.\n",
    "    \n",
    "    Inputs\n",
    "    ------\n",
    "    n_gaussians: int\n",
    "        Number of gaussian objects to add to image\n",
    "    psf_size: float\n",
    "        Point Spread Function (PSF) standard deviation in pixel scale.\n",
    "    image_size: int\n",
    "        The number of pixels in the central square region.\n",
    "    buffer: int\n",
    "        The number of pixels to border the central region.\n",
    "    background: float\n",
    "        Background to add to every pixel.\n",
    "        \n",
    "    \n",
    "    Returns\n",
    "    -------\n",
    "    image: np.array\n",
    "        2D array with model image\n",
    "    \"\"\"\n",
    "    #print(\"make model called\")\n",
    "    psf = Gaussian2DKernel(psf_size,x_size=101,y_size=101)\n",
    "    \n",
    "    model_image = np.full([image_size + 2*buffer,image_size + 2*buffer], 0.)\n",
    "    \n",
    "    #print(\"before loop\")\n",
    "    for n, gal in enumerate(positions):\n",
    "        gal_x = gal[0]\n",
    "        gal_y = gal[1]\n",
    "        #print('gal_x: {}, gal_y: {}'.format(gal_x,gal_y))\n",
    "        gal_flux = fluxes[n]\n",
    "        #print(gal_flux)\n",
    "        model_image[gal_y + buffer, gal_x + buffer] = gal_flux\n",
    "        #print(\"loop {} done\".format(n))\n",
    "    \n",
    "    model_image = convolve(model_image, psf)\n",
    "    \n",
    "    # Add background\n",
    "    model_image = model_image + background\n",
    "    \n",
    "    # Add noise\n",
    "    if noise != None:\n",
    "        noise = noise * np.random.randn(model_image.shape[0], model_image.shape[1])\n",
    "        model_image = model_image + noise\n",
    "    \n",
    "    # Save image with key info\n",
    "    if save:\n",
    "        np.save(OUT_FOL + 'fake_x{}_y{}_f{}_t{}.npy'.format(gal_x, gal_y, gal_flux, time.time()), image)\n",
    "    \n",
    "    \n",
    "    #print(\"Make model finished\")\n",
    "    return model_image\n",
    "    \n",
    "\n",
    "    \n",
    "test_model = make_model_image(3, [[9,0], [8,9], [4,8]], [75., 29., 89.], noise = 0.1)\n",
    "plt.imshow(test_model)"
   ]
  },
  {
   "cell_type": "markdown",
   "metadata": {},
   "source": [
    "## PyMultiNest Example\n",
    "\n",
    "The example evidence calculations are for the egg box problem presented in Feroz et al (2008)."
   ]
  },
  {
   "cell_type": "code",
   "execution_count": 6,
   "metadata": {},
   "outputs": [
    {
     "name": "stdout",
     "output_type": "stream",
     "text": [
      "  analysing data from chains/3-.txt\n",
      "\n",
      "evidence: 236.0 +- 0.1\n",
      "\n",
      "parameter values:\n",
      "              x : 14.335 +- 8.119\n",
      "              y : 15.483 +- 9.094\n"
     ]
    }
   ],
   "source": [
    "# probability function, taken from the eggbox problem.\n",
    "\n",
    "def myprior(cube):\n",
    "        return cube * 10 * np.pi\n",
    "\n",
    "def myloglike(cube):\n",
    "        chi = (np.cos(cube / 2.)).prod()\n",
    "        return (2. + chi)**5\n",
    "\n",
    "# number of dimensions our problem has\n",
    "parameters = [\"x\", \"y\"]\n",
    "#parameters = [\"x\", \"y\", \"z\", \"j\"]\n",
    "n_params = len(parameters)\n",
    "\n",
    "\n",
    "# name of the output files\n",
    "#prefix = \"chains/3-\"\n",
    "prefix = \"chains/{}-\".format(n_params + 1)\n",
    "\n",
    "# run MultiNest\n",
    "result = solve(LogLikelihood=myloglike, Prior=myprior,\n",
    "        n_dims=n_params, outputfiles_basename=prefix, verbose=True)\n",
    "\n",
    "print()\n",
    "print('evidence: %(logZ).1f +- %(logZerr).1f' % result)\n",
    "print()\n",
    "print('parameter values:')\n",
    "for name, col in zip(parameters, result['samples'].transpose()):\n",
    "        print('%15s : %.3f +- %.3f' % (name, col.mean(), col.std()))\n",
    "\n",
    "# make marginal plots by running:\n",
    "# $ python multinest_marginals.py chains/3-\n",
    "# For that, we need to store the parameter names:\n",
    "\n",
    "with open('{}params.json'.format(prefix), 'w') as f:\n",
    "    json.dump(parameters, f, indent=2)"
   ]
  },
  {
   "cell_type": "markdown",
   "metadata": {},
   "source": [
    "## Define prior and liklihood\n",
    "\n",
    "We want to define a prior for the parameters of n gaussians and a background.\n",
    "\n",
    "The model is background plus n Gaussians plus noise. Lets ignore the background for now and assume we know it is 0. We then have n Gaussians each with a uniformly distributed position and flux\n"
   ]
  },
  {
   "cell_type": "code",
   "execution_count": 9,
   "metadata": {},
   "outputs": [
    {
     "data": {
      "text/plain": [
       "array([  0.   ,   9.   ,  74.998,   8.   ,   9.   ,  28.99 ,   4.   ,\n",
       "         8.   ,  89.02 ])"
      ]
     },
     "execution_count": 9,
     "metadata": {},
     "output_type": "execute_result"
    }
   ],
   "source": [
    "def general_prior(n_gaussians, x_l, x_u, y_l, y_u, f_l, f_u):\n",
    "    \"\"\"\n",
    "    Return position in D-dimensional parameter space according to \n",
    "    location in D-dimensional unit hypercube.\n",
    "    \n",
    "    I.e. if one randomly samples from the uniformly distributed unit \n",
    "    hypercube and passes that sample to this function the result will\n",
    "    be randomly sampled from the parameter prior.\n",
    "    \n",
    "    The prior is defined by a transformation of the D-dimensional hypercube\n",
    "    \n",
    "    Inputs\n",
    "    ------\n",
    "    cube: array of floats\n",
    "        position in unit hypercube of random sample\n",
    "        \n",
    "    Returns\n",
    "    -------\n",
    "    prior: function object\n",
    "        The prior function that turns positions in the unit hypercube to \n",
    "        positions in parameter space.\n",
    "    \"\"\"\n",
    "    #print(\"general_prior called\")\n",
    "    def prior(cube):\n",
    "        \"\"\"Return position in parameter space given position in unit hypercube\n",
    "        \"\"\"\n",
    "        #print(\"prior called\")\n",
    "\n",
    "        out_cube = cube #.copy()\n",
    "        for n in np.arange(n_gaussians):\n",
    "            out_cube[0 + 3*n] = x_l + out_cube[0 + 3*n] * (x_u - x_l) # x pixel\n",
    "            out_cube[1 + 3*n] = y_l + out_cube[1 + 3*n] * (y_u - y_l) # y pixel\n",
    "            out_cube[2 + 3*n] = f_l + out_cube[2 + 3*n] * (f_u - f_l) # flux\n",
    "        return out_cube\n",
    "        \n",
    "    return prior\n",
    "\n",
    "n_gaussians = 3\n",
    "x_l = 0\n",
    "x_u = 10\n",
    "y_l = 0\n",
    "y_u = 10\n",
    "f_l = 10.\n",
    "f_u = 100.\n",
    "truth = [0, 9, 75., 8, 9, 29., 4, 8, 89.]\n",
    "truth_cube_close = np.array([0.,0.9,0.7222, 0.8, 0.9, 0.211, 0.4, 0.8, 0.878])\n",
    "general_prior(n_gaussians, x_l, x_u, y_l, y_u, f_l, f_u)(truth_cube_close)"
   ]
  },
  {
   "cell_type": "code",
   "execution_count": 10,
   "metadata": {},
   "outputs": [],
   "source": [
    "def chi_squared(image, model, error):\n",
    "    \"\"\"Return chi-squared for a given image and model\n",
    "    \n",
    "    Inputs\n",
    "    ------\n",
    "    image: np.array\n",
    "        The image to fit\n",
    "    model: np.array\n",
    "        The model image\n",
    "    \"\"\"\n",
    "    #Ignore constant term\n",
    "    chi_squared = -0.5 * np.sum((image - model)**2/ error**2 )\n",
    "    return chi_squared"
   ]
  },
  {
   "cell_type": "code",
   "execution_count": 11,
   "metadata": {},
   "outputs": [
    {
     "name": "stdout",
     "output_type": "stream",
     "text": [
      "close: -16332.119112915358\n",
      "far: -16331.219560436799\n"
     ]
    }
   ],
   "source": [
    "def general_loglike(n_gaussians, x_l, x_u, y_l, y_u, f_l, f_u, image, error=0.1):\n",
    "    \"\"\"Return Log10 liklihood for model made from unit hypercube parameter space\n",
    "    \"\"\"\n",
    "    #print(\"general_loglike called\")\n",
    "        \n",
    "    def loglike(cube):\n",
    "        \n",
    "        #print(\"loglike called\")\n",
    "\n",
    "    \n",
    "        # First get parameter values\n",
    "        #print('like prior calling {}'.format(n_gaussians))\n",
    "        #prior = general_prior(n_gaussians, x_l, x_u, y_l, y_u, f_l, f_u)\n",
    "        #parameters = prior(cube)\n",
    "        parameters = cube.copy()\n",
    "        #print(len(parameters))\n",
    "        #for n in np.arange(int(len(parameters)/3)):\n",
    "        #    print(n)\n",
    "        #    parameters[0 + 3*n] = x_l + parameters[0 + 3*n] * (x_u - x_l) # x pixel\n",
    "        #    parameters[1 + 3*n] = y_l + parameters[1 + 3*n] * (y_u - y_l) # y pixel\n",
    "        #    parameters[2 + 3*n] = f_l + parameters[2 + 3*n] * (f_u - f_l) # flux\n",
    "        \n",
    "        positions = []\n",
    "        fluxes = []\n",
    "        \n",
    "        for gal in np.arange(int(len(parameters)/3)):\n",
    "            positions += [[ int(parameters[0 + 3*gal] ), int( parameters[1 + 3*gal] ) ] ]\n",
    "            fluxes += [parameters[2 + 3*gal]]\n",
    "        \n",
    "        # then generate model image\n",
    "        #print(n_gaussians, positions, fluxes)\n",
    "        #print('before model')\n",
    "        model = make_model_image(n_gaussians, positions, fluxes)\n",
    "        #plt.imshow(model)\n",
    "        # Then calculate log chi squared\n",
    "        #print('before chisq')\n",
    "        loglike = chi_squared(image, model, error)\n",
    "        #print('end of loglike')\n",
    "        return loglike\n",
    "    \n",
    "    return loglike\n",
    "\n",
    "#[[9,0], [8,9], [4,8]], [75., 29., 89.]\n",
    "n_gaussians = 3\n",
    "x_l = 0\n",
    "x_u = 10\n",
    "y_l = 0\n",
    "y_u = 10\n",
    "f_l = 10.\n",
    "f_u = 100.\n",
    "image = test_model\n",
    "truth = [0, 9, 75., 8, 9, 29., 4, 8, 89.]\n",
    "truth_cube_far = np.array([0.1,0.1,0.1, 0.1, 0.1, 0.1, 0.1, 0.1, 0.1])\n",
    "truth_cube_far = [0.1,0.1,0.1, 0.1, 0.1, 0.1, 0.1, 0.1, 0.1]\n",
    "truth_cube_close = [0.,0.9,0.66, 0.8, 0.9, 0.21, 0.4, 0.8, 0.66]\n",
    "print(\"close: {}\".format(general_loglike(n_gaussians, x_l, x_u, y_l, y_u, f_l, f_u, image)(truth_cube_close)))\n",
    "print(\"far: {}\".format(general_loglike(n_gaussians, x_l, x_u, y_l, y_u, f_l, f_u, image)(truth_cube_far)))"
   ]
  },
  {
   "cell_type": "code",
   "execution_count": 12,
   "metadata": {},
   "outputs": [],
   "source": [
    "# run MultiNest for simple test\n",
    "n_gaussians = 2\n",
    "x_l = 0\n",
    "x_u = 10\n",
    "y_l = 0\n",
    "y_u = 10\n",
    "f_l = 10.\n",
    "f_u = 100.\n",
    "prefix = \"TEST_{}_{}\".format(n_gaussians, time.time())\n",
    "parameters = [ \"x\", \"y\", \"flux\", \"x2\", \"y2\", \"flux2\"]\n",
    "n_params = len(parameters)\n",
    "#image = make_model_image(3, [[9,0], [8,9], [4,8]], [75., 29., 89.], noise = 0.1)\n",
    "image = make_model_image(1, [[9,0]], [75.], noise = 0.1)\n",
    "\n",
    "\n",
    "prior = general_prior(n_gaussians, x_l, x_u, y_l, y_u, f_l, f_u)\n",
    "\n",
    "loglike = general_loglike(n_gaussians, x_l, x_u, y_l, y_u, f_l, f_u, image)"
   ]
  },
  {
   "cell_type": "code",
   "execution_count": 13,
   "metadata": {},
   "outputs": [
    {
     "name": "stdout",
     "output_type": "stream",
     "text": [
      "  analysing data from TEST_n3_1532536260.682024.txt\n"
     ]
    }
   ],
   "source": [
    "result = solve(LogLikelihood=loglike, \n",
    "               Prior=prior,\n",
    "               n_dims=n_params, outputfiles_basename=prefix, verbose=True)"
   ]
  },
  {
   "cell_type": "code",
   "execution_count": 14,
   "metadata": {},
   "outputs": [
    {
     "data": {
      "text/plain": [
       "{'logZ': -203.25361009774835,\n",
       " 'logZerr': 0.19079960733681656,\n",
       " 'samples': array([[  9.05226797,   0.19067478,  25.4773431 ,   9.46077883,\n",
       "           0.59381487,  76.50817025],\n",
       "        [  9.4161115 ,   0.12466906,  13.93447547,   9.88140863,\n",
       "           0.92831648,  72.02524824],\n",
       "        [  9.28136036,   0.40241729,  18.09331361,   9.62341207,\n",
       "           0.9006426 ,  72.08886356],\n",
       "        ..., \n",
       "        [  9.28280227,   0.49824056,  28.59185582,   9.86454596,\n",
       "           0.60222701,  74.51072018],\n",
       "        [  9.3137048 ,   0.38167998,  27.91460846,   9.65363785,\n",
       "           0.65687997,  74.47630846],\n",
       "        [  9.25328342,   0.41608895,  32.93826541,   9.9415342 ,\n",
       "           0.75953977,  74.47370713]])}"
      ]
     },
     "execution_count": 14,
     "metadata": {},
     "output_type": "execute_result"
    }
   ],
   "source": [
    "result"
   ]
  },
  {
   "cell_type": "markdown",
   "metadata": {},
   "source": [
    "## 2. Run test images on 1, 2, 3, 4, 5 and choose best"
   ]
  },
  {
   "cell_type": "code",
   "execution_count": null,
   "metadata": {},
   "outputs": [
    {
     "name": "stdout",
     "output_type": "stream",
     "text": [
      "  analysing data from TEST_1d_1532536411.811593.txt\n",
      "{'logZ': -6298.08424401537, 'logZerr': 0.15354079211995708, 'samples': array([[  5.38938998,   8.5358598 ,  97.52493392],\n",
      "       [  5.1465659 ,   8.31915462,  97.9471413 ],\n",
      "       [  5.38774752,   8.34729117,  98.25590455],\n",
      "       ..., \n",
      "       [  5.07208944,   8.46906541,  99.99518072],\n",
      "       [  5.09023497,   8.7049057 ,  99.94972438],\n",
      "       [  5.02651299,   8.62728411,  99.95686865]])}\n",
      "  analysing data from TEST_2d_1532536497.263247.txt\n",
      "{'logZ': -942.9204380348363, 'logZerr': 0.1915710625233501, 'samples': array([[  9.26568963e+00,   4.84047237e-01,   7.22703673e+01,\n",
      "          5.87646995e+00,   8.07262141e+00,   9.75560627e+01],\n",
      "       [  9.59927415e+00,   4.54642107e-01,   7.08862252e+01,\n",
      "          5.25849867e+00,   8.02646013e+00,   9.92259008e+01],\n",
      "       [  5.30639326e+00,   8.36326901e+00,   9.74034846e+01,\n",
      "          9.28871123e+00,   2.59769976e-01,   7.39153551e+01],\n",
      "       ..., \n",
      "       [  9.93805305e+00,   6.39148473e-03,   7.36074484e+01,\n",
      "          5.22253015e+00,   8.22657317e+00,   9.96902754e+01],\n",
      "       [  9.09732299e+00,   9.90467751e-01,   7.32670814e+01,\n",
      "          5.98627826e+00,   8.24032866e+00,   9.98532867e+01],\n",
      "       [  9.09732299e+00,   9.90467751e-01,   7.32670814e+01,\n",
      "          5.98627826e+00,   8.24032866e+00,   9.98532867e+01]])}\n",
      "  analysing data from TEST_3d_1532536746.140411.txt\n",
      "{'logZ': -219.86675551028756, 'logZerr': 0.22379111706285712, 'samples': array([[  9.75146695,   0.58190725,  71.13071323, ...,   8.20772403,\n",
      "          9.43926583,  30.64557949],\n",
      "       [  8.99317464,   9.22149836,  29.3335327 , ...,   4.25809426,\n",
      "          8.31760762,  89.04266804],\n",
      "       [  9.74063549,   0.85080954,  75.24349997, ...,   4.20372007,\n",
      "          8.88269281,  91.60949144],\n",
      "       ..., \n",
      "       [  9.52723036,   0.64328173,  73.14791533, ...,   8.78515063,\n",
      "          9.85031283,  28.63785067],\n",
      "       [  9.47754976,   0.89944098,  73.62134049, ...,   8.28689015,\n",
      "          9.70097247,  28.92764841],\n",
      "       [  9.47754976,   0.89944098,  73.62134049, ...,   8.28689015,\n",
      "          9.70097247,  28.92764841]])}\n",
      "  analysing data from TEST_4d_1532537341.613552.txt\n",
      "{'logZ': -225.34543933336565, 'logZerr': 0.252063848005627, 'samples': array([[  8.84131565,   9.25453235,  18.7381455 , ...,   4.65673468,\n",
      "          8.51733572,  87.00317085],\n",
      "       [  4.06621779,   8.46190772,  85.71352793, ...,   9.70743127,\n",
      "          9.14442767,  12.44570509],\n",
      "       [  8.49192645,   9.2441626 ,  38.97088   , ...,   9.33473822,\n",
      "          0.92652802,  72.88875561],\n",
      "       ..., \n",
      "       [  8.42996019,   9.28281245,  29.68828125, ...,   9.39969764,\n",
      "          0.91679729,  73.39725533],\n",
      "       [  8.88880696,   9.01584684,  29.01562669, ...,   9.75560593,\n",
      "          0.55207716,  73.45981317],\n",
      "       [  8.7593052 ,   9.00544454,  28.76323432, ...,   9.47875569,\n",
      "          0.44723385,  73.57218476]])}\n"
     ]
    }
   ],
   "source": [
    "# run MultiNest for simple test\n",
    "x_l = 0\n",
    "x_u = 10\n",
    "y_l = 0\n",
    "y_u = 10\n",
    "f_l = 10.\n",
    "f_u = 100.\n",
    "image = test_model\n",
    "for n in np.arange(1,6):\n",
    "    \n",
    "    prefix = OUT_FOL + \"chains/TEST_{}d_{}\".format(n,time.time())\n",
    "    \n",
    "    prior = general_prior(n, x_l, x_u, y_l, y_u, f_l, f_u)\n",
    "    \n",
    "    loglike = general_loglike(n, x_l, x_u, y_l, y_u, f_l, f_u, image)\n",
    "    \n",
    "    parameters = []\n",
    "    for ob in np.arange(n):\n",
    "        parameters += [\"x_\".format(ob), \"y_\".format(ob), \"f_\".format(ob)]\n",
    "    with open('{}params.json'.format(prefix), 'w') as f:\n",
    "        json.dump(parameters, f, indent=2)\n",
    "        \n",
    "    \n",
    "    result = solve(LogLikelihood=loglike, \n",
    "               Prior=prior,\n",
    "               n_dims=n*3, outputfiles_basename=prefix, verbose=True)\n",
    "    \n",
    "    np.save(OUT_FOL + \"result_{}d_{}\".format(n,time.time()), result)\n",
    "    \n",
    "    print(result)"
   ]
  }
 ],
 "metadata": {
  "anaconda-cloud": {},
  "kernelspec": {
   "display_name": "Python (herschelhelp_internal)",
   "language": "python",
   "name": "helpint"
  },
  "language_info": {
   "codemirror_mode": {
    "name": "ipython",
    "version": 3
   },
   "file_extension": ".py",
   "mimetype": "text/x-python",
   "name": "python",
   "nbconvert_exporter": "python",
   "pygments_lexer": "ipython3",
   "version": "3.6.5"
  }
 },
 "nbformat": 4,
 "nbformat_minor": 2
}

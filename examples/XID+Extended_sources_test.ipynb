{
 "cells": [
  {
   "cell_type": "markdown",
   "metadata": {},
   "source": [
    "# Extended sources in SPIRE maps\n",
    "\n",
    "This notebook was originally written by Peter Hurley to investigate the possibility of using XID+ to get flux posterior distributions for resolved objects in the far infrared. This is to be done by using fitted profiles from optical images. "
   ]
  },
  {
   "cell_type": "code",
   "execution_count": 1,
   "metadata": {
    "collapsed": false
   },
   "outputs": [],
   "source": [
    "import warnings\n",
    "from matplotlib.cbook import MatplotlibDeprecationWarning\n",
    "warnings.simplefilter('ignore', MatplotlibDeprecationWarning)\n",
    "warnings.simplefilter('ignore', UserWarning)\n",
    "warnings.simplefilter('ignore', RuntimeWarning)\n",
    "warnings.simplefilter('ignore',UnicodeWarning)\n",
    "#warnings.simplefilter('ignore',VisibleDeprecationWarning)\n",
    "\n",
    "import numpy as np\n",
    "import scipy.stats as st\n",
    "import pylab as plt\n",
    "from pymoc import MOC\n",
    "\n",
    "import xidplus\n",
    "from xidplus.stan_fit import SPIRE\n",
    "from xidplus import posterior_maps as postmaps\n",
    "\n",
    "from astropy.io import fits\n",
    "from astropy import wcs\n",
    "from astropy.table import Table\n",
    "from astropy.convolution import Gaussian2DKernel\n",
    "from astropy.convolution import convolve\n",
    "from astropy.coordinates import SkyCoord\n",
    "from astropy import units as u\n",
    "\n",
    "import pickle\n",
    "import seaborn as sns\n",
    "import pandas as pd\n",
    "sns.set(color_codes=True)\n",
    "\n",
    "%matplotlib inline\n",
    "import aplpy"
   ]
  },
  {
   "cell_type": "code",
   "execution_count": 2,
   "metadata": {
    "collapsed": false
   },
   "outputs": [],
   "source": [
    "hdulist_250=fits.open('./data/XMM-LSS-NEST_image_250_SMAP_v6.0.fits')\n",
    "im250phdu=hdulist_250[0].header\n",
    "im250hdu=hdulist_250[1].header\n",
    "im250=hdulist_250[1].data*1.0E3\n",
    "nim250=hdulist_250[2].data*1.0E3\n",
    "w_250 = wcs.WCS(hdulist_250[1].header)\n",
    "pixsize250=3600.0*w_250.wcs.cd[1,1] #pixel size (in arcseconds)\n",
    "#hdulist.close()\n",
    "\n",
    "hdulist_350=fits.open('./data/XMM-LSS-NEST_image_350_SMAP_v6.0.fits')\n",
    "im350phdu=hdulist_350[0].header\n",
    "im350hdu=hdulist_350[1].header\n",
    "im350=hdulist_350[1].data*1.0E3\n",
    "nim350=hdulist_350[2].data*1.0E3\n",
    "w_350 = wcs.WCS(hdulist_350[1].header)\n",
    "pixsize350=3600.0*w_350.wcs.cd[1,1] #pixel size (in arcseconds)\n",
    "#hdulist.close()\n",
    "\n",
    "hdulist_500=fits.open('./data/XMM-LSS-NEST_image_500_SMAP_v6.0.fits')\n",
    "im500phdu=hdulist_500[0].header\n",
    "im500hdu=hdulist_500[1].header\n",
    "im500=hdulist_500[1].data*1.0E3\n",
    "nim500=hdulist_500[2].data*1.0E3\n",
    "w_500 = wcs.WCS(hdulist_500[1].header)\n",
    "pixsize500=3600.0*w_500.wcs.cd[1,1] #pixel size (in arcseconds)\n",
    "#hdulist.close()"
   ]
  },
  {
   "cell_type": "code",
   "execution_count": 3,
   "metadata": {
    "collapsed": false
   },
   "outputs": [],
   "source": [
    "source=Table.read('./data/extended_source_test.xml')\n"
   ]
  },
  {
   "cell_type": "code",
   "execution_count": 4,
   "metadata": {
    "collapsed": false
   },
   "outputs": [],
   "source": [
    "IRAC_sources=Table.read('./data/UDS_PACSxID24_v1.fits')"
   ]
  },
  {
   "cell_type": "code",
   "execution_count": 5,
   "metadata": {
    "collapsed": false
   },
   "outputs": [
    {
     "data": {
      "text/html": [
       "&lt;Table length=69614&gt;\n",
       "<table id=\"table5629080576\" class=\"table-striped table-bordered table-condensed\">\n",
       "<thead><tr><th>XID</th><th>RA</th><th>Dec</th><th>F_PACS_100__A4</th><th>F_PACS_100__A5</th><th>F_PACS_100__A6</th><th>F_PACS_100__A7</th><th>F_PACS_100__A8</th><th>F_PACS_100__A10</th><th>F_PACS_100</th><th>Ferr_PACS_100__A4</th><th>Ferr_PACS_100__A5</th><th>Ferr_PACS_100__A6</th><th>Ferr_PACS_100__A7</th><th>Ferr_PACS_100__A8</th><th>Ferr_PACS_100__A10</th><th>Ferr_PACS_100</th><th>F_PACS_100__SKY</th><th>F_PACS_160__A4</th><th>F_PACS_160__A5</th><th>F_PACS_160__A6</th><th>F_PACS_160__A7</th><th>F_PACS_160__A8</th><th>F_PACS_160__A10</th><th>F_PACS_160</th><th>Ferr_PACS_160__A4</th><th>Ferr_PACS_160__A5</th><th>Ferr_PACS_160__A6</th><th>Ferr_PACS_160__A7</th><th>Ferr_PACS_160__A8</th><th>Ferr_PACS_160__A10</th><th>Ferr_PACS_160</th><th>F_PACS_160__SKY</th><th>HELP_ID</th></tr></thead>\n",
       "<thead><tr><th></th><th>deg</th><th>deg</th><th>mJy</th><th>mJy</th><th>mJy</th><th>mJy</th><th>mJy</th><th>mJy</th><th>mJy</th><th>mJy</th><th>mJy</th><th>mJy</th><th>mJy</th><th>mJy</th><th>mJy</th><th>mJy</th><th>mJy / pix</th><th>mJy</th><th>mJy</th><th>mJy</th><th>mJy</th><th>mJy</th><th>mJy</th><th>mJy</th><th>mJy</th><th>mJy</th><th>mJy</th><th>mJy</th><th>mJy</th><th>mJy</th><th>mJy</th><th>mJy / pix</th><th></th></tr></thead>\n",
       "<thead><tr><th>int32</th><th>float64</th><th>float64</th><th>float32</th><th>float32</th><th>float32</th><th>float32</th><th>float32</th><th>float32</th><th>float32</th><th>float32</th><th>float32</th><th>float32</th><th>float32</th><th>float32</th><th>float32</th><th>float32</th><th>float32</th><th>float32</th><th>float32</th><th>float32</th><th>float32</th><th>float32</th><th>float32</th><th>float32</th><th>float32</th><th>float32</th><th>float32</th><th>float32</th><th>float32</th><th>float32</th><th>float32</th><th>float32</th><th>str25</th></tr></thead>\n",
       "<tr><td>35164</td><td>33.400427</td><td>-3.532034</td><td>nan</td><td>nan</td><td>nan</td><td>nan</td><td>nan</td><td>nan</td><td>nan</td><td>nan</td><td>nan</td><td>nan</td><td>nan</td><td>nan</td><td>nan</td><td>nan</td><td>0.0</td><td>nan</td><td>nan</td><td>nan</td><td>nan</td><td>nan</td><td>nan</td><td>nan</td><td>nan</td><td>nan</td><td>nan</td><td>nan</td><td>nan</td><td>nan</td><td>nan</td><td>0.0</td><td>XMM-PACSxID24-UDS-1-00001</td></tr>\n",
       "<tr><td>69559</td><td>33.402787</td><td>-3.552514</td><td>nan</td><td>nan</td><td>nan</td><td>nan</td><td>nan</td><td>nan</td><td>nan</td><td>nan</td><td>nan</td><td>nan</td><td>nan</td><td>nan</td><td>nan</td><td>nan</td><td>0.0</td><td>nan</td><td>nan</td><td>nan</td><td>nan</td><td>nan</td><td>nan</td><td>nan</td><td>nan</td><td>nan</td><td>nan</td><td>nan</td><td>nan</td><td>nan</td><td>nan</td><td>0.0</td><td>XMM-PACSxID24-UDS-1-00002</td></tr>\n",
       "<tr><td>69612</td><td>33.402787</td><td>-3.529534</td><td>nan</td><td>nan</td><td>nan</td><td>nan</td><td>nan</td><td>nan</td><td>nan</td><td>nan</td><td>nan</td><td>nan</td><td>nan</td><td>nan</td><td>nan</td><td>nan</td><td>0.0</td><td>nan</td><td>nan</td><td>nan</td><td>nan</td><td>nan</td><td>nan</td><td>nan</td><td>nan</td><td>nan</td><td>nan</td><td>nan</td><td>nan</td><td>nan</td><td>nan</td><td>0.0</td><td>XMM-PACSxID24-UDS-1-00003</td></tr>\n",
       "<tr><td>35151</td><td>33.407827</td><td>-3.534404</td><td>nan</td><td>nan</td><td>nan</td><td>nan</td><td>nan</td><td>nan</td><td>nan</td><td>nan</td><td>nan</td><td>nan</td><td>nan</td><td>nan</td><td>nan</td><td>nan</td><td>0.0</td><td>nan</td><td>nan</td><td>nan</td><td>nan</td><td>nan</td><td>nan</td><td>nan</td><td>nan</td><td>nan</td><td>nan</td><td>nan</td><td>nan</td><td>nan</td><td>nan</td><td>0.0</td><td>XMM-PACSxID24-UDS-1-00004</td></tr>\n",
       "<tr><td>35141</td><td>33.409607</td><td>-3.534104</td><td>nan</td><td>nan</td><td>nan</td><td>nan</td><td>nan</td><td>nan</td><td>nan</td><td>nan</td><td>nan</td><td>nan</td><td>nan</td><td>nan</td><td>nan</td><td>nan</td><td>0.0</td><td>nan</td><td>nan</td><td>nan</td><td>nan</td><td>nan</td><td>nan</td><td>nan</td><td>nan</td><td>nan</td><td>nan</td><td>nan</td><td>nan</td><td>nan</td><td>nan</td><td>0.0</td><td>XMM-PACSxID24-UDS-1-00005</td></tr>\n",
       "<tr><td>35126</td><td>33.412387</td><td>-3.544484</td><td>nan</td><td>nan</td><td>nan</td><td>nan</td><td>nan</td><td>nan</td><td>nan</td><td>nan</td><td>nan</td><td>nan</td><td>nan</td><td>nan</td><td>nan</td><td>nan</td><td>0.0</td><td>nan</td><td>nan</td><td>nan</td><td>nan</td><td>nan</td><td>nan</td><td>nan</td><td>nan</td><td>nan</td><td>nan</td><td>nan</td><td>nan</td><td>nan</td><td>nan</td><td>0.0</td><td>XMM-PACSxID24-UDS-1-00006</td></tr>\n",
       "<tr><td>69545</td><td>33.413037</td><td>-3.555364</td><td>nan</td><td>nan</td><td>nan</td><td>nan</td><td>nan</td><td>nan</td><td>nan</td><td>nan</td><td>nan</td><td>nan</td><td>nan</td><td>nan</td><td>nan</td><td>nan</td><td>0.0</td><td>nan</td><td>nan</td><td>nan</td><td>nan</td><td>nan</td><td>nan</td><td>nan</td><td>nan</td><td>nan</td><td>nan</td><td>nan</td><td>nan</td><td>nan</td><td>nan</td><td>0.0</td><td>XMM-PACSxID24-UDS-1-00007</td></tr>\n",
       "<tr><td>69613</td><td>33.421437</td><td>-3.521034</td><td>nan</td><td>nan</td><td>nan</td><td>nan</td><td>nan</td><td>nan</td><td>nan</td><td>nan</td><td>nan</td><td>nan</td><td>nan</td><td>nan</td><td>nan</td><td>nan</td><td>0.0</td><td>nan</td><td>nan</td><td>nan</td><td>nan</td><td>nan</td><td>nan</td><td>nan</td><td>nan</td><td>nan</td><td>nan</td><td>nan</td><td>nan</td><td>nan</td><td>nan</td><td>0.0</td><td>XMM-PACSxID24-UDS-1-00008</td></tr>\n",
       "<tr><td>69556</td><td>33.422047</td><td>-3.545824</td><td>nan</td><td>nan</td><td>nan</td><td>nan</td><td>nan</td><td>nan</td><td>nan</td><td>nan</td><td>nan</td><td>nan</td><td>nan</td><td>nan</td><td>nan</td><td>nan</td><td>0.0</td><td>nan</td><td>nan</td><td>nan</td><td>nan</td><td>nan</td><td>nan</td><td>nan</td><td>nan</td><td>nan</td><td>nan</td><td>nan</td><td>nan</td><td>nan</td><td>nan</td><td>0.0</td><td>XMM-PACSxID24-UDS-1-00009</td></tr>\n",
       "<tr><td>...</td><td>...</td><td>...</td><td>...</td><td>...</td><td>...</td><td>...</td><td>...</td><td>...</td><td>...</td><td>...</td><td>...</td><td>...</td><td>...</td><td>...</td><td>...</td><td>...</td><td>...</td><td>...</td><td>...</td><td>...</td><td>...</td><td>...</td><td>...</td><td>...</td><td>...</td><td>...</td><td>...</td><td>...</td><td>...</td><td>...</td><td>...</td><td>...</td><td>...</td></tr>\n",
       "<tr><td>35346</td><td>37.189607</td><td>-5.359364</td><td>nan</td><td>nan</td><td>nan</td><td>nan</td><td>nan</td><td>nan</td><td>nan</td><td>nan</td><td>nan</td><td>nan</td><td>nan</td><td>nan</td><td>nan</td><td>nan</td><td>0.0</td><td>nan</td><td>nan</td><td>nan</td><td>nan</td><td>nan</td><td>nan</td><td>nan</td><td>nan</td><td>nan</td><td>nan</td><td>nan</td><td>nan</td><td>nan</td><td>nan</td><td>0.0</td><td>XMM-PACSxID24-UDS-1-69605</td></tr>\n",
       "<tr><td>139</td><td>37.191917</td><td>-5.397384</td><td>nan</td><td>nan</td><td>nan</td><td>nan</td><td>nan</td><td>nan</td><td>nan</td><td>nan</td><td>nan</td><td>nan</td><td>nan</td><td>nan</td><td>nan</td><td>nan</td><td>0.0</td><td>nan</td><td>nan</td><td>nan</td><td>nan</td><td>nan</td><td>nan</td><td>nan</td><td>nan</td><td>nan</td><td>nan</td><td>nan</td><td>nan</td><td>nan</td><td>nan</td><td>0.0</td><td>XMM-PACSxID24-UDS-1-69606</td></tr>\n",
       "<tr><td>118</td><td>37.192737</td><td>-5.400864</td><td>nan</td><td>nan</td><td>nan</td><td>nan</td><td>nan</td><td>nan</td><td>nan</td><td>nan</td><td>nan</td><td>nan</td><td>nan</td><td>nan</td><td>nan</td><td>nan</td><td>0.0</td><td>nan</td><td>nan</td><td>nan</td><td>nan</td><td>nan</td><td>nan</td><td>nan</td><td>nan</td><td>nan</td><td>nan</td><td>nan</td><td>nan</td><td>nan</td><td>nan</td><td>0.0</td><td>XMM-PACSxID24-UDS-1-69607</td></tr>\n",
       "<tr><td>35313</td><td>37.192897</td><td>-5.372624</td><td>nan</td><td>nan</td><td>nan</td><td>nan</td><td>nan</td><td>nan</td><td>nan</td><td>nan</td><td>nan</td><td>nan</td><td>nan</td><td>nan</td><td>nan</td><td>nan</td><td>0.0</td><td>nan</td><td>nan</td><td>nan</td><td>nan</td><td>nan</td><td>nan</td><td>nan</td><td>nan</td><td>nan</td><td>nan</td><td>nan</td><td>nan</td><td>nan</td><td>nan</td><td>0.0</td><td>XMM-PACSxID24-UDS-1-69608</td></tr>\n",
       "<tr><td>222</td><td>37.192937</td><td>-5.360784</td><td>nan</td><td>nan</td><td>nan</td><td>nan</td><td>nan</td><td>nan</td><td>nan</td><td>nan</td><td>nan</td><td>nan</td><td>nan</td><td>nan</td><td>nan</td><td>nan</td><td>0.0</td><td>nan</td><td>nan</td><td>nan</td><td>nan</td><td>nan</td><td>nan</td><td>nan</td><td>nan</td><td>nan</td><td>nan</td><td>nan</td><td>nan</td><td>nan</td><td>nan</td><td>0.0</td><td>XMM-PACSxID24-UDS-1-69609</td></tr>\n",
       "<tr><td>35325</td><td>37.194807</td><td>-5.378524</td><td>nan</td><td>nan</td><td>nan</td><td>nan</td><td>nan</td><td>nan</td><td>nan</td><td>nan</td><td>nan</td><td>nan</td><td>nan</td><td>nan</td><td>nan</td><td>nan</td><td>0.0</td><td>nan</td><td>nan</td><td>nan</td><td>nan</td><td>nan</td><td>nan</td><td>nan</td><td>nan</td><td>nan</td><td>nan</td><td>nan</td><td>nan</td><td>nan</td><td>nan</td><td>0.0</td><td>XMM-PACSxID24-UDS-1-69610</td></tr>\n",
       "<tr><td>35322</td><td>37.196767</td><td>-5.379374</td><td>nan</td><td>nan</td><td>nan</td><td>nan</td><td>nan</td><td>nan</td><td>nan</td><td>nan</td><td>nan</td><td>nan</td><td>nan</td><td>nan</td><td>nan</td><td>nan</td><td>0.0</td><td>nan</td><td>nan</td><td>nan</td><td>nan</td><td>nan</td><td>nan</td><td>nan</td><td>nan</td><td>nan</td><td>nan</td><td>nan</td><td>nan</td><td>nan</td><td>nan</td><td>0.0</td><td>XMM-PACSxID24-UDS-1-69611</td></tr>\n",
       "<tr><td>35198</td><td>37.199537</td><td>-5.443994</td><td>nan</td><td>nan</td><td>nan</td><td>nan</td><td>nan</td><td>nan</td><td>nan</td><td>nan</td><td>nan</td><td>nan</td><td>nan</td><td>nan</td><td>nan</td><td>nan</td><td>0.0</td><td>nan</td><td>nan</td><td>nan</td><td>nan</td><td>nan</td><td>nan</td><td>nan</td><td>nan</td><td>nan</td><td>nan</td><td>nan</td><td>nan</td><td>nan</td><td>nan</td><td>0.0</td><td>XMM-PACSxID24-UDS-1-69612</td></tr>\n",
       "<tr><td>35185</td><td>37.210767</td><td>-5.442134</td><td>nan</td><td>nan</td><td>nan</td><td>nan</td><td>nan</td><td>nan</td><td>nan</td><td>nan</td><td>nan</td><td>nan</td><td>nan</td><td>nan</td><td>nan</td><td>nan</td><td>0.0</td><td>nan</td><td>nan</td><td>nan</td><td>nan</td><td>nan</td><td>nan</td><td>nan</td><td>nan</td><td>nan</td><td>nan</td><td>nan</td><td>nan</td><td>nan</td><td>nan</td><td>0.0</td><td>XMM-PACSxID24-UDS-1-69613</td></tr>\n",
       "<tr><td>44</td><td>37.212207</td><td>-5.434754</td><td>nan</td><td>nan</td><td>nan</td><td>nan</td><td>nan</td><td>nan</td><td>nan</td><td>nan</td><td>nan</td><td>nan</td><td>nan</td><td>nan</td><td>nan</td><td>nan</td><td>0.0</td><td>nan</td><td>nan</td><td>nan</td><td>nan</td><td>nan</td><td>nan</td><td>nan</td><td>nan</td><td>nan</td><td>nan</td><td>nan</td><td>nan</td><td>nan</td><td>nan</td><td>0.0</td><td>XMM-PACSxID24-UDS-1-69614</td></tr>\n",
       "</table>"
      ],
      "text/plain": [
       "<Table length=69614>\n",
       " XID      RA       Dec    ... F_PACS_160__SKY          HELP_ID         \n",
       "         deg       deg    ...    mJy / pix                             \n",
       "int32  float64   float64  ...     float32               str25          \n",
       "----- --------- --------- ... --------------- -------------------------\n",
       "35164 33.400427 -3.532034 ...             0.0 XMM-PACSxID24-UDS-1-00001\n",
       "69559 33.402787 -3.552514 ...             0.0 XMM-PACSxID24-UDS-1-00002\n",
       "69612 33.402787 -3.529534 ...             0.0 XMM-PACSxID24-UDS-1-00003\n",
       "35151 33.407827 -3.534404 ...             0.0 XMM-PACSxID24-UDS-1-00004\n",
       "35141 33.409607 -3.534104 ...             0.0 XMM-PACSxID24-UDS-1-00005\n",
       "35126 33.412387 -3.544484 ...             0.0 XMM-PACSxID24-UDS-1-00006\n",
       "69545 33.413037 -3.555364 ...             0.0 XMM-PACSxID24-UDS-1-00007\n",
       "69613 33.421437 -3.521034 ...             0.0 XMM-PACSxID24-UDS-1-00008\n",
       "69556 33.422047 -3.545824 ...             0.0 XMM-PACSxID24-UDS-1-00009\n",
       "  ...       ...       ... ...             ...                       ...\n",
       "35346 37.189607 -5.359364 ...             0.0 XMM-PACSxID24-UDS-1-69605\n",
       "  139 37.191917 -5.397384 ...             0.0 XMM-PACSxID24-UDS-1-69606\n",
       "  118 37.192737 -5.400864 ...             0.0 XMM-PACSxID24-UDS-1-69607\n",
       "35313 37.192897 -5.372624 ...             0.0 XMM-PACSxID24-UDS-1-69608\n",
       "  222 37.192937 -5.360784 ...             0.0 XMM-PACSxID24-UDS-1-69609\n",
       "35325 37.194807 -5.378524 ...             0.0 XMM-PACSxID24-UDS-1-69610\n",
       "35322 37.196767 -5.379374 ...             0.0 XMM-PACSxID24-UDS-1-69611\n",
       "35198 37.199537 -5.443994 ...             0.0 XMM-PACSxID24-UDS-1-69612\n",
       "35185 37.210767 -5.442134 ...             0.0 XMM-PACSxID24-UDS-1-69613\n",
       "   44 37.212207 -5.434754 ...             0.0 XMM-PACSxID24-UDS-1-69614"
      ]
     },
     "execution_count": 5,
     "metadata": {},
     "output_type": "execute_result"
    }
   ],
   "source": [
    "IRAC_sources"
   ]
  },
  {
   "cell_type": "code",
   "execution_count": 6,
   "metadata": {
    "collapsed": false
   },
   "outputs": [
    {
     "name": "stderr",
     "output_type": "stream",
     "text": [
      "WARNING: UnitsWarning: 'mag.asec' did not parse as fits unit: At col 4, Unit 'asec' not supported by the FITS standard. Did you mean arcsec? [astropy.units.core]\n",
      "WARNING:astropy:UnitsWarning: 'mag.asec' did not parse as fits unit: At col 4, Unit 'asec' not supported by the FITS standard. Did you mean arcsec?\n",
      "WARNING: UnitsWarning: 'dn' did not parse as fits unit: At col 0, Unit 'dn' not supported by the FITS standard. Did you mean dN or daN? [astropy.units.core]\n",
      "WARNING:astropy:UnitsWarning: 'dn' did not parse as fits unit: At col 0, Unit 'dn' not supported by the FITS standard. Did you mean dN or daN?\n"
     ]
    }
   ],
   "source": [
    "WISE_sources=Table.read('./data/WXSC.phot.clean_all.fits')"
   ]
  },
  {
   "cell_type": "code",
   "execution_count": 7,
   "metadata": {
    "collapsed": false
   },
   "outputs": [],
   "source": [
    "#Set some color info\n",
    "\n",
    "cmap=sns.cubehelix_palette(8, start=.5, rot=-.75,as_cmap=True)\n",
    "\n",
    "vmin=-1.7E1/1.0E3\n",
    "vmax=4.446e+01/1.0E3\n",
    "ra_zoom=source['RAJ2000']\n",
    "dec_zoom=source['DEJ2000']\n",
    "radius=0.05"
   ]
  },
  {
   "cell_type": "code",
   "execution_count": 8,
   "metadata": {
    "collapsed": false
   },
   "outputs": [],
   "source": [
    "\n",
    "c = SkyCoord(ra=ra_zoom, dec=dec_zoom)  \n",
    "catalog = SkyCoord(ra=WISE_sources['ra'], dec=WISE_sources['dec'])  \n",
    "idx, d2d, d3d = c.match_to_catalog_sky(catalog)  "
   ]
  },
  {
   "cell_type": "code",
   "execution_count": 9,
   "metadata": {
    "collapsed": false
   },
   "outputs": [
    {
     "data": {
      "text/html": [
       "&lt;Table length=1&gt;\n",
       "<table id=\"table5678019080\" class=\"table-striped table-bordered table-condensed\">\n",
       "<thead><tr><th>desig</th><th>ra</th><th>dec</th><th>w1best</th><th>w1berr</th><th>w1f</th><th>w2best</th><th>w2berr</th><th>w2f</th><th>w3best</th><th>w3berr</th><th>w3f</th><th>w4best</th><th>w4berr</th><th>w4f</th><th>W1snr</th><th>W2snr</th><th>W3snr</th><th>W4snr</th><th>tile</th><th>Riso</th><th>R2iso</th><th>R3iso</th><th>R4iso</th><th>ba</th><th>pa</th><th>flux_1</th><th>err_1</th><th>mag_1</th><th>merr_1</th><th>flg1</th><th>flux_2</th><th>err_2</th><th>mag_2</th><th>merr_2</th><th>flg2</th><th>flux_3</th><th>err_3</th><th>mag_3</th><th>merr_3</th><th>flg3</th><th>flux_4</th><th>err_4</th><th>mag_4</th><th>merr_4</th><th>flg4</th><th>W1W2</th><th>W1W2er</th><th>W2W3</th><th>W2W3er</th><th>W1W3</th><th>W1W3er</th><th>W3W4</th><th>W3W4er</th><th>meanSB_1</th><th>meanSB_2</th><th>meanSB_3</th><th>meanSB_4</th><th>sky_1</th><th>sig_1</th><th>sky_2</th><th>sig_2</th><th>sky_3</th><th>sig_3</th><th>sky_4</th><th>sig_4</th><th>SB_1</th><th>SB_2</th><th>SB_3</th><th>SB_4</th><th>scale_1a</th><th>scale_1b</th><th>beta_1a</th><th>beta_1b</th><th>scale_2a</th><th>scale_2b</th><th>beta_2a</th><th>beta_2b</th><th>scale_3a</th><th>scale_3b</th><th>beta_3a</th><th>beta+3b</th><th>scale_4a</th><th>scale_4b</th><th>beta_4a</th><th>beta_4b</th><th>Rtot_1</th><th>ftot_1</th><th>ftoterr_1</th><th>mtot_1</th><th>mterr1</th><th>Rtot_2</th><th>ftot_2</th><th>ftoterr_2</th><th>mtot_2</th><th>mterr2</th><th>Rtot_3</th><th>ftot_3</th><th>ftoterr_3</th><th>mtot_3</th><th>mterr3</th><th>Rtot_4</th><th>ftot_4</th><th>ftoterr_4</th><th>mtot_4</th><th>mterr4</th><th>Reff_1</th><th>SBeff_1</th><th>con_1</th><th>Reff_2</th><th>SBeff_2</th><th>con_2</th><th>Reff_3</th><th>SBeff_3</th><th>con_3</th><th>Reff_4</th><th>SBeff_4</th><th>con_4</th><th>R1conv</th><th>W1conv</th><th>uW1conv</th><th>R2conv</th><th>W2conv</th><th>uW2conv</th><th>R3conv</th><th>W3conv</th><th>uW3conv</th><th>R4conv</th><th>W4conv</th><th>uW4conv</th><th>Rinner</th><th>Router</th><th>w1zero</th><th>w2zero</th><th>w3zero</th><th>w4zero</th><th>w1mpro</th><th>dw1mpro</th><th>w1rchi2</th><th>w2mpro</th><th>dw2mpro</th><th>w2rchi2</th><th>w3mpro</th><th>dw3mpro</th><th>w3rchi2</th><th>w4mpro</th><th>dw4mpro</th><th>w4rchi2</th><th>Rw123</th><th>w123</th><th>dw123</th><th>Rw222</th><th>w222</th><th>dw222</th><th>Rw318</th><th>w318</th><th>dw318</th><th>Rw4155</th><th>w4155</th><th>dw4155</th><th>xscprox</th><th>Rmoment</th><th>Rminor</th><th>Rfuzzy</th><th>Rfuzz2</th><th>Rfuzz3</th><th>Rfuzz4</th><th>vc</th><th>sepmin</th></tr></thead>\n",
       "<thead><tr><th></th><th>deg</th><th>deg</th><th>mag</th><th>mag</th><th></th><th>mag</th><th>mag</th><th></th><th>mag</th><th>mag</th><th></th><th>mag</th><th>mag</th><th></th><th></th><th></th><th></th><th></th><th></th><th>arcsec</th><th>arcsec</th><th>arcsec</th><th>arcsec</th><th></th><th>deg</th><th>mJy</th><th>mJy</th><th>mag</th><th>mag</th><th></th><th>mJy</th><th>mJy</th><th>mag</th><th>mag</th><th></th><th>mJy</th><th>mJy</th><th>mag</th><th>mag</th><th></th><th>mJy</th><th>mJy</th><th>mag</th><th>mag</th><th></th><th>mag</th><th>mag</th><th>mag</th><th>mag</th><th>mag</th><th>mag</th><th>mag</th><th>mag</th><th>mag.asec</th><th>mag.asec</th><th>mag.asec</th><th>mag.asec</th><th>dn</th><th>dn</th><th>dn</th><th>dn</th><th>dn</th><th>dn</th><th>dn</th><th>dn</th><th>mag.asec</th><th>mag.asec</th><th>mag.asec</th><th>mag.asec</th><th>arcsec</th><th>arcsec</th><th></th><th></th><th>arcsec</th><th>arcsec</th><th></th><th></th><th>arcsec</th><th>arcsec</th><th></th><th></th><th>arcsec</th><th>arcsec</th><th></th><th></th><th>arcsec</th><th>mJy</th><th>mJy</th><th>mag</th><th>mag</th><th>arcsec</th><th>mJy</th><th>mJy</th><th>mag</th><th>mag</th><th>arcsec</th><th>mJy</th><th>mJy</th><th>mag</th><th>mag</th><th>arcsec</th><th>mJy</th><th>mJy</th><th>mag</th><th>mag</th><th>arcsec</th><th>mag.asec</th><th></th><th>arcsec</th><th>mag.asec</th><th></th><th>arcsec</th><th>mag.asec</th><th></th><th>arcsec</th><th>mag.asec</th><th></th><th>arcsec</th><th>mag</th><th>mag</th><th>arcsec</th><th>mag</th><th>mag</th><th>arcsec</th><th>mag</th><th>mag</th><th>arcsec</th><th>mag</th><th>mag</th><th>arcsec</th><th>arcsec</th><th>mag</th><th>mag</th><th>mag</th><th>mag</th><th>mag</th><th>mag</th><th></th><th>mag</th><th>mag</th><th></th><th>mag</th><th>mag</th><th></th><th>mag</th><th>mag</th><th></th><th>arcsec</th><th>mag</th><th>mag</th><th>arcsec</th><th>mag</th><th>mag</th><th>arcsec</th><th>mag</th><th>mag</th><th>arcsec</th><th>mag</th><th>mag</th><th>arcsec</th><th>arcsec</th><th>arcsec</th><th>arcsec</th><th>arcsec</th><th>arcsec</th><th>arcsec</th><th></th><th>arcsec</th></tr></thead>\n",
       "<thead><tr><th>str23</th><th>float64</th><th>float64</th><th>float32</th><th>float32</th><th>int32</th><th>float32</th><th>float32</th><th>int32</th><th>float32</th><th>float32</th><th>int32</th><th>float32</th><th>float32</th><th>int32</th><th>float32</th><th>float32</th><th>float32</th><th>float32</th><th>str12</th><th>float64</th><th>float64</th><th>float64</th><th>float64</th><th>float64</th><th>float64</th><th>float64</th><th>float64</th><th>float64</th><th>float64</th><th>int32</th><th>float64</th><th>float64</th><th>float64</th><th>float64</th><th>int32</th><th>float64</th><th>float64</th><th>float64</th><th>float64</th><th>int32</th><th>float64</th><th>float64</th><th>float64</th><th>float64</th><th>int32</th><th>float64</th><th>float64</th><th>float64</th><th>float64</th><th>float64</th><th>float64</th><th>float64</th><th>float64</th><th>float64</th><th>float64</th><th>float64</th><th>float64</th><th>float64</th><th>float64</th><th>float64</th><th>float64</th><th>float64</th><th>float64</th><th>float64</th><th>float64</th><th>float64</th><th>float64</th><th>float64</th><th>float64</th><th>float64</th><th>float64</th><th>float64</th><th>float64</th><th>float64</th><th>float64</th><th>float64</th><th>float64</th><th>float64</th><th>float64</th><th>float64</th><th>float64</th><th>float64</th><th>float64</th><th>float64</th><th>float64</th><th>float64</th><th>float64</th><th>float64</th><th>float64</th><th>float64</th><th>float64</th><th>float64</th><th>float64</th><th>float64</th><th>float64</th><th>float64</th><th>float64</th><th>float64</th><th>float64</th><th>float64</th><th>float64</th><th>float64</th><th>float64</th><th>float64</th><th>float64</th><th>float64</th><th>float64</th><th>float64</th><th>float64</th><th>float64</th><th>float64</th><th>float64</th><th>float64</th><th>float64</th><th>float64</th><th>float64</th><th>float64</th><th>float64</th><th>float64</th><th>float64</th><th>float64</th><th>float64</th><th>float64</th><th>float64</th><th>float64</th><th>float64</th><th>float64</th><th>float64</th><th>float64</th><th>float64</th><th>float64</th><th>float64</th><th>float64</th><th>float64</th><th>float64</th><th>float64</th><th>float64</th><th>float64</th><th>float64</th><th>float64</th><th>float64</th><th>float64</th><th>float64</th><th>float64</th><th>float64</th><th>float64</th><th>float64</th><th>float32</th><th>float32</th><th>float32</th><th>float32</th><th>float32</th><th>float32</th><th>float32</th><th>float32</th><th>float32</th><th>float32</th><th>float32</th><th>float32</th><th>float64</th><th>float64</th><th>float64</th><th>float64</th><th>float64</th><th>float64</th><th>float64</th><th>int32</th><th>float32</th></tr></thead>\n",
       "<tr><td>J022136.46-053116.6</td><td>35.40201</td><td>-5.52123</td><td>8.979</td><td>0.011</td><td>0</td><td>8.937</td><td>0.02</td><td>0</td><td>5.594</td><td>0.022</td><td>10</td><td>3.942</td><td>0.048</td><td>10</td><td>98.7</td><td>90.5</td><td>50.4</td><td>22.7</td><td>S_tile_133</td><td>122.19</td><td>108.57</td><td>93.53</td><td>82.59</td><td>0.69</td><td>116.9</td><td>79.337</td><td>0.84</td><td>8.979</td><td>0.011</td><td>1</td><td>44.7</td><td>0.49</td><td>8.955</td><td>0.012</td><td>1</td><td>152.26</td><td>1.76</td><td>5.701</td><td>0.013</td><td>1</td><td>183.888</td><td>3.69</td><td>4.079</td><td>0.022</td><td>1</td><td>0.042</td><td>0.017</td><td>3.253</td><td>0.017</td><td>3.296</td><td>0.017</td><td>1.688</td><td>0.027</td><td>17.298</td><td>17.263</td><td>14.384</td><td>13.213</td><td>2.169</td><td>0.056</td><td>5.949</td><td>0.061</td><td>345.36</td><td>0.71</td><td>27.182</td><td>0.07</td><td>23.624</td><td>22.536</td><td>18.371</td><td>15.892</td><td>8.05</td><td>46.92</td><td>0.73</td><td>0.61</td><td>7.93</td><td>46.91</td><td>0.89</td><td>0.61</td><td>10.03</td><td>58.85</td><td>0.77</td><td>0.5</td><td>8.6</td><td>52.22</td><td>0.82</td><td>0.52</td><td>183.28</td><td>80.71</td><td>0.831</td><td>8.96</td><td>0.011</td><td>183.28</td><td>45.477</td><td>0.562</td><td>8.936</td><td>0.013</td><td>218.77</td><td>168.042</td><td>3.332</td><td>5.594</td><td>0.022</td><td>194.61</td><td>208.533</td><td>9.172</td><td>3.942</td><td>0.048</td><td>40.6</td><td>18.596</td><td>3.14</td><td>39.5</td><td>18.513</td><td>3.08</td><td>45.4</td><td>15.475</td><td>2.72</td><td>48.2</td><td>13.951</td><td>2.39</td><td>122.19</td><td>8.979</td><td>0.011</td><td>108.57</td><td>8.955</td><td>0.012</td><td>93.53</td><td>5.701</td><td>0.013</td><td>99.0</td><td>3.985</td><td>0.025</td><td>153.2</td><td>199.2</td><td>20.5</td><td>19.5</td><td>18.0</td><td>13.0</td><td>11.54</td><td>0.023</td><td>65.15</td><td>11.553</td><td>0.023</td><td>21.75</td><td>8.497</td><td>0.025</td><td>9.985</td><td>6.425</td><td>0.056</td><td>0.2172</td><td>113.85</td><td>8.988</td><td>0.011</td><td>101.12</td><td>8.975</td><td>0.012</td><td>85.44</td><td>5.739</td><td>0.012</td><td>74.29</td><td>4.151</td><td>0.0211</td><td>0.4</td><td>30.9</td><td>25.9</td><td>30.4</td><td>30.8</td><td>34.5</td><td>70.5</td><td>-1</td><td>138.8</td></tr>\n",
       "</table>"
      ],
      "text/plain": [
       "<Table length=1>\n",
       "         desig             ra      dec     w1best ...  Rfuzz4   vc   sepmin\n",
       "                          deg      deg      mag   ...  arcsec        arcsec\n",
       "         str23          float64  float64  float32 ... float64 int32 float32\n",
       "----------------------- -------- -------- ------- ... ------- ----- -------\n",
       "J022136.46-053116.6     35.40201 -5.52123   8.979 ...    70.5    -1   138.8"
      ]
     },
     "execution_count": 9,
     "metadata": {},
     "output_type": "execute_result"
    }
   ],
   "source": [
    "WISE_sources[idx]"
   ]
  },
  {
   "cell_type": "code",
   "execution_count": 10,
   "metadata": {
    "collapsed": true
   },
   "outputs": [],
   "source": [
    "def extended_source(beta,r_e,x_0,y_0,x,y):\n",
    "    source_grid=np.exp(-beta*((x-x_0)**2+(y-y_0)**2)/r_e)\n",
    "    return source_grid"
   ]
  },
  {
   "cell_type": "code",
   "execution_count": 11,
   "metadata": {
    "collapsed": false
   },
   "outputs": [],
   "source": [
    "xx, yy = np.meshgrid(np.arange(0,101), np.arange(0,101), sparse=True)\n"
   ]
  },
  {
   "cell_type": "markdown",
   "metadata": {},
   "source": [
    "The extended source as seen in optical, MIPS, WISE band 4, and the SPIRE bands"
   ]
  },
  {
   "cell_type": "code",
   "execution_count": 12,
   "metadata": {
    "collapsed": false
   },
   "outputs": [
    {
     "data": {
      "text/html": [
       "&lt;Table masked=True length=1&gt;\n",
       "<table id=\"table4660436720\" class=\"table-striped table-bordered table-condensed\">\n",
       "<thead><tr><th>Field</th><th>ID2MASX</th><th>RAJ2000</th><th>DEJ2000</th><th>supRAdeg</th><th>supDEdeg</th><th>density</th><th>r_K20e</th><th>J_K20e</th><th>e_J_K20e</th><th>f_J_K20e</th><th>H_K20e</th><th>e_H_K20e</th><th>f_H_K20e</th><th>K_K20e</th><th>e_K_K20e</th><th>f_K_K20e</th><th>Kb_a</th><th>Kpa</th><th>Sb_a</th><th>Spa</th><th>r_ext</th><th>J_ext</th><th>e_J_ext</th><th>H_ext</th><th>e_H_ext</th><th>K_ext</th><th>e_K_ext</th><th>cc</th></tr></thead>\n",
       "<thead><tr><th></th><th></th><th>deg</th><th>deg</th><th>deg</th><th>deg</th><th></th><th>arcs</th><th>mag</th><th>mag</th><th></th><th>mag</th><th>mag</th><th></th><th>mag</th><th>mag</th><th></th><th></th><th>deg</th><th></th><th>deg</th><th>arcs</th><th>mag</th><th>mag</th><th>mag</th><th>mag</th><th>mag</th><th>mag</th><th></th></tr></thead>\n",
       "<thead><tr><th>object</th><th>object</th><th>float64</th><th>float64</th><th>float64</th><th>float64</th><th>float64</th><th>float64</th><th>float64</th><th>float64</th><th>int16</th><th>float64</th><th>float64</th><th>int16</th><th>float64</th><th>float64</th><th>int16</th><th>float64</th><th>int16</th><th>float64</th><th>int16</th><th>float64</th><th>float64</th><th>float64</th><th>float64</th><th>float64</th><th>float64</th><th>float64</th><th>object</th></tr></thead>\n",
       "<tr><td>XMM-LSS</td><td>02213646-0531170</td><td>35.401958</td><td>-5.5213939999999999</td><td>35.401961999999997</td><td>-5.5213799999999997</td><td>2.5499999999999998</td><td>51.0</td><td>10.523999999999999</td><td>0.024</td><td>0</td><td>9.9870000000000001</td><td>0.040000000000000001</td><td>0</td><td>9.6880000000000006</td><td>0.050999999999999997</td><td>0</td><td>0.66000000000000003</td><td>-60</td><td>0.47999999999999998</td><td>-70</td><td>86.959999999999994</td><td>10.145</td><td>0.024</td><td>9.7349999999999994</td><td>0.040000000000000001</td><td>9.4049999999999994</td><td>0.050999999999999997</td><td>0</td></tr>\n",
       "</table>"
      ],
      "text/plain": [
       "<Table masked=True length=1>\n",
       " Field      ID2MASX       RAJ2000  ...       e_K_ext          cc  \n",
       "                            deg    ...         mag                \n",
       " object      object       float64  ...       float64        object\n",
       "------- ---------------- --------- ... -------------------- ------\n",
       "XMM-LSS 02213646-0531170 35.401958 ... 0.050999999999999997      0"
      ]
     },
     "execution_count": 12,
     "metadata": {},
     "output_type": "execute_result"
    }
   ],
   "source": [
    "source"
   ]
  },
  {
   "cell_type": "code",
   "execution_count": 13,
   "metadata": {
    "collapsed": true
   },
   "outputs": [],
   "source": [
    "def sersic(alpha,beta,x_0,y_0,x,y):\n",
    "    source_grid=np.exp(-1*((((x-x_0)**2+(y-y_0)**2)**0.5)/alpha)**(1/beta))\n",
    "    return source_grid\n",
    "    \n",
    "\n",
    "def extended_source(beta,r_e,x_0,y_0,x,y):\n",
    "    source_grid=np.exp(-beta*((x-x_0)**2+(y-y_0)**2)/r_e)\n",
    "    return source_grid"
   ]
  },
  {
   "cell_type": "code",
   "execution_count": 14,
   "metadata": {
    "collapsed": false
   },
   "outputs": [],
   "source": [
    "bulge=sersic(WISE_sources[idx]['scale_1a'],WISE_sources[idx]['beta_1a'],50,50,xx,yy) #Raphael added first 50 to make it run\n",
    "disc=sersic(WISE_sources[idx]['scale_1b'],WISE_sources[idx]['beta_1b'],50,50,xx,yy)"
   ]
  },
  {
   "cell_type": "code",
   "execution_count": 15,
   "metadata": {
    "collapsed": false
   },
   "outputs": [
    {
     "data": {
      "text/plain": [
       "<matplotlib.colorbar.Colorbar at 0x150d09518>"
      ]
     },
     "execution_count": 15,
     "metadata": {},
     "output_type": "execute_result"
    },
    {
     "data": {
      "image/png": "[encoded data removed]",
      "text/plain": [
       "<matplotlib.figure.Figure at 0x1525f70b8>"
      ]
     },
     "metadata": {},
     "output_type": "display_data"
    }
   ],
   "source": [
    "plt.imshow(disc)\n",
    "plt.colorbar()"
   ]
  },
  {
   "cell_type": "code",
   "execution_count": 16,
   "metadata": {
    "collapsed": false
   },
   "outputs": [],
   "source": [
    "#pixsize array (size of pixels in arcseconds)\n",
    "pixsize=np.array([pixsize250,pixsize350,pixsize500])\n",
    "#point spread function for the three bands\n",
    "prfsize=np.array([18.15,25.15,36.3])\n",
    "\n",
    "\n",
    "##---------fit using Gaussian beam-----------------------\n",
    "prf250=Gaussian2DKernel(prfsize[0]/2.355,x_size=101,y_size=101)\n",
    "prf250.normalize(mode='peak')\n",
    "prf350=Gaussian2DKernel(prfsize[1]/2.355,x_size=101,y_size=101)\n",
    "prf350.normalize(mode='peak')\n",
    "prf500=Gaussian2DKernel(prfsize[2]/2.355,x_size=101,y_size=101)\n",
    "prf500.normalize(mode='peak')\n",
    "\n",
    "pind250=np.arange(0,101,1)*1.0/pixsize[0] #get 250 scale in terms of pixel scale of map\n",
    "pind350=np.arange(0,101,1)*1.0/pixsize[1] #get 350 scale in terms of pixel scale of map\n",
    "pind500=np.arange(0,101,1)*1.0/pixsize[2] #get 500 scale in terms of pixel scale of map\n",
    "\n",
    "#convolved250 = convolve(prf250)[::6,::6]"
   ]
  },
  {
   "cell_type": "code",
   "execution_count": 17,
   "metadata": {
    "collapsed": false
   },
   "outputs": [
    {
     "data": {
      "text/plain": [
       "<matplotlib.colorbar.Colorbar at 0x14faab630>"
      ]
     },
     "execution_count": 17,
     "metadata": {},
     "output_type": "execute_result"
    },
    {
     "data": {
      "image/png": "[encoded data removed]",
      "text/plain": [
       "<matplotlib.figure.Figure at 0x1525034e0>"
      ]
     },
     "metadata": {},
     "output_type": "display_data"
    }
   ],
   "source": [
    "fig=plt.figure(figsize=(30,10))\n",
    "plt.subplot(2,1,1)\n",
    "plt.imshow(convolve(bulge,prf250.array)[::6,::6],interpolation='nearest')\n",
    "plt.colorbar()\n",
    "plt.subplot(2,1,2)\n",
    "plt.imshow(convolve(disc,prf250.array)[::6,::6],interpolation='nearest')\n",
    "plt.colorbar()"
   ]
  },
  {
   "cell_type": "code",
   "execution_count": 18,
   "metadata": {
    "collapsed": false
   },
   "outputs": [
    {
     "data": {
      "text/plain": [
       "[array([ 1605.60172062]), array([ 1167.31004696])]"
      ]
     },
     "execution_count": 18,
     "metadata": {},
     "output_type": "execute_result"
    }
   ],
   "source": [
    "w_250.wcs_world2pix(ra_zoom,dec_zoom,0)"
   ]
  },
  {
   "cell_type": "code",
   "execution_count": 19,
   "metadata": {
    "collapsed": true
   },
   "outputs": [],
   "source": [
    "def radial_profile(data, center):\n",
    "    x, y = np.indices((data.shape))\n",
    "    r = np.sqrt((x - center[0])**2 + (y - center[1])**2)\n",
    "    r = r.astype(np.int)\n",
    "\n",
    "    tbin = np.bincount(r.ravel(), data.ravel())\n",
    "    nr = np.bincount(r.ravel())\n",
    "    radialprofile = tbin / nr\n",
    "    return radialprofile "
   ]
  },
  {
   "cell_type": "code",
   "execution_count": 20,
   "metadata": {
    "collapsed": false
   },
   "outputs": [
    {
     "data": {
      "text/plain": [
       "[<matplotlib.lines.Line2D at 0x1509053c8>]"
      ]
     },
     "execution_count": 20,
     "metadata": {},
     "output_type": "execute_result"
    },
    {
     "data": {
      "image/png": "[encoded data removed]",
      "text/plain": [
       "<matplotlib.figure.Figure at 0x1509161d0>"
      ]
     },
     "metadata": {},
     "output_type": "display_data"
    }
   ],
   "source": [
    "\n",
    "rad_profile = radial_profile(hdulist_250[1].data,w_250.wcs_world2pix(ra_zoom,dec_zoom,0))\n",
    "\n",
    "fig, ax = plt.subplots()\n",
    "plt.plot(rad_profile[0:22], 'x-')"
   ]
  },
  {
   "cell_type": "markdown",
   "metadata": {
    "collapsed": true
   },
   "source": [
    "# Fit extended source with XID+"
   ]
  },
  {
   "cell_type": "code",
   "execution_count": 21,
   "metadata": {
    "collapsed": false
   },
   "outputs": [],
   "source": [
    "RA=np.concatenate((IRAC_sources['RA'].__array__(),source['RAJ2000'].__array__()))\n",
    "Dec=np.concatenate((IRAC_sources['Dec'].__array__(),source['DEJ2000'].__array__()))"
   ]
  },
  {
   "cell_type": "code",
   "execution_count": 22,
   "metadata": {
    "collapsed": false
   },
   "outputs": [
    {
     "data": {
      "text/html": [
       "&lt;Table masked=True length=1&gt;\n",
       "<table id=\"table4660436720\" class=\"table-striped table-bordered table-condensed\">\n",
       "<thead><tr><th>Field</th><th>ID2MASX</th><th>RAJ2000</th><th>DEJ2000</th><th>supRAdeg</th><th>supDEdeg</th><th>density</th><th>r_K20e</th><th>J_K20e</th><th>e_J_K20e</th><th>f_J_K20e</th><th>H_K20e</th><th>e_H_K20e</th><th>f_H_K20e</th><th>K_K20e</th><th>e_K_K20e</th><th>f_K_K20e</th><th>Kb_a</th><th>Kpa</th><th>Sb_a</th><th>Spa</th><th>r_ext</th><th>J_ext</th><th>e_J_ext</th><th>H_ext</th><th>e_H_ext</th><th>K_ext</th><th>e_K_ext</th><th>cc</th></tr></thead>\n",
       "<thead><tr><th></th><th></th><th>deg</th><th>deg</th><th>deg</th><th>deg</th><th></th><th>arcs</th><th>mag</th><th>mag</th><th></th><th>mag</th><th>mag</th><th></th><th>mag</th><th>mag</th><th></th><th></th><th>deg</th><th></th><th>deg</th><th>arcs</th><th>mag</th><th>mag</th><th>mag</th><th>mag</th><th>mag</th><th>mag</th><th></th></tr></thead>\n",
       "<thead><tr><th>object</th><th>object</th><th>float64</th><th>float64</th><th>float64</th><th>float64</th><th>float64</th><th>float64</th><th>float64</th><th>float64</th><th>int16</th><th>float64</th><th>float64</th><th>int16</th><th>float64</th><th>float64</th><th>int16</th><th>float64</th><th>int16</th><th>float64</th><th>int16</th><th>float64</th><th>float64</th><th>float64</th><th>float64</th><th>float64</th><th>float64</th><th>float64</th><th>object</th></tr></thead>\n",
       "<tr><td>XMM-LSS</td><td>02213646-0531170</td><td>35.401958</td><td>-5.5213939999999999</td><td>35.401961999999997</td><td>-5.5213799999999997</td><td>2.5499999999999998</td><td>51.0</td><td>10.523999999999999</td><td>0.024</td><td>0</td><td>9.9870000000000001</td><td>0.040000000000000001</td><td>0</td><td>9.6880000000000006</td><td>0.050999999999999997</td><td>0</td><td>0.66000000000000003</td><td>-60</td><td>0.47999999999999998</td><td>-70</td><td>86.959999999999994</td><td>10.145</td><td>0.024</td><td>9.7349999999999994</td><td>0.040000000000000001</td><td>9.4049999999999994</td><td>0.050999999999999997</td><td>0</td></tr>\n",
       "</table>"
      ],
      "text/plain": [
       "<Table masked=True length=1>\n",
       " Field      ID2MASX       RAJ2000  ...       e_K_ext          cc  \n",
       "                            deg    ...         mag                \n",
       " object      object       float64  ...       float64        object\n",
       "------- ---------------- --------- ... -------------------- ------\n",
       "XMM-LSS 02213646-0531170 35.401958 ... 0.050999999999999997      0"
      ]
     },
     "execution_count": 22,
     "metadata": {},
     "output_type": "execute_result"
    }
   ],
   "source": [
    "source"
   ]
  },
  {
   "cell_type": "code",
   "execution_count": 23,
   "metadata": {
    "collapsed": true
   },
   "outputs": [],
   "source": [
    "prior_cat='IRAC'\n",
    "#---prior250--------\n",
    "prior250=xidplus.prior(im250,nim250,im250phdu,im250hdu)#Initialise with map, uncertianty map, wcs info and primary header\n",
    "prior250.prior_cat(RA,Dec,prior_cat)#Set input catalogue\n",
    "prior250.prior_bkg(-5.0,5)#Set prior on background (assumes Guassian pdf with mu and sigma)\n",
    "#---prior350--------\n",
    "prior350=xidplus.prior(im350,nim350,im350phdu,im350hdu)\n",
    "prior350.prior_cat(RA,Dec,prior_cat)\n",
    "prior350.prior_bkg(-5.0,5)\n",
    "\n",
    "#---prior500--------\n",
    "prior500=xidplus.prior(im500,nim500,im500phdu,im500hdu)\n",
    "prior500.prior_cat(RA,Dec,prior_cat)\n",
    "prior500.prior_bkg(-5.0,5)"
   ]
  },
  {
   "cell_type": "code",
   "execution_count": 24,
   "metadata": {
    "collapsed": true
   },
   "outputs": [],
   "source": [
    "#pixsize array (size of pixels in arcseconds)\n",
    "pixsize=np.array([pixsize250,pixsize350,pixsize500])\n",
    "#point response function for the three bands\n",
    "prfsize=np.array([18.15,25.15,36.3])\n",
    "#use Gaussian2DKernel to create prf (requires stddev rather than fwhm hence pfwhm/2.355)\n",
    "from astropy.convolution import Gaussian2DKernel\n",
    "\n",
    "##---------fit using Gaussian beam-----------------------\n",
    "prf250=Gaussian2DKernel(prfsize[0]/2.355,x_size=101,y_size=101)\n",
    "prf250.normalize(mode='peak')\n",
    "prf350=Gaussian2DKernel(prfsize[1]/2.355,x_size=101,y_size=101)\n",
    "prf350.normalize(mode='peak')\n",
    "prf500=Gaussian2DKernel(prfsize[2]/2.355,x_size=101,y_size=101)\n",
    "prf500.normalize(mode='peak')\n",
    "\n",
    "pind250=np.arange(0,101,1)*1.0/pixsize[0] #get 250 scale in terms of pixel scale of map\n",
    "pind350=np.arange(0,101,1)*1.0/pixsize[1] #get 350 scale in terms of pixel scale of map\n",
    "pind500=np.arange(0,101,1)*1.0/pixsize[2] #get 500 scale in terms of pixel scale of map\n",
    "\n",
    "prior250.set_prf(prf250.array,pind250,pind250)#requires psf as 2d grid, and x and y bins for grid (in pixel scale)\n",
    "prior350.set_prf(prf350.array,pind350,pind350)\n",
    "prior500.set_prf(prf500.array,pind500,pind500)"
   ]
  },
  {
   "cell_type": "code",
   "execution_count": 25,
   "metadata": {
    "collapsed": false
   },
   "outputs": [
    {
     "name": "stdout",
     "output_type": "stream",
     "text": [
      "fitting 69615 sources \n",
      "\n",
      "using 3380938, 3380938 and 845235 pixels\n"
     ]
    }
   ],
   "source": [
    "print( 'fitting ' + str(prior250.nsrc)+' sources \\n')\n",
    "print( 'using ' +  str(prior250.snpix)+', '+ str(prior250.snpix)+' and '+ str(prior500.snpix)+' pixels')\n"
   ]
  },
  {
   "cell_type": "code",
   "execution_count": 26,
   "metadata": {
    "collapsed": false
   },
   "outputs": [],
   "source": [
    "\n",
    "moc=MOC()\n",
    "moc.read('./data/extended_source_test_MOC_rad4.fits')\n",
    "prior250.set_tile(moc)\n",
    "prior350.set_tile(moc)\n",
    "prior500.set_tile(moc)"
   ]
  },
  {
   "cell_type": "code",
   "execution_count": 27,
   "metadata": {
    "collapsed": false
   },
   "outputs": [
    {
     "name": "stdout",
     "output_type": "stream",
     "text": [
      "fitting 127 sources \n",
      "\n",
      "using 5488, 2843 and 1372 pixels\n"
     ]
    }
   ],
   "source": [
    "print( 'fitting '+ str(prior250.nsrc)+' sources \\n')\n",
    "print( 'using ' +  str(prior250.snpix)+', '+ str(prior350.snpix)+' and '+ str(prior500.snpix)+' pixels')\n"
   ]
  },
  {
   "cell_type": "code",
   "execution_count": 28,
   "metadata": {
    "collapsed": true
   },
   "outputs": [],
   "source": [
    "prior250.get_pointing_matrix()\n",
    "prior350.get_pointing_matrix()\n",
    "prior500.get_pointing_matrix()"
   ]
  },
  {
   "cell_type": "code",
   "execution_count": 29,
   "metadata": {
    "collapsed": true
   },
   "outputs": [],
   "source": [
    "prior250.upper_lim_map()\n",
    "prior350.upper_lim_map()\n",
    "prior500.upper_lim_map()"
   ]
  },
  {
   "cell_type": "code",
   "execution_count": 30,
   "metadata": {
    "collapsed": false
   },
   "outputs": [
    {
     "name": "stdout",
     "output_type": "stream",
     "text": [
      "/XID+SPIRE found. Reusing\n"
     ]
    }
   ],
   "source": [
    "\n",
    "fit=SPIRE.all_bands(prior250,prior350,prior500,iter=1500)"
   ]
  },
  {
   "cell_type": "code",
   "execution_count": 31,
   "metadata": {
    "collapsed": true
   },
   "outputs": [],
   "source": [
    "posterior=xidplus.posterior_stan(fit,[prior250,prior350,prior500])\n"
   ]
  },
  {
   "cell_type": "code",
   "execution_count": 32,
   "metadata": {
    "collapsed": true
   },
   "outputs": [],
   "source": [
    "\n",
    "\n",
    "hdurep_250=postmaps.make_fits_image(prior250,prior250.sim)\n",
    "hdurep_350=postmaps.make_fits_image(prior350,prior350.sim)\n",
    "hdurep_500=postmaps.make_fits_image(prior500,prior500.sim)"
   ]
  },
  {
   "cell_type": "code",
   "execution_count": 33,
   "metadata": {
    "collapsed": false
   },
   "outputs": [],
   "source": [
    "\n",
    "\n",
    "rep_maps=postmaps.replicated_maps([prior250, prior350, prior500],posterior,nrep=1000)\n"
   ]
  },
  {
   "cell_type": "code",
   "execution_count": 34,
   "metadata": {
    "collapsed": false
   },
   "outputs": [
    {
     "data": {
      "text/plain": [
       "[array([[ -95.15871186,    9.6646541 ,   34.23258716, ...,   29.78146418,\n",
       "           40.43826205,    9.09151328],\n",
       "        [  -4.14585848,   53.19359969,   45.58618774, ...,   -9.70311013,\n",
       "           11.07712368,   12.44218295],\n",
       "        [  35.50114991,   -3.95510777,   28.21229014, ...,   21.85292699,\n",
       "           -9.18307466,  -51.6020461 ],\n",
       "        ..., \n",
       "        [ -31.0917198 ,   -5.93654978,  -13.14994426, ...,   24.74482587,\n",
       "          -30.42967735,   51.2439061 ],\n",
       "        [  50.61248221,   43.46473732,  -39.25446508, ...,  -25.02145441,\n",
       "          -83.14067442,   19.43890849],\n",
       "        [  17.27912463,   81.72239003,   25.24546498, ...,  110.85676235,\n",
       "           13.1622351 ,  -18.95470862]]),\n",
       " array([[ 16.42307081, -25.45516102,  24.95580806, ...,  33.55797915,\n",
       "          17.08750418, -54.3404259 ],\n",
       "        [ 15.94924226, -45.87654087, -20.24761076, ...,  32.45133213,\n",
       "          61.57367422, -13.68679266],\n",
       "        [ -7.16009502,  31.23172322, -76.75048209, ...,  48.1314199 ,\n",
       "          38.24646324,  88.61126662],\n",
       "        ..., \n",
       "        [-47.23930747,  22.22454012,   7.31458678, ..., -40.2586409 ,\n",
       "          37.22097222, -16.20577322],\n",
       "        [ 72.03396453, -42.73479083,   8.72486486, ...,  -1.85594061,\n",
       "           4.11008603,  36.80021382],\n",
       "        [ 20.45555516, -10.23825638,  47.70064361, ..., -14.50447209,\n",
       "          45.90664751,  -2.77036094]]),\n",
       " array([[ 26.69663456, -16.2484859 , -24.24689994, ...,   4.9639774 ,\n",
       "         -11.57080342,  50.47903241],\n",
       "        [ 14.58037212,  10.06637155,  16.31457931, ...,  27.34074897,\n",
       "           3.88030931,   3.68617382],\n",
       "        [  7.77969679,  28.49685942,   1.75688749, ...,  -0.18588177,\n",
       "          22.59218494,  18.54975983],\n",
       "        ..., \n",
       "        [-11.05512648,   1.87946992,  20.98454472, ..., -23.86384642,\n",
       "         -17.02219915,  -4.23556235],\n",
       "        [-14.03490837, -11.83580302,  -9.94061683, ...,  10.27165706,\n",
       "          -7.03002479,   5.46537351],\n",
       "        [ 11.60228358,   6.09969554,  15.68069085, ...,   6.01661344,\n",
       "          -5.97750738,   4.08881869]])]"
      ]
     },
     "execution_count": 34,
     "metadata": {},
     "output_type": "execute_result"
    }
   ],
   "source": [
    "rep_maps"
   ]
  },
  {
   "cell_type": "code",
   "execution_count": 35,
   "metadata": {
    "collapsed": true
   },
   "outputs": [],
   "source": [
    "mod_map_250 = rep_maps[0]\n",
    "mod_map_350 = rep_maps[1]\n",
    "mod_map_500 = rep_maps[2]\n",
    "mod_map_array_250 = rep_maps[0]\n",
    "mod_map_array_350 = rep_maps[1]\n",
    "mod_map_array_500 = rep_maps[2]"
   ]
  },
  {
   "cell_type": "code",
   "execution_count": null,
   "metadata": {
    "collapsed": false
   },
   "outputs": [],
   "source": [
    "\n",
    "\n",
    "pval_250=np.empty_like(prior250.sim)\n",
    "for i in range(0,prior250.snpix):\n",
    "    ind=mod_map_array_250[i,:]<prior250.sim[i]\n",
    "    pval_250[i]=st.norm.ppf(sum(ind)/np.float(mod_map_array_250.shape[1]))\n",
    "pval_250[np.isposinf(pval_250)]=6\n",
    "    \n",
    "pval_350=np.empty_like(prior350.sim)\n",
    "for i in range(0,prior350.snpix):\n",
    "    ind=mod_map_array_350[i,:]<prior350.sim[i]\n",
    "    pval_350[i]=st.norm.ppf(sum(ind)/np.float(mod_map_array_350.shape[1]))\n",
    "pval_350[np.isposinf(pval_350)]=6\n",
    "    \n",
    "pval_500=np.empty_like(prior500.sim)\n",
    "for i in range(0,prior500.snpix):\n",
    "    ind=mod_map_array_500[i,:]<prior500.sim[i]\n",
    "    pval_500[i]=st.norm.ppf(sum(ind)/np.float(mod_map_array_500.shape[1]))\n",
    "pval_500[np.isposinf(pval_500)]=6"
   ]
  },
  {
   "cell_type": "code",
   "execution_count": null,
   "metadata": {
    "collapsed": false
   },
   "outputs": [],
   "source": [
    "cmap=sns.cubehelix_palette(8, start=.5, rot=-.75,as_cmap=True)\n",
    "\n",
    "vmin=-1.7E1/1.0E3\n",
    "vmax=4.446e+01/1.0E3\n",
    "ra_zoom=source['RAJ2000']\n",
    "dec_zoom=source['DEJ2000']\n",
    "radius=0.05\n",
    "fig = plt.figure(figsize=(30,30))\n",
    "cfhtls=aplpy.FITSFigure('./data/W1+1+2.U.11023_11534_3064_3575.fits',figure=fig,subplot=(3,3,1))\n",
    "cfhtls.show_colorscale(vmin=-10,vmax=200,cmap=cmap)\n",
    "cfhtls.recenter(ra_zoom, dec_zoom, radius=radius)\n",
    "\n",
    "\n",
    "mips=aplpy.FITSFigure('./data/wp4_xmm-lss_mips24_map_v1.0.fits.gz',figure=fig,subplot=(3,3,2))\n",
    "mips.show_colorscale(vmin=-0.001,vmax=5,cmap=cmap)\n",
    "mips.recenter(ra_zoom, dec_zoom, radius=radius)\n",
    "\n",
    "wise_band4=aplpy.FITSFigure('./data/L3a-0349m061_ac51-0349m061_ac51-w4-int-3_ra35.401958_dec-5.5213939_asec600.000.fits',figure=fig,subplot=(3,3,3))\n",
    "wise_band4.show_colorscale(vmin=202,vmax=204,cmap=cmap)\n",
    "wise_band4.recenter(ra_zoom, dec_zoom, radius=radius)\n",
    "wise_band4.show_ellipses(ra_zoom, dec_zoom,2*WISE_sources[idx]['Riso']/3600.0,2*WISE_sources[idx]['Riso']*WISE_sources[idx]['ba']/3600.0, angle=360.0-WISE_sources[idx]['pa'],edgecolor='white',linewidth=2.0)\n",
    "\n",
    "\n",
    "real_250 = aplpy.FITSFigure(hdulist_250[1],figure=fig,subplot=(3,3,4))\n",
    "real_250.show_colorscale(vmin=vmin,vmax=0.8,cmap=cmap)\n",
    "#real_250.show_markers(ra_list,dec_list, edgecolor='white', facecolor='white',\n",
    "                #marker='o', s=40, alpha=0.5)\n",
    "real_250.show_markers(IRAC_sources['RA'],IRAC_sources['DEC'], edgecolor='yellow', facecolor='yellow',\n",
    "                marker='o', s=40, alpha=0.5)\n",
    "real_250.recenter(ra_zoom, dec_zoom, radius=radius)\n",
    "real_250.show_ellipses(ra_zoom, dec_zoom,2*source['r_K20e']/3600.0,2*source['r_K20e']*source['Kb_a']/3600.0, angle=360.0-source['Spa'],edgecolor='white',linewidth=2.0)\n",
    "real_250.show_ellipses(ra_zoom, dec_zoom,2*WISE_sources[idx]['Riso']/3600.0,2*WISE_sources[idx]['Riso']*WISE_sources[idx]['ba']/3600.0, angle=360.0-WISE_sources[idx]['pa'],edgecolor='white',linewidth=2.0)\n",
    "\n",
    "real_250.add_colorbar()\n",
    "#real_250.show_markers(WISE_sources['ra'],WISE_sources['dec'], edgecolor='red', facecolor='red',\n",
    "#                marker='o', s=40, alpha=0.5)\n",
    "\n",
    "real_350 = aplpy.FITSFigure(hdulist_350[1],figure=fig,subplot=(3,3,5))\n",
    "real_350.show_colorscale(vmin=vmin,vmax=0.8,cmap=cmap)\n",
    "real_350.show_ellipses(ra_zoom, dec_zoom,2*source['r_K20e']/3600.0,2*source['r_K20e']*source['Kb_a']/3600.0, angle=360.0-source['Spa'],edgecolor='white',linewidth=2.0)\n",
    "\n",
    "#real_350.show_markers(prior250.sra, prior250.sdec, edgecolor='black', facecolor='black',\n",
    "                #marker='o', s=40, alpha=0.5)\n",
    "real_350.recenter(ra_zoom, dec_zoom, radius=radius)\n",
    "\n",
    "real_500 = aplpy.FITSFigure(hdulist_500[1],figure=fig,subplot=(3,3,6))\n",
    "real_500.show_colorscale(vmin=vmin,vmax=0.8,cmap=cmap)\n",
    "#real_500.show_markers(prior250.sra, prior250.sdec, edgecolor='black', facecolor='black',\n",
    "                #marker='o', s=40, alpha=0.5)\n",
    "real_500.recenter(ra_zoom, dec_zoom, radius=radius)\n",
    "real_500.show_ellipses(ra_zoom, dec_zoom,2*source['r_K20e']/3600.0,2*source['r_K20e']*source['Kb_a']/3600.0, angle=360.0-source['Spa'],edgecolor='white',linewidth=2.0)\n",
    "\n",
    "vmin=-6\n",
    "vmax=6\n",
    "cmap=sns.diverging_palette(220, 20,as_cmap=True)\n",
    "\n",
    "res250=aplpy.FITSFigure(hdurep_250[1],figure=fig,subplot=(3,3,7))\n",
    "res250.show_colorscale(vmin=vmin,vmax=vmax,cmap=cmap)\n",
    "res250.show_markers(prior250.sra, prior250.sdec, edgecolor='black', facecolor='black',\n",
    "                marker='o', s=80, alpha=0.5)\n",
    "res250.recenter(ra_zoom, dec_zoom, radius=radius)\n",
    "\n",
    "res350=aplpy.FITSFigure(hdurep_350[1],figure=fig,subplot=(3,3,8))\n",
    "res350.show_colorscale(vmin=vmin,vmax=vmax,cmap=cmap)\n",
    "res350.show_markers(prior350.sra, prior350.sdec, edgecolor='black', facecolor='black',\n",
    "                marker='o', s=80, alpha=0.5)\n",
    "res350.recenter(ra_zoom, dec_zoom, radius=radius)\n",
    "\n",
    "\n",
    "res500=aplpy.FITSFigure(hdurep_500[1],figure=fig,subplot=(3,3,9))\n",
    "res500.show_colorscale(vmin=vmin,vmax=vmax,cmap=cmap)\n",
    "res500.show_markers(prior500.sra, prior500.sdec, edgecolor='black', facecolor='black',\n",
    "                marker='o', s=80, alpha=0.5)\n",
    "\n",
    "\n",
    "res250._data[prior250.sy_pix-np.min(prior250.sy_pix)-1,prior250.sx_pix-np.min(prior250.sx_pix)-1]=pval_250\n",
    "res350._data[prior350.sy_pix-np.min(prior350.sy_pix)-1,prior350.sx_pix-np.min(prior350.sx_pix)-1]=pval_350\n",
    "res500._data[prior500.sy_pix-np.min(prior500.sy_pix)-1,prior500.sx_pix-np.min(prior500.sx_pix)-1]=pval_500\n",
    "res500.recenter(ra_zoom, dec_zoom, radius=radius)\n",
    "#res500.tick_labels.set_xformat('dd.dd')\n",
    "#res500.tick_labels.set_yformat('dd.dd')\n",
    "\n",
    "\n",
    "res250.show_colorscale(vmin=vmin,vmax=vmax,cmap=cmap)\n",
    "res350.show_colorscale(vmin=vmin,vmax=vmax,cmap=cmap)\n",
    "res500.show_colorscale(vmin=vmin,vmax=vmax,cmap=cmap)\n",
    "res250.add_colorbar()\n",
    "res250.colorbar.set_location('top')\n",
    "res350.add_colorbar()\n",
    "res350.colorbar.set_location('top')\n",
    "res500.add_colorbar()\n",
    "res500.colorbar.set_location('top')\n"
   ]
  },
  {
   "cell_type": "code",
   "execution_count": null,
   "metadata": {
    "collapsed": false
   },
   "outputs": [],
   "source": [
    "def ellipse(x,y,x0,y0,angle,a,b):\n",
    "    dx=x-x0\n",
    "    dy=y-y0\n",
    "    rad=((dx*np.cos(angle)-dy*np.sin(angle))/a)**2 + ((dx*np.sin(angle)+dy*np.cos(angle))/b)**2\n",
    "    rad[rad<1.0]=1.0\n",
    "    rad[rad>1.0]=0.0\n",
    "    return rad\n",
    "                                                                 \n",
    "from astropy.modeling.models import Sersic2D\n",
    "\n",
    "mod = Sersic2D(amplitude = 1, r_eff = 25, n=4, x_0=50, y_0=50,\n",
    "               ellip=.5, theta=-1)"
   ]
  },
  {
   "cell_type": "code",
   "execution_count": null,
   "metadata": {
    "collapsed": true
   },
   "outputs": [],
   "source": []
  },
  {
   "cell_type": "code",
   "execution_count": null,
   "metadata": {
    "collapsed": false
   },
   "outputs": [],
   "source": [
    "wcs_temp = wcs.WCS(prior250.imhdu)\n",
    "source_pix_x,source_pix_y=wcs_temp.all_world2pix(ra_zoom,dec_zoom,0)"
   ]
  },
  {
   "cell_type": "code",
   "execution_count": null,
   "metadata": {
    "collapsed": false
   },
   "outputs": [],
   "source": [
    "a=WISE_sources[idx]['Riso']/pixsize[0]\n",
    "b=WISE_sources[idx]['ba']*a\n",
    "xx, yy = np.meshgrid(np.arange(0,WISE_sources[idx]['Riso']*3), np.arange(0,WISE_sources[idx]['Riso']*3))\n"
   ]
  },
  {
   "cell_type": "code",
   "execution_count": null,
   "metadata": {
    "collapsed": false
   },
   "outputs": [],
   "source": [
    "import scipy.signal as signal\n",
    "extended_source_SMAP=signal.convolve(ellipse(xx,yy,xx.shape[1]/2.0,yy.shape[0]/2.0,WISE_sources[idx]['pa']*np.pi/180.0,a*pixsize[0],b*pixsize[0]),prf250.array,mode='same')"
   ]
  },
  {
   "cell_type": "code",
   "execution_count": null,
   "metadata": {
    "collapsed": false
   },
   "outputs": [],
   "source": [
    "plt.imshow(extended_source_SMAP)"
   ]
  },
  {
   "cell_type": "code",
   "execution_count": null,
   "metadata": {
    "collapsed": false
   },
   "outputs": [],
   "source": [
    "from astropy.modeling.models import Ellipse2D\n",
    "from astropy.coordinates import Angle\n",
    "\n",
    "theta = Angle(-1*WISE_sources[idx]['pa'], 'deg')\n",
    "e = Ellipse2D(amplitude=100., x_0=xx.shape[1]/2.0,y_0=yy.shape[0]/2.0, a=a*pixsize[0], b=b*pixsize[0],\n",
    "              theta=theta.radian)\n",
    "plt.imshow(signal.convolve(e(xx,yy),prf250.array,mode='same'))"
   ]
  },
  {
   "cell_type": "code",
   "execution_count": null,
   "metadata": {
    "collapsed": false
   },
   "outputs": [],
   "source": [
    "from astropy.modeling.models import Sersic2D\n",
    "\n",
    "mod = Sersic2D(amplitude = 1.0, r_eff = WISE_sources[idx]['scale_1b'], n=WISE_sources[idx]['beta_1b']\t,x_0=xx.shape[1]/2.0,y_0=yy.shape[0]/2.0,\n",
    "               ellip=1.0-WISE_sources[idx]['ba'], theta=theta.radian)\n",
    "plt.imshow(signal.convolve(mod(xx,yy),prf250.array,mode='same'))"
   ]
  },
  {
   "cell_type": "code",
   "execution_count": null,
   "metadata": {
    "collapsed": false
   },
   "outputs": [],
   "source": [
    "pind250_source=np.arange(0,WISE_sources[idx]['Riso']*3)*1.0/pixsize[0]"
   ]
  },
  {
   "cell_type": "code",
   "execution_count": null,
   "metadata": {
    "collapsed": false
   },
   "outputs": [],
   "source": [
    "ipx=source_pix_x+xx*1.0/pixsize[0]-pind250_source[-1]/2\n",
    "ipy=source_pix_y+yy*1.0/pixsize[0]-pind250_source[-1]/2\n",
    "from scipy import interpolate\n",
    "atemp = interpolate.griddata((ipx.ravel(), ipy.ravel()),extended_source_SMAP.ravel(), (prior250.sx_pix,prior250.sy_pix),\n",
    "                                             method='nearest')"
   ]
  },
  {
   "cell_type": "code",
   "execution_count": null,
   "metadata": {
    "collapsed": true
   },
   "outputs": [],
   "source": [
    "def add_sersic_source(prior,source_no,angle,scale,beta,ba):\n",
    "    from astropy.modeling.models import Sersic2D\n",
    "    from astropy.coordinates import Angle\n",
    "    import scipy.signal as signal\n",
    "\n",
    "\n",
    "    import scipy.signal as signal\n",
    "    wcs_temp = wcs.WCS(prior.imhdu)\n",
    "    source_pix_x=prior.sx[source_no]\n",
    "    source_pix_y=prior.sy[source_no]\n",
    "    pixsize=np.absolute(prior.imhdu['CD2_2']*3600.0)\n",
    "\n",
    "    mesh_length=np.max([prior.pindx.size,scale*5])\n",
    "    xx, yy = np.meshgrid(np.arange(0,mesh_length), np.arange(0,mesh_length))\n",
    "    theta = Angle(-1*angle, 'deg')\n",
    "\n",
    "    mod = Sersic2D(amplitude = 1.0, r_eff =scale, n=beta,x_0=xx.shape[1]/2.0,y_0=yy.shape[0]/2.0,\n",
    "               ellip=1.0-ba, theta=theta.radian)\n",
    "    extended_source_SMAP=signal.convolve(mod(xx,yy),prior.prf,mode='same')\n",
    "    pind_source=np.arange(0,mesh_length)*1.0/pixsize\n",
    "    ipx=source_pix_x+xx*1.0/pixsize-pind_source[-1]/2\n",
    "    ipy=source_pix_y+yy*1.0/pixsize-pind_source[-1]/2\n",
    "    from scipy import interpolate\n",
    "    atemp = interpolate.griddata((ipx.ravel(), ipy.ravel()),extended_source_SMAP.ravel(), (prior.sx_pix,prior.sy_pix),\n",
    "                                             method='nearest')\n",
    "    ind=atemp>0.001\n",
    "    ind_not_prev=prior.amat_col != source_no\n",
    "    prior.amat_data=np.append(prior.amat_data[ind_not_prev],atemp[ind])\n",
    "    prior.amat_col=np.append(prior.amat_col[ind_not_prev],np.full(ind.sum(),source_no))\n",
    "    prior.amat_row=np.append(prior.amat_row[ind_not_prev],np.arange(0,prior.snpix,dtype=int)[ind])\n",
    "    return prior\n",
    "\n",
    "    \n",
    "def add_extended_source(prior,source_no,angle,semi_major,semi_minor):\n",
    "    import scipy.signal as signal\n",
    "    wcs_temp = wcs.WCS(prior.imhdu)\n",
    "    source_pix_x=prior.sx[source_no]\n",
    "    source_pix_y=prior.sy[source_no]\n",
    "    pixsize=np.absolute(prior.imhdu['CD2_2']*3600.0)\n",
    "    a=semi_major/pixsize\n",
    "    b=semi_minor/pixsize\n",
    "    xx, yy = np.meshgrid(np.arange(0,semi_major*2.5), np.arange(0,semi_major*2.5))\n",
    "    extended_source_SMAP=signal.convolve(ellipse(xx,yy,xx.shape[1]/2.0,yy.shape[0]/2.0,angle*np.pi/180.0,a*pixsize,b*pixsize),prior.prf,mode='same')\n",
    "    pind_source=np.arange(0,semi_major*2.5)*1.0/pixsize\n",
    "    ipx=source_pix_x+xx*1.0/pixsize-pind_source[-1]/2\n",
    "    ipy=source_pix_y+yy*1.0/pixsize-pind_source[-1]/2\n",
    "    from scipy import interpolate\n",
    "    atemp = interpolate.griddata((ipx.ravel(), ipy.ravel()),extended_source_SMAP.ravel(), (prior.sx_pix,prior.sy_pix),\n",
    "                                             method='nearest')\n",
    "    ind=atemp>0.001\n",
    "    ind_not_prev=prior.amat_col != source_no\n",
    "    prior.amat_data=np.append(prior.amat_data[ind_not_prev],atemp[ind])\n",
    "    prior.amat_col=np.append(prior.amat_col[ind_not_prev],np.full(ind.sum(),source_no))\n",
    "    prior.amat_row=np.append(prior.amat_row[ind_not_prev],np.arange(0,prior.snpix,dtype=int)[ind])\n",
    "    return prior\n",
    "\n",
    "    "
   ]
  },
  {
   "cell_type": "code",
   "execution_count": null,
   "metadata": {
    "collapsed": false
   },
   "outputs": [],
   "source": [
    "prior250.pindx.size"
   ]
  },
  {
   "cell_type": "code",
   "execution_count": null,
   "metadata": {
    "collapsed": false
   },
   "outputs": [],
   "source": [
    "prior250.imhdu['CD2_2']*3600.0"
   ]
  },
  {
   "cell_type": "code",
   "execution_count": null,
   "metadata": {
    "collapsed": false
   },
   "outputs": [],
   "source": [
    "extended_source_conv=postmaps.make_fits_image(prior250,atemp)\n"
   ]
  },
  {
   "cell_type": "code",
   "execution_count": null,
   "metadata": {
    "collapsed": false
   },
   "outputs": [],
   "source": [
    "vmin=-1.7E1/1.0E3\n",
    "vmax=4.446e+01/1.0E3\n",
    "cmap=sns.cubehelix_palette(8, start=.5, rot=-.75,as_cmap=True)\n",
    "real_250 = aplpy.FITSFigure(extended_source_conv[1])\n",
    "real_250.show_colorscale(vmin=vmin,vmax=0.8,cmap=cmap)\n",
    "#real_250.show_markers(ra_list,dec_list, edgecolor='white', facecolor='white',\n",
    "                #marker='o', s=40, alpha=0.5)\n",
    "real_250.show_ellipses(ra_zoom, dec_zoom,2*WISE_sources[idx]['Riso']/3600.0,2*WISE_sources[idx]['Riso']*WISE_sources[idx]['ba']/3600.0, angle=360.0-WISE_sources[idx]['pa'],edgecolor='white',linewidth=2.0)\n",
    "\n",
    "real_250.show_markers(IRAC_sources['RA'],IRAC_sources['DEC'], edgecolor='yellow', facecolor='yellow',\n",
    "                marker='o', s=40, alpha=0.5)\n",
    "#real_250.recenter(ra_zoom, dec_zoom, radius=radius)\n",
    "real_250.add_colorbar()"
   ]
  },
  {
   "cell_type": "code",
   "execution_count": null,
   "metadata": {
    "collapsed": false
   },
   "outputs": [],
   "source": [
    "prior250.amat_data"
   ]
  },
  {
   "cell_type": "markdown",
   "metadata": {},
   "source": [
    "# Fit with disc and bulge"
   ]
  },
  {
   "cell_type": "code",
   "execution_count": null,
   "metadata": {
    "collapsed": true
   },
   "outputs": [],
   "source": [
    "#Concatenate the extended source twice, once for bulge once for disc\n",
    "RA=np.concatenate((np.concatenate((IRAC_sources['RA'].__array__(),source['RAJ2000'].__array__())),source['RAJ2000'].__array__()))\n",
    "Dec=np.concatenate((np.concatenate((IRAC_sources['DEC'].__array__(),source['DEJ2000'].__array__())),source['DEJ2000'].__array__()))\n"
   ]
  },
  {
   "cell_type": "code",
   "execution_count": null,
   "metadata": {
    "collapsed": true
   },
   "outputs": [],
   "source": [
    "prior_cat='IRAC'\n",
    "#---prior250--------\n",
    "prior250=xidplus.prior(im250,nim250,im250phdu,im250hdu)#Initialise with map, uncertianty map, wcs info and primary header\n",
    "prior250.prior_cat(RA,Dec,prior_cat)#Set input catalogue\n",
    "prior250.prior_bkg(-5.0,5)#Set prior on background (assumes Guassian pdf with mu and sigma)\n",
    "#---prior350--------\n",
    "prior350=xidplus.prior(im350,nim350,im350phdu,im350hdu)\n",
    "prior350.prior_cat(RA,Dec,prior_cat)\n",
    "prior350.prior_bkg(-5.0,5)\n",
    "\n",
    "#---prior500--------\n",
    "prior500=xidplus.prior(im500,nim500,im500phdu,im500hdu)\n",
    "prior500.prior_cat(RA,Dec,prior_cat)\n",
    "prior500.prior_bkg(-5.0,5)"
   ]
  },
  {
   "cell_type": "code",
   "execution_count": null,
   "metadata": {
    "collapsed": true
   },
   "outputs": [],
   "source": [
    "#pixsize array (size of pixels in arcseconds)\n",
    "pixsize=np.array([pixsize250,pixsize350,pixsize500])\n",
    "#point response function for the three bands\n",
    "prfsize=np.array([18.15,25.15,36.3])\n",
    "#use Gaussian2DKernel to create prf (requires stddev rather than fwhm hence pfwhm/2.355)\n",
    "from astropy.convolution import Gaussian2DKernel\n",
    "\n",
    "##---------fit using Gaussian beam-----------------------\n",
    "prf250=Gaussian2DKernel(prfsize[0]/2.355,x_size=101,y_size=101)\n",
    "prf250.normalize(mode='peak')\n",
    "prf350=Gaussian2DKernel(prfsize[1]/2.355,x_size=101,y_size=101)\n",
    "prf350.normalize(mode='peak')\n",
    "prf500=Gaussian2DKernel(prfsize[2]/2.355,x_size=101,y_size=101)\n",
    "prf500.normalize(mode='peak')\n",
    "\n",
    "pind250=np.arange(0,101,1)*1.0/pixsize[0] #get 250 scale in terms of pixel scale of map\n",
    "pind350=np.arange(0,101,1)*1.0/pixsize[1] #get 350 scale in terms of pixel scale of map\n",
    "pind500=np.arange(0,101,1)*1.0/pixsize[2] #get 500 scale in terms of pixel scale of map\n",
    "\n",
    "prior250.set_prf(prf250.array,pind250,pind250)#requires psf as 2d grid, and x and y bins for grid (in pixel scale)\n",
    "prior350.set_prf(prf350.array,pind350,pind350)\n",
    "prior500.set_prf(prf500.array,pind500,pind500)"
   ]
  },
  {
   "cell_type": "code",
   "execution_count": null,
   "metadata": {
    "collapsed": false
   },
   "outputs": [],
   "source": [
    "print 'fitting '+ str(prior250.nsrc)+' sources \\n'\n",
    "print 'using ' +  str(prior250.snpix)+', '+ str(prior250.snpix)+' and '+ str(prior500.snpix)+' pixels'\n"
   ]
  },
  {
   "cell_type": "code",
   "execution_count": null,
   "metadata": {
    "collapsed": true
   },
   "outputs": [],
   "source": [
    "from pymoc import MOC\n",
    "moc=MOC()\n",
    "moc.read('./data/extended_source_test_MOC_rad4.fits')\n",
    "prior250.set_tile(moc)\n",
    "prior350.set_tile(moc)\n",
    "prior500.set_tile(moc)"
   ]
  },
  {
   "cell_type": "code",
   "execution_count": null,
   "metadata": {
    "collapsed": true
   },
   "outputs": [],
   "source": [
    "prior250.get_pointing_matrix()\n",
    "prior350.get_pointing_matrix()\n",
    "prior500.get_pointing_matrix()"
   ]
  },
  {
   "cell_type": "code",
   "execution_count": null,
   "metadata": {
    "collapsed": false
   },
   "outputs": [],
   "source": [
    "print 'fitting '+ str(prior250.nsrc)+' sources \\n'\n",
    "print 'using ' +  str(prior250.snpix)+', '+ str(prior250.snpix)+' and '+ str(prior500.snpix)+' pixels'"
   ]
  },
  {
   "cell_type": "code",
   "execution_count": null,
   "metadata": {
    "collapsed": true
   },
   "outputs": [],
   "source": [
    "prior250.upper_lim_map()\n",
    "prior350.upper_lim_map()\n",
    "prior500.upper_lim_map()"
   ]
  },
  {
   "cell_type": "code",
   "execution_count": null,
   "metadata": {
    "collapsed": false
   },
   "outputs": [],
   "source": [
    "prior250=add_extended_source(prior250,419,source['Spa'],source['r_K20e'],source['r_K20e']*source['Kb_a'])\n",
    "prior250=add_extended_source(prior250,420,WISE_sources[idx]['pa'],WISE_sources[idx]['Riso'],WISE_sources[idx]['Riso']*WISE_sources[idx]['ba'])\n",
    "prior350=add_extended_source(prior350,419,source['Spa'],source['r_K20e'],source['r_K20e']*source['Kb_a'])\n",
    "prior350=add_extended_source(prior350,420,WISE_sources[idx]['pa'],WISE_sources[idx]['Riso'],WISE_sources[idx]['Riso']*WISE_sources[idx]['ba'])\n",
    "prior500=add_extended_source(prior500,419,source['Spa'],source['r_K20e'],source['r_K20e']*source['Kb_a'])\n",
    "prior500=add_extended_source(prior500,420,WISE_sources[idx]['pa'],WISE_sources[idx]['Riso'],WISE_sources[idx]['Riso']*WISE_sources[idx]['ba'])\n"
   ]
  },
  {
   "cell_type": "code",
   "execution_count": null,
   "metadata": {
    "collapsed": false
   },
   "outputs": [],
   "source": [
    "prior250=add_sersic_source(prior250,419,WISE_sources[idx]['pa'],WISE_sources[idx]['scale_1a'],WISE_sources[idx]['beta_1a'],WISE_sources[idx]['ba'])\n",
    "prior250=add_sersic_source(prior250,420,WISE_sources[idx]['pa'],WISE_sources[idx]['scale_1b'],WISE_sources[idx]['beta_1b'],WISE_sources[idx]['ba'])\n",
    "\n",
    "prior350=add_sersic_source(prior350,419,WISE_sources[idx]['pa'],WISE_sources[idx]['scale_1a'],WISE_sources[idx]['beta_1a'],WISE_sources[idx]['ba'])\n",
    "prior350=add_sersic_source(prior350,420,WISE_sources[idx]['pa'],WISE_sources[idx]['scale_1b'],WISE_sources[idx]['beta_1b'],WISE_sources[idx]['ba'])\n",
    "\n",
    "prior500=add_sersic_source(prior500,419,WISE_sources[idx]['pa'],WISE_sources[idx]['scale_1a'],WISE_sources[idx]['beta_1a'],WISE_sources[idx]['ba'])\n",
    "prior500=add_sersic_source(prior500,420,WISE_sources[idx]['pa'],WISE_sources[idx]['scale_1b'],WISE_sources[idx]['beta_1b'],WISE_sources[idx]['ba'])\n",
    "\n"
   ]
  },
  {
   "cell_type": "code",
   "execution_count": null,
   "metadata": {
    "collapsed": false
   },
   "outputs": [],
   "source": [
    "SDSS=Table.read('./data/SDSS_extended_example.csv',format='ascii.csv')\n",
    "SDSS"
   ]
  },
  {
   "cell_type": "code",
   "execution_count": null,
   "metadata": {
    "collapsed": false
   },
   "outputs": [],
   "source": [
    "prior250=add_sersic_source(prior250,419,SDSS['expPhi_u'],SDSS['expRad_u'],1.0,SDSS['expAB_u'])\n",
    "prior350=add_sersic_source(prior350,419,SDSS['expPhi_u'],SDSS['expRad_u'],1.0,SDSS['expAB_u'])\n",
    "\n",
    "prior500=add_sersic_source(prior500,419,SDSS['expPhi_u'],SDSS['expRad_u'],1.0,SDSS['expAB_u'])\n",
    "\n"
   ]
  },
  {
   "cell_type": "code",
   "execution_count": null,
   "metadata": {
    "collapsed": false
   },
   "outputs": [],
   "source": [
    "from xidplus.stan_fit import SPIRE\n",
    "fit=SPIRE.all_bands(prior250,prior350,prior500,iter=1000)"
   ]
  },
  {
   "cell_type": "code",
   "execution_count": null,
   "metadata": {
    "collapsed": true
   },
   "outputs": [],
   "source": [
    "posterior=xidplus.posterior_stan(fit,[prior250,prior350,prior500])\n"
   ]
  },
  {
   "cell_type": "code",
   "execution_count": null,
   "metadata": {
    "collapsed": true
   },
   "outputs": [],
   "source": [
    "from xidplus import posterior_maps as postmaps\n",
    "\n",
    "hdurep_250=postmaps.make_fits_image(prior250,prior250.sim)\n",
    "hdurep_350=postmaps.make_fits_image(prior350,prior350.sim)\n",
    "hdurep_500=postmaps.make_fits_image(prior500,prior500.sim)"
   ]
  },
  {
   "cell_type": "code",
   "execution_count": null,
   "metadata": {
    "collapsed": true
   },
   "outputs": [],
   "source": [
    "mod_map=np.full((hdurep_250[1].data.shape[1],hdurep_250[1].data.shape[0],500),np.nan)\n",
    "mod_map_array=np.empty((prior250.snpix,500))\n",
    "\n",
    "for i in range(0,500):\n",
    "    mod_map_array[:,i]= postmaps.ymod_map(prior250,posterior.stan_fit[i,0,0:prior250.nsrc]).reshape(-1)+posterior.stan_fit[i,0,prior250.nsrc]+np.random.normal(scale=np.sqrt(prior250.snim**2+posterior.stan_fit[i,0,(prior250.nsrc+1)*3]**2))         \n",
    "    mod_map[prior250.sx_pix-np.min(prior250.sx_pix)-1,prior250.sy_pix-np.min(prior250.sy_pix)-1,i]=mod_map_array[:,i]"
   ]
  },
  {
   "cell_type": "code",
   "execution_count": null,
   "metadata": {
    "collapsed": true
   },
   "outputs": [],
   "source": [
    "mod_map_350=np.full((hdurep_350[1].data.shape[1],hdurep_350[1].data.shape[0],500),np.nan)\n",
    "mod_map_array_350=np.empty((prior350.snpix,500))\n",
    "\n",
    "for i in range(0,500):\n",
    "    mod_map_array_350[:,i]= postmaps.ymod_map(prior350,posterior.stan_fit[i,0,prior350.nsrc+1:2*prior350.nsrc+1]).reshape(-1)+posterior.stan_fit[i,0,2*prior350.nsrc+1]+np.random.normal(scale=np.sqrt(prior350.snim**2+posterior.stan_fit[i,0,1+(prior350.nsrc+1)*3]**2))         \n",
    "    mod_map_350[prior350.sx_pix-np.min(prior350.sx_pix)-1,prior350.sy_pix-np.min(prior350.sy_pix)-1,i]=mod_map_array_350[:,i]"
   ]
  },
  {
   "cell_type": "code",
   "execution_count": null,
   "metadata": {
    "collapsed": true
   },
   "outputs": [],
   "source": [
    "mod_map_500=np.full((hdurep_500[1].data.shape[1],hdurep_500[1].data.shape[0],500),np.nan)\n",
    "mod_map_array_500=np.empty((prior500.snpix,500))\n",
    "\n",
    "for i in range(0,500):\n",
    "    mod_map_array_500[:,i]= postmaps.ymod_map(prior500,posterior.stan_fit[i,0,2*prior500.nsrc+2:3*prior350.nsrc+2]).reshape(-1)+posterior.stan_fit[i,0,3*prior500.nsrc+2]+np.random.normal(scale=np.sqrt(prior500.snim**2+posterior.stan_fit[i,0,2+(prior500.nsrc+1)*3]**2))         \n",
    "    mod_map_500[prior500.sx_pix-np.min(prior500.sx_pix)-1,prior500.sy_pix-np.min(prior500.sy_pix)-1,i]=mod_map_array_500[:,i]"
   ]
  },
  {
   "cell_type": "code",
   "execution_count": null,
   "metadata": {
    "collapsed": true
   },
   "outputs": [],
   "source": [
    "import scipy.stats as st\n",
    "\n",
    "pval_250=np.empty_like(prior250.sim)\n",
    "for i in range(0,prior250.snpix):\n",
    "    ind=mod_map_array[i,:]<prior250.sim[i]\n",
    "    pval_250[i]=st.norm.ppf(sum(ind)/np.float(mod_map_array.shape[1]))\n",
    "pval_250[np.isposinf(pval_250)]=6\n",
    "    \n",
    "pval_350=np.empty_like(prior350.sim)\n",
    "for i in range(0,prior350.snpix):\n",
    "    ind=mod_map_array_350[i,:]<prior350.sim[i]\n",
    "    pval_350[i]=st.norm.ppf(sum(ind)/np.float(mod_map_array_350.shape[1]))\n",
    "pval_350[np.isposinf(pval_350)]=6\n",
    "    \n",
    "pval_500=np.empty_like(prior500.sim)\n",
    "for i in range(0,prior500.snpix):\n",
    "    ind=mod_map_array_500[i,:]<prior500.sim[i]\n",
    "    pval_500[i]=st.norm.ppf(sum(ind)/np.float(mod_map_array_500.shape[1]))\n",
    "pval_500[np.isposinf(pval_500)]=6"
   ]
  },
  {
   "cell_type": "code",
   "execution_count": null,
   "metadata": {
    "collapsed": true
   },
   "outputs": [],
   "source": []
  },
  {
   "cell_type": "code",
   "execution_count": null,
   "metadata": {
    "collapsed": false
   },
   "outputs": [],
   "source": [
    "cmap=sns.cubehelix_palette(8, start=.5, rot=-.75,as_cmap=True)\n",
    "\n",
    "vmin=-1.7E1/1.0E3\n",
    "vmax=4.446e+01/1.0E3\n",
    "ra_zoom=source['RAJ2000']\n",
    "dec_zoom=source['DEJ2000']\n",
    "radius=0.05\n",
    "fig = plt.figure(figsize=(30,30))\n",
    "cfhtls=aplpy.FITSFigure('./data/W1+1+2.U.11023_11534_3064_3575.fits',figure=fig,subplot=(3,3,1))\n",
    "cfhtls.show_colorscale(vmin=-10,vmax=200,cmap=cmap)\n",
    "cfhtls.recenter(ra_zoom, dec_zoom, radius=radius)\n",
    "\n",
    "\n",
    "mips=aplpy.FITSFigure('./data/wp4_xmm-lss_mips24_map_v1.0.fits',figure=fig,subplot=(3,3,2))\n",
    "mips.show_colorscale(vmin=-0.001,vmax=5,cmap=cmap)\n",
    "mips.recenter(ra_zoom, dec_zoom, radius=radius)\n",
    "\n",
    "wise_band4=aplpy.FITSFigure('./data/L3a-0349m061_ac51-0349m061_ac51-w4-int-3_ra35.401958_dec-5.5213939_asec600.000.fits',figure=fig,subplot=(3,3,3))\n",
    "wise_band4.show_colorscale(vmin=202,vmax=204,cmap=cmap)\n",
    "wise_band4.recenter(ra_zoom, dec_zoom, radius=radius)\n",
    "wise_band4.show_ellipses(ra_zoom, dec_zoom,2*WISE_sources[idx]['Riso']/3600.0,2*WISE_sources[idx]['Riso']*WISE_sources[idx]['ba']/3600.0, angle=360.0-WISE_sources[idx]['pa'],edgecolor='white',linewidth=2.0)\n",
    "\n",
    "\n",
    "real_250 = aplpy.FITSFigure(hdulist_250[1],figure=fig,subplot=(3,3,4))\n",
    "real_250.show_colorscale(vmin=vmin,vmax=0.8,cmap=cmap)\n",
    "#real_250.show_markers(ra_list,dec_list, edgecolor='white', facecolor='white',\n",
    "                #marker='o', s=40, alpha=0.5)\n",
    "real_250.show_markers(IRAC_sources['RA'],IRAC_sources['DEC'], edgecolor='yellow', facecolor='yellow',\n",
    "                marker='o', s=40, alpha=0.5)\n",
    "real_250.recenter(ra_zoom, dec_zoom, radius=radius)\n",
    "real_250.show_ellipses(ra_zoom, dec_zoom,2*source['r_K20e']/3600.0,2*source['r_K20e']*source['Kb_a']/3600.0, angle=360.0-source['Spa'],edgecolor='white',linewidth=2.0)\n",
    "real_250.show_ellipses(ra_zoom, dec_zoom,2*WISE_sources[idx]['Riso']/3600.0,2*WISE_sources[idx]['Riso']*WISE_sources[idx]['ba']/3600.0, angle=360.0-WISE_sources[idx]['pa'],edgecolor='white',linewidth=2.0)\n",
    "\n",
    "real_250.add_colorbar()\n",
    "#real_250.show_markers(WISE_sources['ra'],WISE_sources['dec'], edgecolor='red', facecolor='red',\n",
    "#                marker='o', s=40, alpha=0.5)\n",
    "\n",
    "real_350 = aplpy.FITSFigure(hdulist_350[1],figure=fig,subplot=(3,3,5))\n",
    "real_350.show_colorscale(vmin=vmin,vmax=0.8,cmap=cmap)\n",
    "real_350.show_ellipses(ra_zoom, dec_zoom,2*source['r_K20e']/3600.0,2*source['r_K20e']*source['Kb_a']/3600.0, angle=360.0-source['Spa'],edgecolor='white',linewidth=2.0)\n",
    "\n",
    "#real_350.show_markers(prior250.sra, prior250.sdec, edgecolor='black', facecolor='black',\n",
    "                #marker='o', s=40, alpha=0.5)\n",
    "real_350.recenter(ra_zoom, dec_zoom, radius=radius)\n",
    "\n",
    "real_500 = aplpy.FITSFigure(hdulist_500[1],figure=fig,subplot=(3,3,6))\n",
    "real_500.show_colorscale(vmin=vmin,vmax=0.8,cmap=cmap)\n",
    "#real_500.show_markers(prior250.sra, prior250.sdec, edgecolor='black', facecolor='black',\n",
    "                #marker='o', s=40, alpha=0.5)\n",
    "real_500.recenter(ra_zoom, dec_zoom, radius=radius)\n",
    "real_500.show_ellipses(ra_zoom, dec_zoom,2*source['r_K20e']/3600.0,2*source['r_K20e']*source['Kb_a']/3600.0, angle=360.0-source['Spa'],edgecolor='white',linewidth=2.0)\n",
    "\n",
    "vmin=-6\n",
    "vmax=6\n",
    "cmap=sns.diverging_palette(220, 20,as_cmap=True)\n",
    "\n",
    "res250=aplpy.FITSFigure(hdurep_250[1],figure=fig,subplot=(3,3,7))\n",
    "res250.show_colorscale(vmin=vmin,vmax=vmax,cmap=cmap)\n",
    "res250.show_markers(prior250.sra, prior250.sdec, edgecolor='black', facecolor='black',\n",
    "                marker='o', s=80, alpha=0.5)\n",
    "res250.recenter(ra_zoom, dec_zoom, radius=radius)\n",
    "\n",
    "res350=aplpy.FITSFigure(hdurep_350[1],figure=fig,subplot=(3,3,8))\n",
    "res350.show_colorscale(vmin=vmin,vmax=vmax,cmap=cmap)\n",
    "res350.show_markers(prior350.sra, prior350.sdec, edgecolor='black', facecolor='black',\n",
    "                marker='o', s=80, alpha=0.5)\n",
    "res350.recenter(ra_zoom, dec_zoom, radius=radius)\n",
    "\n",
    "\n",
    "res500=aplpy.FITSFigure(hdurep_500[1],figure=fig,subplot=(3,3,9))\n",
    "res500.show_colorscale(vmin=vmin,vmax=vmax,cmap=cmap)\n",
    "res500.show_markers(prior500.sra, prior500.sdec, edgecolor='black', facecolor='black',\n",
    "                marker='o', s=80, alpha=0.5)\n",
    "\n",
    "\n",
    "res250._data[prior250.sy_pix-np.min(prior250.sy_pix)-1,prior250.sx_pix-np.min(prior250.sx_pix)-1]=pval_250\n",
    "res350._data[prior350.sy_pix-np.min(prior350.sy_pix)-1,prior350.sx_pix-np.min(prior350.sx_pix)-1]=pval_350\n",
    "res500._data[prior500.sy_pix-np.min(prior500.sy_pix)-1,prior500.sx_pix-np.min(prior500.sx_pix)-1]=pval_500\n",
    "res500.recenter(ra_zoom, dec_zoom, radius=radius)\n",
    "#res500.tick_labels.set_xformat('dd.dd')\n",
    "#res500.tick_labels.set_yformat('dd.dd')\n",
    "\n",
    "\n",
    "res250.show_colorscale(vmin=vmin,vmax=vmax,cmap=cmap)\n",
    "res350.show_colorscale(vmin=vmin,vmax=vmax,cmap=cmap)\n",
    "res500.show_colorscale(vmin=vmin,vmax=vmax,cmap=cmap)\n",
    "res250.add_colorbar()\n",
    "res250.colorbar.set_location('top')\n",
    "res350.add_colorbar()\n",
    "res350.colorbar.set_location('top')\n",
    "res500.add_colorbar()\n",
    "res500.colorbar.set_location('top')\n"
   ]
  },
  {
   "cell_type": "code",
   "execution_count": null,
   "metadata": {
    "collapsed": false
   },
   "outputs": [],
   "source": [
    "plt.imshow(mod_map[:,:,1],interpolation='nearest')\n",
    "plt.colorbar()"
   ]
  },
  {
   "cell_type": "code",
   "execution_count": null,
   "metadata": {
    "collapsed": false
   },
   "outputs": [],
   "source": [
    "plt.hist(posterior.stan_fit[:,:,420])"
   ]
  },
  {
   "cell_type": "code",
   "execution_count": null,
   "metadata": {
    "collapsed": false
   },
   "outputs": [],
   "source": [
    "prior250.nsrc"
   ]
  },
  {
   "cell_type": "code",
   "execution_count": null,
   "metadata": {
    "collapsed": true
   },
   "outputs": [],
   "source": []
  },
  {
   "cell_type": "code",
   "execution_count": null,
   "metadata": {
    "collapsed": false
   },
   "outputs": [],
   "source": [
    "cmap=sns.cubehelix_palette(8, start=.5, rot=-.75,as_cmap=True)\n",
    "\n",
    "vmin=-1.7E1/1.0E3\n",
    "vmax=4.446e+01/1.0E3\n",
    "ra_zoom=source['RAJ2000']\n",
    "dec_zoom=source['DEJ2000']\n",
    "radius=0.05\n",
    "fig = plt.figure(figsize=(30,30))\n",
    "cfhtls=aplpy.FITSFigure('./data/W1+1+2.U.11023_11534_3064_3575.fits',figure=fig,subplot=(3,3,1))\n",
    "cfhtls.show_colorscale(vmin=-10,vmax=200,cmap=cmap)\n",
    "cfhtls.recenter(ra_zoom, dec_zoom, radius=radius)\n",
    "\n",
    "\n",
    "mips=aplpy.FITSFigure('./data/wp4_xmm-lss_mips24_map_v1.0.fits',figure=fig,subplot=(3,3,2))\n",
    "mips.show_colorscale(vmin=-0.001,vmax=5,cmap=cmap)\n",
    "mips.recenter(ra_zoom, dec_zoom, radius=radius)\n",
    "\n",
    "wise_band4=aplpy.FITSFigure('./data/L3a-0349m061_ac51-0349m061_ac51-w4-int-3_ra35.401958_dec-5.5213939_asec600.000.fits',figure=fig,subplot=(3,3,3))\n",
    "wise_band4.show_colorscale(vmin=202,vmax=204,cmap=cmap)\n",
    "wise_band4.recenter(ra_zoom, dec_zoom, radius=radius)\n",
    "wise_band4.show_ellipses(ra_zoom, dec_zoom,2*WISE_sources[idx]['Riso']/3600.0,2*WISE_sources[idx]['Riso']*WISE_sources[idx]['ba']/3600.0, angle=360.0-WISE_sources[idx]['pa'],edgecolor='white',linewidth=2.0)\n",
    "\n",
    "\n",
    "real_250 = aplpy.FITSFigure(hdulist_250[1],figure=fig,subplot=(3,3,4))\n",
    "real_250.show_colorscale(vmin=vmin,vmax=0.8,cmap=cmap,stretch='arcsinh')\n",
    "#real_250.show_markers(ra_list,dec_list, edgecolor='white', facecolor='white',\n",
    "                #marker='o', s=40, alpha=0.5)\n",
    "real_250.show_markers(IRAC_sources['RA'],IRAC_sources['DEC'], edgecolor='yellow', facecolor='yellow',\n",
    "                marker='o', s=40, alpha=0.5)\n",
    "real_250.recenter(ra_zoom, dec_zoom, radius=radius)\n",
    "real_250.show_ellipses(ra_zoom, dec_zoom,2*source['r_K20e']/3600.0,2*source['r_K20e']*source['Kb_a']/3600.0, angle=360.0-source['Spa'],edgecolor='white',linewidth=2.0)\n",
    "real_250.show_ellipses(ra_zoom, dec_zoom,2*WISE_sources[idx]['Riso']/3600.0,2*WISE_sources[idx]['Riso']*WISE_sources[idx]['ba']/3600.0, angle=360.0-WISE_sources[idx]['pa'],edgecolor='white',linewidth=2.0)\n",
    "\n",
    "real_250.add_colorbar()\n",
    "#real_250.show_markers(WISE_sources['ra'],WISE_sources['dec'], edgecolor='red', facecolor='red',\n",
    "#                marker='o', s=40, alpha=0.5)\n",
    "\n",
    "real_350 = aplpy.FITSFigure(hdulist_350[1],figure=fig,subplot=(3,3,5))\n",
    "real_350.show_colorscale(vmin=vmin,vmax=0.8,cmap=cmap,stretch='arcsinh')\n",
    "real_350.show_ellipses(ra_zoom, dec_zoom,2*source['r_K20e']/3600.0,2*source['r_K20e']*source['Kb_a']/3600.0, angle=360.0-source['Spa'],edgecolor='white',linewidth=2.0)\n",
    "\n",
    "#real_350.show_markers(prior250.sra, prior250.sdec, edgecolor='black', facecolor='black',\n",
    "                #marker='o', s=40, alpha=0.5)\n",
    "real_350.recenter(ra_zoom, dec_zoom, radius=radius)\n",
    "\n",
    "real_500 = aplpy.FITSFigure(hdulist_500[1],figure=fig,subplot=(3,3,6))\n",
    "real_500.show_colorscale(vmin=vmin,vmax=0.8,cmap=cmap,stretch='arcsinh')\n",
    "#real_500.show_markers(prior250.sra, prior250.sdec, edgecolor='black', facecolor='black',\n",
    "                #marker='o', s=40, alpha=0.5)\n",
    "real_500.recenter(ra_zoom, dec_zoom, radius=radius)\n",
    "real_500.show_ellipses(ra_zoom, dec_zoom,2*source['r_K20e']/3600.0,2*source['r_K20e']*source['Kb_a']/3600.0, angle=360.0-source['Spa'],edgecolor='white',linewidth=2.0)\n",
    "\n",
    "vmin=-1.7E1\n",
    "vmax=800.0\n",
    "#cmap=sns.diverging_palette(220, 20,as_cmap=True)\n",
    "\n",
    "res250=aplpy.FITSFigure(hdurep_250[1],figure=fig,subplot=(3,3,7))\n",
    "res250.show_colorscale(vmin=vmin,vmax=vmax,cmap=cmap,stretch='arcsinh')\n",
    "res250.show_markers(prior250.sra, prior250.sdec, edgecolor='black', facecolor='black',\n",
    "                marker='o', s=80, alpha=0.5)\n",
    "res250.recenter(ra_zoom, dec_zoom, radius=radius)\n",
    "\n",
    "res350=aplpy.FITSFigure(hdurep_350[1],figure=fig,subplot=(3,3,8))\n",
    "res350.show_colorscale(vmin=vmin,vmax=vmax,cmap=cmap,stretch='arcsinh')\n",
    "res350.show_markers(prior350.sra, prior350.sdec, edgecolor='black', facecolor='black',\n",
    "                marker='o', s=80, alpha=0.5)\n",
    "res350.recenter(ra_zoom, dec_zoom, radius=radius)\n",
    "\n",
    "\n",
    "res500=aplpy.FITSFigure(hdurep_500[1],figure=fig,subplot=(3,3,9))\n",
    "res500.show_colorscale(vmin=vmin,vmax=vmax,cmap=cmap,stretch='arcsinh')\n",
    "res500.show_markers(prior500.sra, prior500.sdec, edgecolor='black', facecolor='black',\n",
    "                marker='o', s=80, alpha=0.5)\n",
    "\n",
    "\n",
    "res250._data[prior250.sy_pix-np.min(prior250.sy_pix)-1,prior250.sx_pix-np.min(prior250.sx_pix)-1]=mod_map_array[:,50]\n",
    "res350._data[prior350.sy_pix-np.min(prior350.sy_pix)-1,prior350.sx_pix-np.min(prior350.sx_pix)-1]=mod_map_array_350[:,50]\n",
    "res500._data[prior500.sy_pix-np.min(prior500.sy_pix)-1,prior500.sx_pix-np.min(prior500.sx_pix)-1]=mod_map_array_500[:,50]\n",
    "res500.recenter(ra_zoom, dec_zoom, radius=radius)\n",
    "#res500.tick_labels.set_xformat('dd.dd')\n",
    "#res500.tick_labels.set_yformat('dd.dd')\n",
    "\n",
    "\n",
    "res250.show_colorscale(vmin=vmin,vmax=vmax,cmap=cmap,stretch='arcsinh')\n",
    "res350.show_colorscale(vmin=vmin,vmax=vmax,cmap=cmap,stretch='arcsinh')\n",
    "res500.show_colorscale(vmin=vmin,vmax=vmax,cmap=cmap,stretch='arcsinh')\n",
    "res250.add_colorbar()\n",
    "res250.colorbar.set_location('top')\n",
    "res350.add_colorbar()\n",
    "res350.colorbar.set_location('top')\n",
    "res500.add_colorbar()\n",
    "res500.colorbar.set_location('top')\n"
   ]
  },
  {
   "cell_type": "code",
   "execution_count": null,
   "metadata": {
    "collapsed": false
   },
   "outputs": [],
   "source": [
    "plt.scatter(posterior.stan_fit[:,:,419].flatten(),posterior.stan_fit[:,:,420].flatten())"
   ]
  },
  {
   "cell_type": "code",
   "execution_count": null,
   "metadata": {
    "collapsed": false
   },
   "outputs": [],
   "source": [
    "plt.hist(posterior.stan_fit[:,:,-4].flatten())"
   ]
  },
  {
   "cell_type": "code",
   "execution_count": null,
   "metadata": {
    "collapsed": true
   },
   "outputs": [],
   "source": [
    "prior250\n",
    "extended_source_conv=postmaps.make_fits_image(prior250,atemp)\n"
   ]
  },
  {
   "cell_type": "code",
   "execution_count": null,
   "metadata": {
    "collapsed": false
   },
   "outputs": [],
   "source": [
    "prior250.amat_col == 419"
   ]
  },
  {
   "cell_type": "code",
   "execution_count": null,
   "metadata": {
    "collapsed": false
   },
   "outputs": [],
   "source": [
    "prior250.nsrc"
   ]
  },
  {
   "cell_type": "code",
   "execution_count": null,
   "metadata": {
    "collapsed": false
   },
   "outputs": [],
   "source": [
    "atemp=np.empty_like(prior250.sim)\n",
    "atemp[:]=0.0\n",
    "ind=prior250.amat_col == 420\n",
    "atemp[prior250.amat_row[ind]]=prior250.amat_data[ind]\n",
    "extended_source_conv=postmaps.make_fits_image(prior250,atemp)\n",
    "cmap=sns.cubehelix_palette(8, start=.5, rot=-.75,as_cmap=True)\n",
    "real_250 = aplpy.FITSFigure(extended_source_conv[1])\n",
    "real_250.show_colorscale(cmap=cmap)\n",
    "#real_250.show_markers(ra_list,dec_list, edgecolor='white', facecolor='white',\n",
    "                #marker='o', s=40, alpha=0.5)\n",
    "real_250.show_ellipses(ra_zoom, dec_zoom,2*WISE_sources[idx]['Riso']/3600.0,2*WISE_sources[idx]['Riso']*WISE_sources[idx]['ba']/3600.0, angle=360.0-WISE_sources[idx]['pa'],edgecolor='white',linewidth=2.0)\n",
    "\n",
    "real_250.show_markers(IRAC_sources['RA'],IRAC_sources['DEC'], edgecolor='yellow', facecolor='yellow',\n",
    "                marker='o', s=40, alpha=0.5)\n",
    "#real_250.recenter(ra_zoom, dec_zoom, radius=radius)\n"
   ]
  },
  {
   "cell_type": "code",
   "execution_count": null,
   "metadata": {
    "collapsed": false
   },
   "outputs": [],
   "source": [
    "fit=SPIRE.all_bands(prior250,prior350,prior500,iter=1500)"
   ]
  },
  {
   "cell_type": "code",
   "execution_count": null,
   "metadata": {
    "collapsed": true
   },
   "outputs": [],
   "source": [
    "posterior=xidplus.posterior_stan(fit,[prior250,prior350,prior500])\n"
   ]
  },
  {
   "cell_type": "code",
   "execution_count": null,
   "metadata": {
    "collapsed": true
   },
   "outputs": [],
   "source": [
    "from xidplus import posterior_maps as postmaps\n",
    "\n",
    "hdurep_250=postmaps.make_fits_image(prior250,prior250.sim)\n",
    "hdurep_350=postmaps.make_fits_image(prior350,prior350.sim)\n",
    "hdurep_500=postmaps.make_fits_image(prior500,prior500.sim)"
   ]
  },
  {
   "cell_type": "code",
   "execution_count": null,
   "metadata": {
    "collapsed": true
   },
   "outputs": [],
   "source": [
    "mod_map=np.full((hdurep_250[1].data.shape[1],hdurep_250[1].data.shape[0],500),np.nan)\n",
    "mod_map_array=np.empty((prior250.snpix,500))\n",
    "\n",
    "for i in range(0,500):\n",
    "    mod_map_array[:,i]= postmaps.ymod_map(prior250,posterior.stan_fit[i,0,0:prior250.nsrc]).reshape(-1)+posterior.stan_fit[i,0,prior250.nsrc]+np.random.normal(scale=np.sqrt(prior250.snim**2+posterior.stan_fit[i,0,(prior250.nsrc+1)*3]**2))         \n",
    "    mod_map[prior250.sx_pix-np.min(prior250.sx_pix)-1,prior250.sy_pix-np.min(prior250.sy_pix)-1,i]=mod_map_array[:,i]"
   ]
  },
  {
   "cell_type": "code",
   "execution_count": null,
   "metadata": {
    "collapsed": true
   },
   "outputs": [],
   "source": [
    "mod_map_350=np.full((hdurep_350[1].data.shape[1],hdurep_350[1].data.shape[0],500),np.nan)\n",
    "mod_map_array_350=np.empty((prior350.snpix,500))\n",
    "\n",
    "for i in range(0,500):\n",
    "    mod_map_array_350[:,i]= postmaps.ymod_map(prior350,posterior.stan_fit[i,0,prior350.nsrc+1:2*prior350.nsrc+1]).reshape(-1)+posterior.stan_fit[i,0,2*prior350.nsrc+1]+np.random.normal(scale=np.sqrt(prior350.snim**2+posterior.stan_fit[i,0,1+(prior350.nsrc+1)*3]**2))         \n",
    "    mod_map_350[prior350.sx_pix-np.min(prior350.sx_pix)-1,prior350.sy_pix-np.min(prior350.sy_pix)-1,i]=mod_map_array_350[:,i]"
   ]
  },
  {
   "cell_type": "code",
   "execution_count": null,
   "metadata": {
    "collapsed": true
   },
   "outputs": [],
   "source": [
    "mod_map_500=np.full((hdurep_500[1].data.shape[1],hdurep_500[1].data.shape[0],500),np.nan)\n",
    "mod_map_array_500=np.empty((prior500.snpix,500))\n",
    "\n",
    "for i in range(0,500):\n",
    "    mod_map_array_500[:,i]= postmaps.ymod_map(prior500,posterior.stan_fit[i,0,2*prior500.nsrc+2:3*prior350.nsrc+2]).reshape(-1)+posterior.stan_fit[i,0,3*prior500.nsrc+2]+np.random.normal(scale=np.sqrt(prior500.snim**2+posterior.stan_fit[i,0,2+(prior500.nsrc+1)*3]**2))         \n",
    "    mod_map_500[prior500.sx_pix-np.min(prior500.sx_pix)-1,prior500.sy_pix-np.min(prior500.sy_pix)-1,i]=mod_map_array_500[:,i]"
   ]
  },
  {
   "cell_type": "code",
   "execution_count": null,
   "metadata": {
    "collapsed": true
   },
   "outputs": [],
   "source": [
    "import scipy.stats as st\n",
    "\n",
    "pval_250=np.empty_like(prior250.sim)\n",
    "for i in range(0,prior250.snpix):\n",
    "    ind=mod_map_array[i,:]<prior250.sim[i]\n",
    "    pval_250[i]=st.norm.ppf(sum(ind)/np.float(mod_map_array.shape[1]))\n",
    "pval_250[np.isposinf(pval_250)]=6\n",
    "    \n",
    "pval_350=np.empty_like(prior350.sim)\n",
    "for i in range(0,prior350.snpix):\n",
    "    ind=mod_map_array_350[i,:]<prior350.sim[i]\n",
    "    pval_350[i]=st.norm.ppf(sum(ind)/np.float(mod_map_array_350.shape[1]))\n",
    "pval_350[np.isposinf(pval_350)]=6\n",
    "    \n",
    "pval_500=np.empty_like(prior500.sim)\n",
    "for i in range(0,prior500.snpix):\n",
    "    ind=mod_map_array_500[i,:]<prior500.sim[i]\n",
    "    pval_500[i]=st.norm.ppf(sum(ind)/np.float(mod_map_array_500.shape[1]))\n",
    "pval_500[np.isposinf(pval_500)]=6"
   ]
  },
  {
   "cell_type": "code",
   "execution_count": null,
   "metadata": {
    "collapsed": false
   },
   "outputs": [],
   "source": [
    "cmap=sns.cubehelix_palette(8, start=.5, rot=-.75,as_cmap=True)\n",
    "\n",
    "vmin=-1.7E1/1.0E3\n",
    "vmax=4.446e+01/1.0E3\n",
    "ra_zoom=source['RAJ2000']\n",
    "dec_zoom=source['DEJ2000']\n",
    "radius=0.05\n",
    "fig = plt.figure(figsize=(30,30))\n",
    "cfhtls=aplpy.FITSFigure('./data/W1+1+2.U.11023_11534_3064_3575.fits',figure=fig,subplot=(3,3,1))\n",
    "cfhtls.show_colorscale(vmin=-10,vmax=200,cmap=cmap)\n",
    "cfhtls.recenter(ra_zoom, dec_zoom, radius=radius)\n",
    "\n",
    "\n",
    "mips=aplpy.FITSFigure('./data/wp4_xmm-lss_mips24_map_v1.0.fits',figure=fig,subplot=(3,3,2))\n",
    "mips.show_colorscale(vmin=-0.001,vmax=5,cmap=cmap)\n",
    "mips.recenter(ra_zoom, dec_zoom, radius=radius)\n",
    "\n",
    "wise_band4=aplpy.FITSFigure('./data/L3a-0349m061_ac51-0349m061_ac51-w4-int-3_ra35.401958_dec-5.5213939_asec600.000.fits',figure=fig,subplot=(3,3,3))\n",
    "wise_band4.show_colorscale(vmin=202,vmax=204,cmap=cmap)\n",
    "wise_band4.recenter(ra_zoom, dec_zoom, radius=radius)\n",
    "wise_band4.show_ellipses(ra_zoom, dec_zoom,2*WISE_sources[idx]['Riso']/3600.0,2*WISE_sources[idx]['Riso']*WISE_sources[idx]['ba']/3600.0, angle=360.0-WISE_sources[idx]['pa'],edgecolor='white',linewidth=2.0)\n",
    "\n",
    "\n",
    "real_250 = aplpy.FITSFigure(hdulist_250[1],figure=fig,subplot=(3,3,4))\n",
    "real_250.show_colorscale(vmin=vmin,vmax=0.8,cmap=cmap)\n",
    "#real_250.show_markers(ra_list,dec_list, edgecolor='white', facecolor='white',\n",
    "                #marker='o', s=40, alpha=0.5)\n",
    "real_250.show_markers(IRAC_sources['RA'],IRAC_sources['DEC'], edgecolor='yellow', facecolor='yellow',\n",
    "                marker='o', s=40, alpha=0.5)\n",
    "real_250.recenter(ra_zoom, dec_zoom, radius=radius)\n",
    "real_250.show_ellipses(ra_zoom, dec_zoom,2*source['r_K20e']/3600.0,2*source['r_K20e']*source['Kb_a']/3600.0, angle=360.0-source['Spa'],edgecolor='white',linewidth=2.0)\n",
    "real_250.show_ellipses(ra_zoom, dec_zoom,2*WISE_sources[idx]['Riso']/3600.0,2*WISE_sources[idx]['Riso']*WISE_sources[idx]['ba']/3600.0, angle=360.0-WISE_sources[idx]['pa'],edgecolor='white',linewidth=2.0)\n",
    "\n",
    "real_250.add_colorbar()\n",
    "#real_250.show_markers(WISE_sources['ra'],WISE_sources['dec'], edgecolor='red', facecolor='red',\n",
    "#                marker='o', s=40, alpha=0.5)\n",
    "\n",
    "real_350 = aplpy.FITSFigure(hdulist_350[1],figure=fig,subplot=(3,3,5))\n",
    "real_350.show_colorscale(vmin=vmin,vmax=0.8,cmap=cmap)\n",
    "real_350.show_ellipses(ra_zoom, dec_zoom,2*source['r_K20e']/3600.0,2*source['r_K20e']*source['Kb_a']/3600.0, angle=360.0-source['Spa'],edgecolor='white',linewidth=2.0)\n",
    "\n",
    "#real_350.show_markers(prior250.sra, prior250.sdec, edgecolor='black', facecolor='black',\n",
    "                #marker='o', s=40, alpha=0.5)\n",
    "real_350.recenter(ra_zoom, dec_zoom, radius=radius)\n",
    "\n",
    "real_500 = aplpy.FITSFigure(hdulist_500[1],figure=fig,subplot=(3,3,6))\n",
    "real_500.show_colorscale(vmin=vmin,vmax=0.8,cmap=cmap)\n",
    "#real_500.show_markers(prior250.sra, prior250.sdec, edgecolor='black', facecolor='black',\n",
    "                #marker='o', s=40, alpha=0.5)\n",
    "real_500.recenter(ra_zoom, dec_zoom, radius=radius)\n",
    "real_500.show_ellipses(ra_zoom, dec_zoom,2*source['r_K20e']/3600.0,2*source['r_K20e']*source['Kb_a']/3600.0, angle=360.0-source['Spa'],edgecolor='white',linewidth=2.0)\n",
    "\n",
    "vmin=-6\n",
    "vmax=6\n",
    "cmap=sns.diverging_palette(220, 20,as_cmap=True)\n",
    "\n",
    "res250=aplpy.FITSFigure(hdurep_250[1],figure=fig,subplot=(3,3,7))\n",
    "res250.show_colorscale(vmin=vmin,vmax=vmax,cmap=cmap)\n",
    "res250.show_markers(prior250.sra, prior250.sdec, edgecolor='black', facecolor='black',\n",
    "                marker='o', s=80, alpha=0.5)\n",
    "res250.recenter(ra_zoom, dec_zoom, radius=radius)\n",
    "\n",
    "res350=aplpy.FITSFigure(hdurep_350[1],figure=fig,subplot=(3,3,8))\n",
    "res350.show_colorscale(vmin=vmin,vmax=vmax,cmap=cmap)\n",
    "res350.show_markers(prior350.sra, prior350.sdec, edgecolor='black', facecolor='black',\n",
    "                marker='o', s=80, alpha=0.5)\n",
    "res350.recenter(ra_zoom, dec_zoom, radius=radius)\n",
    "\n",
    "\n",
    "res500=aplpy.FITSFigure(hdurep_500[1],figure=fig,subplot=(3,3,9))\n",
    "res500.show_colorscale(vmin=vmin,vmax=vmax,cmap=cmap)\n",
    "res500.show_markers(prior500.sra, prior500.sdec, edgecolor='black', facecolor='black',\n",
    "                marker='o', s=80, alpha=0.5)\n",
    "\n",
    "\n",
    "res250._data[prior250.sy_pix-np.min(prior250.sy_pix)-1,prior250.sx_pix-np.min(prior250.sx_pix)-1]=pval_250\n",
    "res350._data[prior350.sy_pix-np.min(prior350.sy_pix)-1,prior350.sx_pix-np.min(prior350.sx_pix)-1]=pval_350\n",
    "res500._data[prior500.sy_pix-np.min(prior500.sy_pix)-1,prior500.sx_pix-np.min(prior500.sx_pix)-1]=pval_500\n",
    "res500.recenter(ra_zoom, dec_zoom, radius=radius)\n",
    "#res500.tick_labels.set_xformat('dd.dd')\n",
    "#res500.tick_labels.set_yformat('dd.dd')\n",
    "\n",
    "\n",
    "res250.show_colorscale(vmin=vmin,vmax=vmax,cmap=cmap)\n",
    "res350.show_colorscale(vmin=vmin,vmax=vmax,cmap=cmap)\n",
    "res500.show_colorscale(vmin=vmin,vmax=vmax,cmap=cmap)\n",
    "res250.add_colorbar()\n",
    "res250.colorbar.set_location('top')\n",
    "res350.add_colorbar()\n",
    "res350.colorbar.set_location('top')\n",
    "res500.add_colorbar()\n",
    "res500.colorbar.set_location('top')"
   ]
  },
  {
   "cell_type": "code",
   "execution_count": null,
   "metadata": {
    "collapsed": false
   },
   "outputs": [],
   "source": [
    "cmap=sns.cubehelix_palette(8, start=.5, rot=-.75,as_cmap=True)\n",
    "\n",
    "vmin=-1.7E1/1.0E3\n",
    "vmax=4.446e+01/1.0E3\n",
    "ra_zoom=source['RAJ2000']\n",
    "dec_zoom=source['DEJ2000']\n",
    "radius=0.05\n",
    "fig = plt.figure(figsize=(30,30))\n",
    "cfhtls=aplpy.FITSFigure('./data/W1+1+2.U.11023_11534_3064_3575.fits',figure=fig,subplot=(3,3,1))\n",
    "cfhtls.show_colorscale(vmin=-10,vmax=200,cmap=cmap)\n",
    "cfhtls.recenter(ra_zoom, dec_zoom, radius=radius)\n",
    "\n",
    "\n",
    "mips=aplpy.FITSFigure('./data/wp4_xmm-lss_mips24_map_v1.0.fits',figure=fig,subplot=(3,3,2))\n",
    "mips.show_colorscale(vmin=-0.001,vmax=5,cmap=cmap)\n",
    "mips.recenter(ra_zoom, dec_zoom, radius=radius)\n",
    "\n",
    "wise_band4=aplpy.FITSFigure('./data/L3a-0349m061_ac51-0349m061_ac51-w4-int-3_ra35.401958_dec-5.5213939_asec600.000.fits',figure=fig,subplot=(3,3,3))\n",
    "wise_band4.show_colorscale(vmin=202,vmax=204,cmap=cmap)\n",
    "wise_band4.recenter(ra_zoom, dec_zoom, radius=radius)\n",
    "wise_band4.show_ellipses(ra_zoom, dec_zoom,2*WISE_sources[idx]['Riso']/3600.0,2*WISE_sources[idx]['Riso']*WISE_sources[idx]['ba']/3600.0, angle=360.0-WISE_sources[idx]['pa'],edgecolor='white',linewidth=2.0)\n",
    "\n",
    "\n",
    "real_250 = aplpy.FITSFigure(hdulist_250[1],figure=fig,subplot=(3,3,4))\n",
    "real_250.show_colorscale(vmin=vmin,vmax=0.8,cmap=cmap,stretch='arcsinh')\n",
    "#real_250.show_markers(ra_list,dec_list, edgecolor='white', facecolor='white',\n",
    "                #marker='o', s=40, alpha=0.5)\n",
    "real_250.show_markers(IRAC_sources['RA'],IRAC_sources['DEC'], edgecolor='yellow', facecolor='yellow',\n",
    "                marker='o', s=40, alpha=0.5)\n",
    "real_250.recenter(ra_zoom, dec_zoom, radius=radius)\n",
    "real_250.show_ellipses(ra_zoom, dec_zoom,2*source['r_K20e']/3600.0,2*source['r_K20e']*source['Kb_a']/3600.0, angle=360.0-source['Spa'],edgecolor='white',linewidth=2.0)\n",
    "real_250.show_ellipses(ra_zoom, dec_zoom,2*WISE_sources[idx]['Riso']/3600.0,2*WISE_sources[idx]['Riso']*WISE_sources[idx]['ba']/3600.0, angle=360.0-WISE_sources[idx]['pa'],edgecolor='white',linewidth=2.0)\n",
    "\n",
    "real_250.add_colorbar()\n",
    "#real_250.show_markers(WISE_sources['ra'],WISE_sources['dec'], edgecolor='red', facecolor='red',\n",
    "#                marker='o', s=40, alpha=0.5)\n",
    "\n",
    "real_350 = aplpy.FITSFigure(hdulist_350[1],figure=fig,subplot=(3,3,5))\n",
    "real_350.show_colorscale(vmin=vmin,vmax=0.8,cmap=cmap,stretch='arcsinh')\n",
    "real_350.show_ellipses(ra_zoom, dec_zoom,2*source['r_K20e']/3600.0,2*source['r_K20e']*source['Kb_a']/3600.0, angle=360.0-source['Spa'],edgecolor='white',linewidth=2.0)\n",
    "\n",
    "#real_350.show_markers(prior250.sra, prior250.sdec, edgecolor='black', facecolor='black',\n",
    "                #marker='o', s=40, alpha=0.5)\n",
    "real_350.recenter(ra_zoom, dec_zoom, radius=radius)\n",
    "\n",
    "real_500 = aplpy.FITSFigure(hdulist_500[1],figure=fig,subplot=(3,3,6))\n",
    "real_500.show_colorscale(vmin=vmin,vmax=0.8,cmap=cmap,stretch='arcsinh')\n",
    "#real_500.show_markers(prior250.sra, prior250.sdec, edgecolor='black', facecolor='black',\n",
    "                #marker='o', s=40, alpha=0.5)\n",
    "real_500.recenter(ra_zoom, dec_zoom, radius=radius)\n",
    "real_500.show_ellipses(ra_zoom, dec_zoom,2*source['r_K20e']/3600.0,2*source['r_K20e']*source['Kb_a']/3600.0, angle=360.0-source['Spa'],edgecolor='white',linewidth=2.0)\n",
    "\n",
    "vmin=-1.7E1\n",
    "vmax=800.0\n",
    "#cmap=sns.diverging_palette(220, 20,as_cmap=True)\n",
    "\n",
    "res250=aplpy.FITSFigure(hdurep_250[1],figure=fig,subplot=(3,3,7))\n",
    "res250.show_colorscale(vmin=vmin,vmax=vmax,cmap=cmap,stretch='arcsinh')\n",
    "res250.show_markers(prior250.sra, prior250.sdec, edgecolor='black', facecolor='black',\n",
    "                marker='o', s=80, alpha=0.5)\n",
    "res250.recenter(ra_zoom, dec_zoom, radius=radius)\n",
    "\n",
    "res350=aplpy.FITSFigure(hdurep_350[1],figure=fig,subplot=(3,3,8))\n",
    "res350.show_colorscale(vmin=vmin,vmax=vmax,cmap=cmap,stretch='arcsinh')\n",
    "res350.show_markers(prior350.sra, prior350.sdec, edgecolor='black', facecolor='black',\n",
    "                marker='o', s=80, alpha=0.5)\n",
    "res350.recenter(ra_zoom, dec_zoom, radius=radius)\n",
    "\n",
    "\n",
    "res500=aplpy.FITSFigure(hdurep_500[1],figure=fig,subplot=(3,3,9))\n",
    "res500.show_colorscale(vmin=vmin,vmax=vmax,cmap=cmap,stretch='arcsinh')\n",
    "res500.show_markers(prior500.sra, prior500.sdec, edgecolor='black', facecolor='black',\n",
    "                marker='o', s=80, alpha=0.5)\n",
    "\n",
    "\n",
    "res250._data[prior250.sy_pix-np.min(prior250.sy_pix)-1,prior250.sx_pix-np.min(prior250.sx_pix)-1]=mod_map_array[:,50]\n",
    "res350._data[prior350.sy_pix-np.min(prior350.sy_pix)-1,prior350.sx_pix-np.min(prior350.sx_pix)-1]=mod_map_array_350[:,50]\n",
    "res500._data[prior500.sy_pix-np.min(prior500.sy_pix)-1,prior500.sx_pix-np.min(prior500.sx_pix)-1]=mod_map_array_500[:,50]\n",
    "res500.recenter(ra_zoom, dec_zoom, radius=radius)\n",
    "#res500.tick_labels.set_xformat('dd.dd')\n",
    "#res500.tick_labels.set_yformat('dd.dd')\n",
    "\n",
    "\n",
    "res250.show_colorscale(vmin=vmin,vmax=vmax,cmap=cmap,stretch='arcsinh')\n",
    "res350.show_colorscale(vmin=vmin,vmax=vmax,cmap=cmap,stretch='arcsinh')\n",
    "res500.show_colorscale(vmin=vmin,vmax=vmax,cmap=cmap,stretch='arcsinh')\n",
    "res250.add_colorbar()\n",
    "res250.colorbar.set_location('top')\n",
    "res350.add_colorbar()\n",
    "res350.colorbar.set_location('top')\n",
    "res500.add_colorbar()\n",
    "res500.colorbar.set_location('top')"
   ]
  },
  {
   "cell_type": "code",
   "execution_count": null,
   "metadata": {
    "collapsed": false
   },
   "outputs": [],
   "source": [
    "plt.scatter(posterior.stan_fit[:,:,421*2-1].flatten(),posterior.stan_fit[:,:,421*2].flatten())"
   ]
  },
  {
   "cell_type": "code",
   "execution_count": null,
   "metadata": {
    "collapsed": false
   },
   "outputs": [],
   "source": [
    "vmin=-1.7E1/1.0E3\n",
    "vmax=4.446e+01/1.0E3\n",
    "cmap=sns.cubehelix_palette(8, start=.5, rot=-.75,as_cmap=True)\n",
    "real_250 = aplpy.FITSFigure(extended_source_conv[1])\n",
    "real_250.show_colorscale(cmap=cmap)\n",
    "#real_250.show_markers(ra_list,dec_list, edgecolor='white', facecolor='white',\n",
    "                #marker='o', s=40, alpha=0.5)\n",
    "real_250.show_ellipses(ra_zoom, dec_zoom,2*WISE_sources[idx]['Riso']/3600.0,2*WISE_sources[idx]['Riso']*WISE_sources[idx]['ba']/3600.0, angle=360.0-WISE_sources[idx]['pa'],edgecolor='white',linewidth=2.0)\n",
    "\n",
    "real_250.show_markers(IRAC_sources['RA'],IRAC_sources['DEC'], edgecolor='yellow', facecolor='yellow',\n",
    "                marker='o', s=40, alpha=0.5)\n",
    "#real_250.recenter(ra_zoom, dec_zoom, radius=radius)\n",
    "real_250.add_colorbar()"
   ]
  },
  {
   "cell_type": "code",
   "execution_count": null,
   "metadata": {
    "collapsed": true
   },
   "outputs": [],
   "source": []
  }
 ],
 "metadata": {
  "kernelspec": {
   "display_name": "Python [conda env:herschelhelp_internal]",
   "language": "python",
   "name": "conda-env-herschelhelp_internal-py"
  },
  "language_info": {
   "codemirror_mode": {
    "name": "ipython",
    "version": 3
   },
   "file_extension": ".py",
   "mimetype": "text/x-python",
   "name": "python",
   "nbconvert_exporter": "python",
   "pygments_lexer": "ipython3",
   "version": "3.6.1"
  }
 },
 "nbformat": 4,
 "nbformat_minor": 0
}

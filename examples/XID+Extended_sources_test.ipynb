{
 "cells": [
  {
   "cell_type": "markdown",
   "metadata": {},
   "source": [
    "# Extended sources in SPIRE maps"
   ]
  },
  {
   "cell_type": "code",
   "execution_count": 1,
   "metadata": {
    "collapsed": false
   },
   "outputs": [],
   "source": [
    "import warnings\n",
    "from matplotlib.cbook import MatplotlibDeprecationWarning\n",
    "warnings.simplefilter('ignore', MatplotlibDeprecationWarning)\n",
    "warnings.simplefilter('ignore', UserWarning)\n",
    "warnings.simplefilter('ignore', RuntimeWarning)\n",
    "warnings.simplefilter('ignore',UnicodeWarning)\n",
    "#warnings.simplefilter('ignore',VisibleDeprecationWarning)\n",
    "\n",
    "import numpy as np\n",
    "import pylab as plt\n",
    "import xidplus\n",
    "from astropy.io import fits\n",
    "from astropy import wcs\n",
    "from astropy.table import Table\n",
    "import pickle\n",
    "import seaborn as sns\n",
    "import pandas as pd\n",
    "sns.set(color_codes=True)\n",
    "%matplotlib inline\n",
    "import aplpy"
   ]
  },
  {
   "cell_type": "code",
   "execution_count": null,
   "metadata": {
    "collapsed": false
   },
   "outputs": [],
   "source": [
    "hdulist_250=fits.open('/Users/pdh21/astrodata/XMM_LSS_Pilot/NE-XMM-LSS-SWIRE_nested-image_SMAP250_DR2.fits.gz')\n",
    "im250phdu=hdulist_250[0].header\n",
    "im250hdu=hdulist_250[1].header\n",
    "im250=hdulist_250[1].data*1.0E3\n",
    "nim250=hdulist_250[2].data*1.0E3\n",
    "w_250 = wcs.WCS(hdulist_250[1].header)\n",
    "pixsize250=3600.0*w_250.wcs.cd[1,1] #pixel size (in arcseconds)\n",
    "#hdulist.close()\n",
    "\n",
    "hdulist_350=fits.open('/Users/pdh21/astrodata/XMM_LSS_Pilot/NE-XMM-LSS-SWIRE_nested-image_SMAP350_DR2.fits.gz')\n",
    "im350phdu=hdulist_350[0].header\n",
    "im350hdu=hdulist_350[1].header\n",
    "im350=hdulist_350[1].data*1.0E3\n",
    "nim350=hdulist_350[2].data*1.0E3\n",
    "w_350 = wcs.WCS(hdulist_350[1].header)\n",
    "pixsize350=3600.0*w_350.wcs.cd[1,1] #pixel size (in arcseconds)\n",
    "#hdulist.close()\n",
    "\n",
    "hdulist_500=fits.open('/Users/pdh21/astrodata/XMM_LSS_Pilot/NE-XMM-LSS-SWIRE_nested-image_SMAP500_DR2.fits.gz')\n",
    "im500phdu=hdulist_500[0].header\n",
    "im500hdu=hdulist_500[1].header\n",
    "im500=hdulist_500[1].data*1.0E3\n",
    "nim500=hdulist_500[2].data*1.0E3\n",
    "w_500 = wcs.WCS(hdulist_500[1].header)\n",
    "pixsize500=3600.0*w_500.wcs.cd[1,1] #pixel size (in arcseconds)\n",
    "#hdulist.close()"
   ]
  },
  {
   "cell_type": "code",
   "execution_count": null,
   "metadata": {
    "collapsed": false
   },
   "outputs": [],
   "source": [
    "source=Table.read('/Users/pdh21/astrodata/XMM_LSS_Pilot/extended_source_test.xml')\n"
   ]
  },
  {
   "cell_type": "code",
   "execution_count": null,
   "metadata": {
    "collapsed": true
   },
   "outputs": [],
   "source": [
    "IRAC_sources=Table.read('/Users/pdh21/astrodata/XMM_LSS_Pilot/WP3_XMM-LSS_MIPS_prior_20160415.fits')"
   ]
  },
  {
   "cell_type": "code",
   "execution_count": null,
   "metadata": {
    "collapsed": false
   },
   "outputs": [],
   "source": [
    "IRAC_sources"
   ]
  },
  {
   "cell_type": "code",
   "execution_count": null,
   "metadata": {
    "collapsed": false
   },
   "outputs": [],
   "source": [
    "WISE_sources=Table.read('/Users/pdh21/astrodata/XMM_LSS_Pilot/WXSC.phot.clean_all.fits')"
   ]
  },
  {
   "cell_type": "code",
   "execution_count": null,
   "metadata": {
    "collapsed": false
   },
   "outputs": [],
   "source": [
    "#Set some color info\n",
    "import seaborn as sns\n",
    "cmap=sns.cubehelix_palette(8, start=.5, rot=-.75,as_cmap=True)\n",
    "\n",
    "vmin=-1.7E1/1.0E3\n",
    "vmax=4.446e+01/1.0E3\n",
    "ra_zoom=source['RAJ2000']\n",
    "dec_zoom=source['DEJ2000']\n",
    "radius=0.05"
   ]
  },
  {
   "cell_type": "code",
   "execution_count": null,
   "metadata": {
    "collapsed": false
   },
   "outputs": [],
   "source": [
    "from astropy.coordinates import SkyCoord\n",
    "from astropy import units as u\n",
    "c = SkyCoord(ra=ra_zoom, dec=dec_zoom)  \n",
    "catalog = SkyCoord(ra=WISE_sources['ra'], dec=WISE_sources['dec'])  \n",
    "idx, d2d, d3d = c.match_to_catalog_sky(catalog)  "
   ]
  },
  {
   "cell_type": "code",
   "execution_count": null,
   "metadata": {
    "collapsed": false
   },
   "outputs": [],
   "source": [
    "WISE_sources[idx]"
   ]
  },
  {
   "cell_type": "code",
   "execution_count": null,
   "metadata": {
    "collapsed": true
   },
   "outputs": [],
   "source": [
    "def extended_source(beta,r_e,x_0,y_0,x,y):\n",
    "    source_grid=np.exp(-beta*((x-x_0)**2+(y-y_0)**2)/r_e)\n",
    "    return source_grid"
   ]
  },
  {
   "cell_type": "code",
   "execution_count": null,
   "metadata": {
    "collapsed": false
   },
   "outputs": [],
   "source": [
    "xx, yy = np.meshgrid(np.arange(0,101), np.arange(0,101), sparse=True)\n"
   ]
  },
  {
   "cell_type": "markdown",
   "metadata": {},
   "source": [
    "The extended source as seen in optical, MIPS, WISE band 4, and the SPIRE bands"
   ]
  },
  {
   "cell_type": "code",
   "execution_count": null,
   "metadata": {
    "collapsed": false
   },
   "outputs": [],
   "source": [
    "source"
   ]
  },
  {
   "cell_type": "code",
   "execution_count": null,
   "metadata": {
    "collapsed": true
   },
   "outputs": [],
   "source": [
    "def sersic(alpha,beta,x_0,y_0,x,y):\n",
    "    source_grid=np.exp(-1*((((x-x_0)**2+(y-y_0)**2)**0.5)/alpha)**(1/beta))\n",
    "    return source_grid\n",
    "    \n",
    "\n",
    "def extended_source(beta,r_e,x_0,y_0,x,y):\n",
    "    source_grid=np.exp(-beta*((x-x_0)**2+(y-y_0)**2)/r_e)\n",
    "    return source_grid"
   ]
  },
  {
   "cell_type": "code",
   "execution_count": null,
   "metadata": {
    "collapsed": true
   },
   "outputs": [],
   "source": []
  },
  {
   "cell_type": "code",
   "execution_count": null,
   "metadata": {
    "collapsed": false
   },
   "outputs": [],
   "source": [
    "bulge=sersic(WISE_sources[idx]['scale_1a'],WISE_sources[idx]['beta_1a'],,50,xx,yy)\n",
    "disc=sersic(WISE_sources[idx]['scale_1b'],WISE_sources[idx]['beta_1b'],50,50,xx,yy)"
   ]
  },
  {
   "cell_type": "code",
   "execution_count": null,
   "metadata": {
    "collapsed": false
   },
   "outputs": [],
   "source": [
    "plt.imshow(disc)\n",
    "plt.colorbar()"
   ]
  },
  {
   "cell_type": "code",
   "execution_count": null,
   "metadata": {
    "collapsed": false
   },
   "outputs": [],
   "source": [
    "fig=plt.figure(figsize=(30,10))\n",
    "plt.subplot(2,1,1)\n",
    "plt.imshow(convolve(bulge,prf250.array)[::6,::6],interpolation='nearest')\n",
    "plt.colorbar()\n",
    "plt.subplot(2,1,2)\n",
    "plt.imshow(convolve(disc,prf250.array)[::6,::6],interpolation='nearest')\n",
    "plt.colorbar()"
   ]
  },
  {
   "cell_type": "code",
   "execution_count": null,
   "metadata": {
    "collapsed": false
   },
   "outputs": [],
   "source": [
    "w_250.wcs_world2pix(ra_zoom,dec_zoom,0)"
   ]
  },
  {
   "cell_type": "code",
   "execution_count": null,
   "metadata": {
    "collapsed": true
   },
   "outputs": [],
   "source": [
    "def radial_profile(data, center):\n",
    "    x, y = np.indices((data.shape))\n",
    "    r = np.sqrt((x - center[0])**2 + (y - center[1])**2)\n",
    "    r = r.astype(np.int)\n",
    "\n",
    "    tbin = np.bincount(r.ravel(), data.ravel())\n",
    "    nr = np.bincount(r.ravel())\n",
    "    radialprofile = tbin / nr\n",
    "    return radialprofile "
   ]
  },
  {
   "cell_type": "code",
   "execution_count": null,
   "metadata": {
    "collapsed": false
   },
   "outputs": [],
   "source": [
    "\n",
    "rad_profile = radial_profile(hdulist_250[1].data,w_250.wcs_world2pix(ra_zoom,dec_zoom,0))\n",
    "\n",
    "fig, ax = plt.subplots()\n",
    "plt.plot(rad_profile[0:22], 'x-')"
   ]
  },
  {
   "cell_type": "markdown",
   "metadata": {
    "collapsed": true
   },
   "source": [
    "# Fit extended source with XID+"
   ]
  },
  {
   "cell_type": "code",
   "execution_count": null,
   "metadata": {
    "collapsed": false
   },
   "outputs": [],
   "source": [
    "RA=np.concatenate((IRAC_sources['RA'].__array__(),source['RAJ2000'].__array__()))\n",
    "Dec=np.concatenate((IRAC_sources['DEC'].__array__(),source['DEJ2000'].__array__()))"
   ]
  },
  {
   "cell_type": "code",
   "execution_count": null,
   "metadata": {
    "collapsed": false
   },
   "outputs": [],
   "source": [
    "source"
   ]
  },
  {
   "cell_type": "code",
   "execution_count": null,
   "metadata": {
    "collapsed": true
   },
   "outputs": [],
   "source": [
    "prior_cat='IRAC'\n",
    "#---prior250--------\n",
    "prior250=xidplus.prior(im250,nim250,im250phdu,im250hdu)#Initialise with map, uncertianty map, wcs info and primary header\n",
    "prior250.prior_cat(RA,Dec,prior_cat)#Set input catalogue\n",
    "prior250.prior_bkg(-5.0,5)#Set prior on background (assumes Guassian pdf with mu and sigma)\n",
    "#---prior350--------\n",
    "prior350=xidplus.prior(im350,nim350,im350phdu,im350hdu)\n",
    "prior350.prior_cat(RA,Dec,prior_cat)\n",
    "prior350.prior_bkg(-5.0,5)\n",
    "\n",
    "#---prior500--------\n",
    "prior500=xidplus.prior(im500,nim500,im500phdu,im500hdu)\n",
    "prior500.prior_cat(RA,Dec,prior_cat)\n",
    "prior500.prior_bkg(-5.0,5)"
   ]
  },
  {
   "cell_type": "code",
   "execution_count": null,
   "metadata": {
    "collapsed": true
   },
   "outputs": [],
   "source": [
    "#pixsize array (size of pixels in arcseconds)\n",
    "pixsize=np.array([pixsize250,pixsize350,pixsize500])\n",
    "#point response function for the three bands\n",
    "prfsize=np.array([18.15,25.15,36.3])\n",
    "#use Gaussian2DKernel to create prf (requires stddev rather than fwhm hence pfwhm/2.355)\n",
    "from astropy.convolution import Gaussian2DKernel\n",
    "\n",
    "##---------fit using Gaussian beam-----------------------\n",
    "prf250=Gaussian2DKernel(prfsize[0]/2.355,x_size=101,y_size=101)\n",
    "prf250.normalize(mode='peak')\n",
    "prf350=Gaussian2DKernel(prfsize[1]/2.355,x_size=101,y_size=101)\n",
    "prf350.normalize(mode='peak')\n",
    "prf500=Gaussian2DKernel(prfsize[2]/2.355,x_size=101,y_size=101)\n",
    "prf500.normalize(mode='peak')\n",
    "\n",
    "pind250=np.arange(0,101,1)*1.0/pixsize[0] #get 250 scale in terms of pixel scale of map\n",
    "pind350=np.arange(0,101,1)*1.0/pixsize[1] #get 350 scale in terms of pixel scale of map\n",
    "pind500=np.arange(0,101,1)*1.0/pixsize[2] #get 500 scale in terms of pixel scale of map\n",
    "\n",
    "prior250.set_prf(prf250.array,pind250,pind250)#requires psf as 2d grid, and x and y bins for grid (in pixel scale)\n",
    "prior350.set_prf(prf350.array,pind350,pind350)\n",
    "prior500.set_prf(prf500.array,pind500,pind500)"
   ]
  },
  {
   "cell_type": "code",
   "execution_count": null,
   "metadata": {
    "collapsed": false
   },
   "outputs": [],
   "source": [
    "print 'fitting '+ str(prior250.nsrc)+' sources \\n'\n",
    "print 'using ' +  str(prior250.snpix)+', '+ str(prior250.snpix)+' and '+ str(prior500.snpix)+' pixels'\n"
   ]
  },
  {
   "cell_type": "code",
   "execution_count": null,
   "metadata": {
    "collapsed": false
   },
   "outputs": [],
   "source": [
    "from pymoc import MOC\n",
    "moc=MOC()\n",
    "moc.read('/Users/pdh21/astrodata/XMM_LSS_Pilot/extended_source_test_MOC_rad4.fits')\n",
    "prior250.set_tile(moc)\n",
    "prior350.set_tile(moc)\n",
    "prior500.set_tile(moc)"
   ]
  },
  {
   "cell_type": "code",
   "execution_count": null,
   "metadata": {
    "collapsed": false
   },
   "outputs": [],
   "source": [
    "print 'fitting '+ str(prior250.nsrc)+' sources \\n'\n",
    "print 'using ' +  str(prior250.snpix)+', '+ str(prior350.snpix)+' and '+ str(prior500.snpix)+' pixels'\n"
   ]
  },
  {
   "cell_type": "code",
   "execution_count": null,
   "metadata": {
    "collapsed": true
   },
   "outputs": [],
   "source": [
    "prior250.get_pointing_matrix()\n",
    "prior350.get_pointing_matrix()\n",
    "prior500.get_pointing_matrix()"
   ]
  },
  {
   "cell_type": "code",
   "execution_count": null,
   "metadata": {
    "collapsed": true
   },
   "outputs": [],
   "source": [
    "prior250.upper_lim_map()\n",
    "prior350.upper_lim_map()\n",
    "prior500.upper_lim_map()"
   ]
  },
  {
   "cell_type": "code",
   "execution_count": null,
   "metadata": {
    "collapsed": false
   },
   "outputs": [],
   "source": [
    "from xidplus.stan_fit import SPIRE\n",
    "fit=SPIRE.all_bands(prior250,prior350,prior500,iter=1500)"
   ]
  },
  {
   "cell_type": "code",
   "execution_count": null,
   "metadata": {
    "collapsed": true
   },
   "outputs": [],
   "source": [
    "posterior=xidplus.posterior_stan(fit,[prior250,prior350,prior500])\n"
   ]
  },
  {
   "cell_type": "code",
   "execution_count": null,
   "metadata": {
    "collapsed": true
   },
   "outputs": [],
   "source": [
    "from xidplus import posterior_maps as postmaps\n",
    "\n",
    "hdurep_250=postmaps.make_fits_image(prior250,prior250.sim)\n",
    "hdurep_350=postmaps.make_fits_image(prior350,prior350.sim)\n",
    "hdurep_500=postmaps.make_fits_image(prior500,prior500.sim)"
   ]
  },
  {
   "cell_type": "code",
   "execution_count": null,
   "metadata": {
    "collapsed": true
   },
   "outputs": [],
   "source": [
    "mod_map=np.full((hdurep_250[1].data.shape[1],hdurep_250[1].data.shape[0],500),np.nan)\n",
    "mod_map_array=np.empty((prior250.snpix,500))\n",
    "\n",
    "for i in range(0,500):\n",
    "    mod_map_array[:,i]= postmaps.ymod_map(prior250,posterior.stan_fit[i,0,0:prior250.nsrc]).reshape(-1)+posterior.stan_fit[i,0,prior250.nsrc]+np.random.normal(scale=np.sqrt(prior250.snim**2+posterior.stan_fit[i,0,(prior250.nsrc+1)*3]**2))         \n",
    "    mod_map[prior250.sx_pix-np.min(prior250.sx_pix)-1,prior250.sy_pix-np.min(prior250.sy_pix)-1,i]=mod_map_array[:,i]"
   ]
  },
  {
   "cell_type": "code",
   "execution_count": null,
   "metadata": {
    "collapsed": true
   },
   "outputs": [],
   "source": [
    "mod_map_350=np.full((hdurep_350[1].data.shape[1],hdurep_350[1].data.shape[0],500),np.nan)\n",
    "mod_map_array_350=np.empty((prior350.snpix,500))\n",
    "\n",
    "for i in range(0,500):\n",
    "    mod_map_array_350[:,i]= postmaps.ymod_map(prior350,posterior.stan_fit[i,0,prior350.nsrc+1:2*prior350.nsrc+1]).reshape(-1)+posterior.stan_fit[i,0,2*prior350.nsrc+1]+np.random.normal(scale=np.sqrt(prior350.snim**2+posterior.stan_fit[i,0,1+(prior350.nsrc+1)*3]**2))         \n",
    "    mod_map_350[prior350.sx_pix-np.min(prior350.sx_pix)-1,prior350.sy_pix-np.min(prior350.sy_pix)-1,i]=mod_map_array_350[:,i]"
   ]
  },
  {
   "cell_type": "code",
   "execution_count": null,
   "metadata": {
    "collapsed": true
   },
   "outputs": [],
   "source": [
    "mod_map_500=np.full((hdurep_500[1].data.shape[1],hdurep_500[1].data.shape[0],500),np.nan)\n",
    "mod_map_array_500=np.empty((prior500.snpix,500))\n",
    "\n",
    "for i in range(0,500):\n",
    "    mod_map_array_500[:,i]= postmaps.ymod_map(prior500,posterior.stan_fit[i,0,2*prior500.nsrc+2:3*prior350.nsrc+2]).reshape(-1)+posterior.stan_fit[i,0,3*prior500.nsrc+2]+np.random.normal(scale=np.sqrt(prior500.snim**2+posterior.stan_fit[i,0,2+(prior500.nsrc+1)*3]**2))         \n",
    "    mod_map_500[prior500.sx_pix-np.min(prior500.sx_pix)-1,prior500.sy_pix-np.min(prior500.sy_pix)-1,i]=mod_map_array_500[:,i]"
   ]
  },
  {
   "cell_type": "code",
   "execution_count": null,
   "metadata": {
    "collapsed": true
   },
   "outputs": [],
   "source": [
    "import scipy.stats as st\n",
    "\n",
    "pval_250=np.empty_like(prior250.sim)\n",
    "for i in range(0,prior250.snpix):\n",
    "    ind=mod_map_array[i,:]<prior250.sim[i]\n",
    "    pval_250[i]=st.norm.ppf(sum(ind)/np.float(mod_map_array.shape[1]))\n",
    "pval_250[np.isposinf(pval_250)]=6\n",
    "    \n",
    "pval_350=np.empty_like(prior350.sim)\n",
    "for i in range(0,prior350.snpix):\n",
    "    ind=mod_map_array_350[i,:]<prior350.sim[i]\n",
    "    pval_350[i]=st.norm.ppf(sum(ind)/np.float(mod_map_array_350.shape[1]))\n",
    "pval_350[np.isposinf(pval_350)]=6\n",
    "    \n",
    "pval_500=np.empty_like(prior500.sim)\n",
    "for i in range(0,prior500.snpix):\n",
    "    ind=mod_map_array_500[i,:]<prior500.sim[i]\n",
    "    pval_500[i]=st.norm.ppf(sum(ind)/np.float(mod_map_array_500.shape[1]))\n",
    "pval_500[np.isposinf(pval_500)]=6"
   ]
  },
  {
   "cell_type": "code",
   "execution_count": null,
   "metadata": {
    "collapsed": false
   },
   "outputs": [],
   "source": [
    "cmap=sns.cubehelix_palette(8, start=.5, rot=-.75,as_cmap=True)\n",
    "\n",
    "vmin=-1.7E1/1.0E3\n",
    "vmax=4.446e+01/1.0E3\n",
    "ra_zoom=source['RAJ2000']\n",
    "dec_zoom=source['DEJ2000']\n",
    "radius=0.05\n",
    "fig = plt.figure(figsize=(30,30))\n",
    "cfhtls=aplpy.FITSFigure('/Users/pdh21/astrodata/XMM_LSS_Pilot/W1+1+2.U.11023_11534_3064_3575.fits',figure=fig,subplot=(3,3,1))\n",
    "cfhtls.show_colorscale(vmin=-10,vmax=200,cmap=cmap)\n",
    "cfhtls.recenter(ra_zoom, dec_zoom, radius=radius)\n",
    "\n",
    "\n",
    "mips=aplpy.FITSFigure('/Users/pdh21/astrodata/XMM_LSS_Pilot/wp4_xmm-lss_mips24_map_v1.0.fits.gz',figure=fig,subplot=(3,3,2))\n",
    "mips.show_colorscale(vmin=-0.001,vmax=5,cmap=cmap)\n",
    "mips.recenter(ra_zoom, dec_zoom, radius=radius)\n",
    "\n",
    "wise_band4=aplpy.FITSFigure('/Users/pdh21/astrodata/XMM_LSS_Pilot/L3a-0349m061_ac51-0349m061_ac51-w4-int-3_ra35.401958_dec-5.5213939_asec600.000.fits',figure=fig,subplot=(3,3,3))\n",
    "wise_band4.show_colorscale(vmin=202,vmax=204,cmap=cmap)\n",
    "wise_band4.recenter(ra_zoom, dec_zoom, radius=radius)\n",
    "wise_band4.show_ellipses(ra_zoom, dec_zoom,2*WISE_sources[idx]['Riso']/3600.0,2*WISE_sources[idx]['Riso']*WISE_sources[idx]['ba']/3600.0, angle=360.0-WISE_sources[idx]['pa'],edgecolor='white',linewidth=2.0)\n",
    "\n",
    "\n",
    "real_250 = aplpy.FITSFigure(hdulist_250[1],figure=fig,subplot=(3,3,4))\n",
    "real_250.show_colorscale(vmin=vmin,vmax=0.8,cmap=cmap)\n",
    "#real_250.show_markers(ra_list,dec_list, edgecolor='white', facecolor='white',\n",
    "                #marker='o', s=40, alpha=0.5)\n",
    "real_250.show_markers(IRAC_sources['RA'],IRAC_sources['DEC'], edgecolor='yellow', facecolor='yellow',\n",
    "                marker='o', s=40, alpha=0.5)\n",
    "real_250.recenter(ra_zoom, dec_zoom, radius=radius)\n",
    "real_250.show_ellipses(ra_zoom, dec_zoom,2*source['r_K20e']/3600.0,2*source['r_K20e']*source['Kb_a']/3600.0, angle=360.0-source['Spa'],edgecolor='white',linewidth=2.0)\n",
    "real_250.show_ellipses(ra_zoom, dec_zoom,2*WISE_sources[idx]['Riso']/3600.0,2*WISE_sources[idx]['Riso']*WISE_sources[idx]['ba']/3600.0, angle=360.0-WISE_sources[idx]['pa'],edgecolor='white',linewidth=2.0)\n",
    "\n",
    "real_250.add_colorbar()\n",
    "#real_250.show_markers(WISE_sources['ra'],WISE_sources['dec'], edgecolor='red', facecolor='red',\n",
    "#                marker='o', s=40, alpha=0.5)\n",
    "\n",
    "real_350 = aplpy.FITSFigure(hdulist_350[1],figure=fig,subplot=(3,3,5))\n",
    "real_350.show_colorscale(vmin=vmin,vmax=0.8,cmap=cmap)\n",
    "real_350.show_ellipses(ra_zoom, dec_zoom,2*source['r_K20e']/3600.0,2*source['r_K20e']*source['Kb_a']/3600.0, angle=360.0-source['Spa'],edgecolor='white',linewidth=2.0)\n",
    "\n",
    "#real_350.show_markers(prior250.sra, prior250.sdec, edgecolor='black', facecolor='black',\n",
    "                #marker='o', s=40, alpha=0.5)\n",
    "real_350.recenter(ra_zoom, dec_zoom, radius=radius)\n",
    "\n",
    "real_500 = aplpy.FITSFigure(hdulist_500[1],figure=fig,subplot=(3,3,6))\n",
    "real_500.show_colorscale(vmin=vmin,vmax=0.8,cmap=cmap)\n",
    "#real_500.show_markers(prior250.sra, prior250.sdec, edgecolor='black', facecolor='black',\n",
    "                #marker='o', s=40, alpha=0.5)\n",
    "real_500.recenter(ra_zoom, dec_zoom, radius=radius)\n",
    "real_500.show_ellipses(ra_zoom, dec_zoom,2*source['r_K20e']/3600.0,2*source['r_K20e']*source['Kb_a']/3600.0, angle=360.0-source['Spa'],edgecolor='white',linewidth=2.0)\n",
    "\n",
    "vmin=-6\n",
    "vmax=6\n",
    "cmap=sns.diverging_palette(220, 20,as_cmap=True)\n",
    "\n",
    "res250=aplpy.FITSFigure(hdurep_250[1],figure=fig,subplot=(3,3,7))\n",
    "res250.show_colorscale(vmin=vmin,vmax=vmax,cmap=cmap)\n",
    "res250.show_markers(prior250.sra, prior250.sdec, edgecolor='black', facecolor='black',\n",
    "                marker='o', s=80, alpha=0.5)\n",
    "res250.recenter(ra_zoom, dec_zoom, radius=radius)\n",
    "\n",
    "res350=aplpy.FITSFigure(hdurep_350[1],figure=fig,subplot=(3,3,8))\n",
    "res350.show_colorscale(vmin=vmin,vmax=vmax,cmap=cmap)\n",
    "res350.show_markers(prior350.sra, prior350.sdec, edgecolor='black', facecolor='black',\n",
    "                marker='o', s=80, alpha=0.5)\n",
    "res350.recenter(ra_zoom, dec_zoom, radius=radius)\n",
    "\n",
    "\n",
    "res500=aplpy.FITSFigure(hdurep_500[1],figure=fig,subplot=(3,3,9))\n",
    "res500.show_colorscale(vmin=vmin,vmax=vmax,cmap=cmap)\n",
    "res500.show_markers(prior500.sra, prior500.sdec, edgecolor='black', facecolor='black',\n",
    "                marker='o', s=80, alpha=0.5)\n",
    "\n",
    "\n",
    "res250._data[prior250.sy_pix-np.min(prior250.sy_pix)-1,prior250.sx_pix-np.min(prior250.sx_pix)-1]=pval_250\n",
    "res350._data[prior350.sy_pix-np.min(prior350.sy_pix)-1,prior350.sx_pix-np.min(prior350.sx_pix)-1]=pval_350\n",
    "res500._data[prior500.sy_pix-np.min(prior500.sy_pix)-1,prior500.sx_pix-np.min(prior500.sx_pix)-1]=pval_500\n",
    "res500.recenter(ra_zoom, dec_zoom, radius=radius)\n",
    "#res500.tick_labels.set_xformat('dd.dd')\n",
    "#res500.tick_labels.set_yformat('dd.dd')\n",
    "\n",
    "\n",
    "res250.show_colorscale(vmin=vmin,vmax=vmax,cmap=cmap)\n",
    "res350.show_colorscale(vmin=vmin,vmax=vmax,cmap=cmap)\n",
    "res500.show_colorscale(vmin=vmin,vmax=vmax,cmap=cmap)\n",
    "res250.add_colorbar()\n",
    "res250.colorbar.set_location('top')\n",
    "res350.add_colorbar()\n",
    "res350.colorbar.set_location('top')\n",
    "res500.add_colorbar()\n",
    "res500.colorbar.set_location('top')\n"
   ]
  },
  {
   "cell_type": "code",
   "execution_count": null,
   "metadata": {
    "collapsed": false
   },
   "outputs": [],
   "source": [
    "def ellipse(x,y,x0,y0,angle,a,b):\n",
    "    dx=x-x0\n",
    "    dy=y-y0\n",
    "    rad=((dx*np.cos(angle)-dy*np.sin(angle))/a)**2 + ((dx*np.sin(angle)+dy*np.cos(angle))/b)**2\n",
    "    rad[rad<1.0]=1.0\n",
    "    rad[rad>1.0]=0.0\n",
    "    return rad\n",
    "                                                                 \n",
    "from astropy.modeling.models import Sersic2D\n",
    "\n",
    "mod = Sersic2D(amplitude = 1, r_eff = 25, n=4, x_0=50, y_0=50,\n",
    "               ellip=.5, theta=-1)"
   ]
  },
  {
   "cell_type": "code",
   "execution_count": null,
   "metadata": {
    "collapsed": true
   },
   "outputs": [],
   "source": []
  },
  {
   "cell_type": "code",
   "execution_count": null,
   "metadata": {
    "collapsed": false
   },
   "outputs": [],
   "source": [
    "wcs_temp = wcs.WCS(prior250.imhdu)\n",
    "source_pix_x,source_pix_y=wcs_temp.all_world2pix(ra_zoom,dec_zoom,0)"
   ]
  },
  {
   "cell_type": "code",
   "execution_count": null,
   "metadata": {
    "collapsed": false
   },
   "outputs": [],
   "source": [
    "a=WISE_sources[idx]['Riso']/pixsize[0]\n",
    "b=WISE_sources[idx]['ba']*a\n",
    "xx, yy = np.meshgrid(np.arange(0,WISE_sources[idx]['Riso']*3), np.arange(0,WISE_sources[idx]['Riso']*3))\n"
   ]
  },
  {
   "cell_type": "code",
   "execution_count": null,
   "metadata": {
    "collapsed": false
   },
   "outputs": [],
   "source": [
    "import scipy.signal as signal\n",
    "extended_source_SMAP=signal.convolve(ellipse(xx,yy,xx.shape[1]/2.0,yy.shape[0]/2.0,WISE_sources[idx]['pa']*np.pi/180.0,a*pixsize[0],b*pixsize[0]),prf250.array,mode='same')"
   ]
  },
  {
   "cell_type": "code",
   "execution_count": null,
   "metadata": {
    "collapsed": false
   },
   "outputs": [],
   "source": [
    "plt.imshow(extended_source_SMAP)"
   ]
  },
  {
   "cell_type": "code",
   "execution_count": null,
   "metadata": {
    "collapsed": false
   },
   "outputs": [],
   "source": [
    "from astropy.modeling.models import Ellipse2D\n",
    "from astropy.coordinates import Angle\n",
    "\n",
    "theta = Angle(-1*WISE_sources[idx]['pa'], 'deg')\n",
    "e = Ellipse2D(amplitude=100., x_0=xx.shape[1]/2.0,y_0=yy.shape[0]/2.0, a=a*pixsize[0], b=b*pixsize[0],\n",
    "              theta=theta.radian)\n",
    "plt.imshow(signal.convolve(e(xx,yy),prf250.array,mode='same'))"
   ]
  },
  {
   "cell_type": "code",
   "execution_count": null,
   "metadata": {
    "collapsed": false
   },
   "outputs": [],
   "source": [
    "from astropy.modeling.models import Sersic2D\n",
    "\n",
    "mod = Sersic2D(amplitude = 1.0, r_eff = WISE_sources[idx]['scale_1b'], n=WISE_sources[idx]['beta_1b']\t,x_0=xx.shape[1]/2.0,y_0=yy.shape[0]/2.0,\n",
    "               ellip=1.0-WISE_sources[idx]['ba'], theta=theta.radian)\n",
    "plt.imshow(signal.convolve(mod(xx,yy),prf250.array,mode='same'))"
   ]
  },
  {
   "cell_type": "code",
   "execution_count": null,
   "metadata": {
    "collapsed": false
   },
   "outputs": [],
   "source": [
    "pind250_source=np.arange(0,WISE_sources[idx]['Riso']*3)*1.0/pixsize[0]"
   ]
  },
  {
   "cell_type": "code",
   "execution_count": null,
   "metadata": {
    "collapsed": false
   },
   "outputs": [],
   "source": [
    "ipx=source_pix_x+xx*1.0/pixsize[0]-pind250_source[-1]/2\n",
    "ipy=source_pix_y+yy*1.0/pixsize[0]-pind250_source[-1]/2\n",
    "from scipy import interpolate\n",
    "atemp = interpolate.griddata((ipx.ravel(), ipy.ravel()),extended_source_SMAP.ravel(), (prior250.sx_pix,prior250.sy_pix),\n",
    "                                             method='nearest')"
   ]
  },
  {
   "cell_type": "code",
   "execution_count": null,
   "metadata": {
    "collapsed": true
   },
   "outputs": [],
   "source": [
    "def add_sersic_source(prior,source_no,angle,scale,beta,ba):\n",
    "    from astropy.modeling.models import Sersic2D\n",
    "    from astropy.coordinates import Angle\n",
    "    import scipy.signal as signal\n",
    "\n",
    "\n",
    "    import scipy.signal as signal\n",
    "    wcs_temp = wcs.WCS(prior.imhdu)\n",
    "    source_pix_x=prior.sx[source_no]\n",
    "    source_pix_y=prior.sy[source_no]\n",
    "    pixsize=np.absolute(prior.imhdu['CD2_2']*3600.0)\n",
    "\n",
    "    mesh_length=np.max([prior.pindx.size,scale*5])\n",
    "    xx, yy = np.meshgrid(np.arange(0,mesh_length), np.arange(0,mesh_length))\n",
    "    theta = Angle(-1*angle, 'deg')\n",
    "\n",
    "    mod = Sersic2D(amplitude = 1.0, r_eff =scale, n=beta,x_0=xx.shape[1]/2.0,y_0=yy.shape[0]/2.0,\n",
    "               ellip=1.0-ba, theta=theta.radian)\n",
    "    extended_source_SMAP=signal.convolve(mod(xx,yy),prior.prf,mode='same')\n",
    "    pind_source=np.arange(0,mesh_length)*1.0/pixsize\n",
    "    ipx=source_pix_x+xx*1.0/pixsize-pind_source[-1]/2\n",
    "    ipy=source_pix_y+yy*1.0/pixsize-pind_source[-1]/2\n",
    "    from scipy import interpolate\n",
    "    atemp = interpolate.griddata((ipx.ravel(), ipy.ravel()),extended_source_SMAP.ravel(), (prior.sx_pix,prior.sy_pix),\n",
    "                                             method='nearest')\n",
    "    ind=atemp>0.001\n",
    "    ind_not_prev=prior.amat_col != source_no\n",
    "    prior.amat_data=np.append(prior.amat_data[ind_not_prev],atemp[ind])\n",
    "    prior.amat_col=np.append(prior.amat_col[ind_not_prev],np.full(ind.sum(),source_no))\n",
    "    prior.amat_row=np.append(prior.amat_row[ind_not_prev],np.arange(0,prior.snpix,dtype=int)[ind])\n",
    "    return prior\n",
    "\n",
    "    \n",
    "def add_extended_source(prior,source_no,angle,semi_major,semi_minor):\n",
    "    import scipy.signal as signal\n",
    "    wcs_temp = wcs.WCS(prior.imhdu)\n",
    "    source_pix_x=prior.sx[source_no]\n",
    "    source_pix_y=prior.sy[source_no]\n",
    "    pixsize=np.absolute(prior.imhdu['CD2_2']*3600.0)\n",
    "    a=semi_major/pixsize\n",
    "    b=semi_minor/pixsize\n",
    "    xx, yy = np.meshgrid(np.arange(0,semi_major*2.5), np.arange(0,semi_major*2.5))\n",
    "    extended_source_SMAP=signal.convolve(ellipse(xx,yy,xx.shape[1]/2.0,yy.shape[0]/2.0,angle*np.pi/180.0,a*pixsize,b*pixsize),prior.prf,mode='same')\n",
    "    pind_source=np.arange(0,semi_major*2.5)*1.0/pixsize\n",
    "    ipx=source_pix_x+xx*1.0/pixsize-pind_source[-1]/2\n",
    "    ipy=source_pix_y+yy*1.0/pixsize-pind_source[-1]/2\n",
    "    from scipy import interpolate\n",
    "    atemp = interpolate.griddata((ipx.ravel(), ipy.ravel()),extended_source_SMAP.ravel(), (prior.sx_pix,prior.sy_pix),\n",
    "                                             method='nearest')\n",
    "    ind=atemp>0.001\n",
    "    ind_not_prev=prior.amat_col != source_no\n",
    "    prior.amat_data=np.append(prior.amat_data[ind_not_prev],atemp[ind])\n",
    "    prior.amat_col=np.append(prior.amat_col[ind_not_prev],np.full(ind.sum(),source_no))\n",
    "    prior.amat_row=np.append(prior.amat_row[ind_not_prev],np.arange(0,prior.snpix,dtype=int)[ind])\n",
    "    return prior\n",
    "\n",
    "    "
   ]
  },
  {
   "cell_type": "code",
   "execution_count": null,
   "metadata": {
    "collapsed": false
   },
   "outputs": [],
   "source": [
    "prior250.pindx.size"
   ]
  },
  {
   "cell_type": "code",
   "execution_count": null,
   "metadata": {
    "collapsed": false
   },
   "outputs": [],
   "source": [
    "prior250.imhdu['CD2_2']*3600.0"
   ]
  },
  {
   "cell_type": "code",
   "execution_count": null,
   "metadata": {
    "collapsed": false
   },
   "outputs": [],
   "source": [
    "extended_source_conv=postmaps.make_fits_image(prior250,atemp)\n"
   ]
  },
  {
   "cell_type": "code",
   "execution_count": null,
   "metadata": {
    "collapsed": false
   },
   "outputs": [],
   "source": [
    "vmin=-1.7E1/1.0E3\n",
    "vmax=4.446e+01/1.0E3\n",
    "cmap=sns.cubehelix_palette(8, start=.5, rot=-.75,as_cmap=True)\n",
    "real_250 = aplpy.FITSFigure(extended_source_conv[1])\n",
    "real_250.show_colorscale(vmin=vmin,vmax=0.8,cmap=cmap)\n",
    "#real_250.show_markers(ra_list,dec_list, edgecolor='white', facecolor='white',\n",
    "                #marker='o', s=40, alpha=0.5)\n",
    "real_250.show_ellipses(ra_zoom, dec_zoom,2*WISE_sources[idx]['Riso']/3600.0,2*WISE_sources[idx]['Riso']*WISE_sources[idx]['ba']/3600.0, angle=360.0-WISE_sources[idx]['pa'],edgecolor='white',linewidth=2.0)\n",
    "\n",
    "real_250.show_markers(IRAC_sources['RA'],IRAC_sources['DEC'], edgecolor='yellow', facecolor='yellow',\n",
    "                marker='o', s=40, alpha=0.5)\n",
    "#real_250.recenter(ra_zoom, dec_zoom, radius=radius)\n",
    "real_250.add_colorbar()"
   ]
  },
  {
   "cell_type": "code",
   "execution_count": null,
   "metadata": {
    "collapsed": false
   },
   "outputs": [],
   "source": [
    "prior250.amat_data"
   ]
  },
  {
   "cell_type": "markdown",
   "metadata": {},
   "source": [
    "# Fit with disc and bulge"
   ]
  },
  {
   "cell_type": "code",
   "execution_count": null,
   "metadata": {
    "collapsed": true
   },
   "outputs": [],
   "source": [
    "#Concatenate the extended source twice, once for bulge once for disc\n",
    "RA=np.concatenate((np.concatenate((IRAC_sources['RA'].__array__(),source['RAJ2000'].__array__())),source['RAJ2000'].__array__()))\n",
    "Dec=np.concatenate((np.concatenate((IRAC_sources['DEC'].__array__(),source['DEJ2000'].__array__())),source['DEJ2000'].__array__()))\n"
   ]
  },
  {
   "cell_type": "code",
   "execution_count": null,
   "metadata": {
    "collapsed": true
   },
   "outputs": [],
   "source": [
    "prior_cat='IRAC'\n",
    "#---prior250--------\n",
    "prior250=xidplus.prior(im250,nim250,im250phdu,im250hdu)#Initialise with map, uncertianty map, wcs info and primary header\n",
    "prior250.prior_cat(RA,Dec,prior_cat)#Set input catalogue\n",
    "prior250.prior_bkg(-5.0,5)#Set prior on background (assumes Guassian pdf with mu and sigma)\n",
    "#---prior350--------\n",
    "prior350=xidplus.prior(im350,nim350,im350phdu,im350hdu)\n",
    "prior350.prior_cat(RA,Dec,prior_cat)\n",
    "prior350.prior_bkg(-5.0,5)\n",
    "\n",
    "#---prior500--------\n",
    "prior500=xidplus.prior(im500,nim500,im500phdu,im500hdu)\n",
    "prior500.prior_cat(RA,Dec,prior_cat)\n",
    "prior500.prior_bkg(-5.0,5)"
   ]
  },
  {
   "cell_type": "code",
   "execution_count": null,
   "metadata": {
    "collapsed": true
   },
   "outputs": [],
   "source": [
    "#pixsize array (size of pixels in arcseconds)\n",
    "pixsize=np.array([pixsize250,pixsize350,pixsize500])\n",
    "#point response function for the three bands\n",
    "prfsize=np.array([18.15,25.15,36.3])\n",
    "#use Gaussian2DKernel to create prf (requires stddev rather than fwhm hence pfwhm/2.355)\n",
    "from astropy.convolution import Gaussian2DKernel\n",
    "\n",
    "##---------fit using Gaussian beam-----------------------\n",
    "prf250=Gaussian2DKernel(prfsize[0]/2.355,x_size=101,y_size=101)\n",
    "prf250.normalize(mode='peak')\n",
    "prf350=Gaussian2DKernel(prfsize[1]/2.355,x_size=101,y_size=101)\n",
    "prf350.normalize(mode='peak')\n",
    "prf500=Gaussian2DKernel(prfsize[2]/2.355,x_size=101,y_size=101)\n",
    "prf500.normalize(mode='peak')\n",
    "\n",
    "pind250=np.arange(0,101,1)*1.0/pixsize[0] #get 250 scale in terms of pixel scale of map\n",
    "pind350=np.arange(0,101,1)*1.0/pixsize[1] #get 350 scale in terms of pixel scale of map\n",
    "pind500=np.arange(0,101,1)*1.0/pixsize[2] #get 500 scale in terms of pixel scale of map\n",
    "\n",
    "prior250.set_prf(prf250.array,pind250,pind250)#requires psf as 2d grid, and x and y bins for grid (in pixel scale)\n",
    "prior350.set_prf(prf350.array,pind350,pind350)\n",
    "prior500.set_prf(prf500.array,pind500,pind500)"
   ]
  },
  {
   "cell_type": "code",
   "execution_count": null,
   "metadata": {
    "collapsed": false
   },
   "outputs": [],
   "source": [
    "print 'fitting '+ str(prior250.nsrc)+' sources \\n'\n",
    "print 'using ' +  str(prior250.snpix)+', '+ str(prior250.snpix)+' and '+ str(prior500.snpix)+' pixels'\n"
   ]
  },
  {
   "cell_type": "code",
   "execution_count": null,
   "metadata": {
    "collapsed": true
   },
   "outputs": [],
   "source": [
    "from pymoc import MOC\n",
    "moc=MOC()\n",
    "moc.read('/Users/pdh21/astrodata/XMM_LSS_Pilot/extended_source_test_MOC_rad4.fits')\n",
    "prior250.set_tile(moc)\n",
    "prior350.set_tile(moc)\n",
    "prior500.set_tile(moc)"
   ]
  },
  {
   "cell_type": "code",
   "execution_count": null,
   "metadata": {
    "collapsed": true
   },
   "outputs": [],
   "source": [
    "prior250.get_pointing_matrix()\n",
    "prior350.get_pointing_matrix()\n",
    "prior500.get_pointing_matrix()"
   ]
  },
  {
   "cell_type": "code",
   "execution_count": null,
   "metadata": {
    "collapsed": false
   },
   "outputs": [],
   "source": [
    "print 'fitting '+ str(prior250.nsrc)+' sources \\n'\n",
    "print 'using ' +  str(prior250.snpix)+', '+ str(prior250.snpix)+' and '+ str(prior500.snpix)+' pixels'"
   ]
  },
  {
   "cell_type": "code",
   "execution_count": null,
   "metadata": {
    "collapsed": true
   },
   "outputs": [],
   "source": [
    "prior250.upper_lim_map()\n",
    "prior350.upper_lim_map()\n",
    "prior500.upper_lim_map()"
   ]
  },
  {
   "cell_type": "code",
   "execution_count": null,
   "metadata": {
    "collapsed": false
   },
   "outputs": [],
   "source": [
    "prior250=add_extended_source(prior250,419,source['Spa'],source['r_K20e'],source['r_K20e']*source['Kb_a'])\n",
    "prior250=add_extended_source(prior250,420,WISE_sources[idx]['pa'],WISE_sources[idx]['Riso'],WISE_sources[idx]['Riso']*WISE_sources[idx]['ba'])\n",
    "prior350=add_extended_source(prior350,419,source['Spa'],source['r_K20e'],source['r_K20e']*source['Kb_a'])\n",
    "prior350=add_extended_source(prior350,420,WISE_sources[idx]['pa'],WISE_sources[idx]['Riso'],WISE_sources[idx]['Riso']*WISE_sources[idx]['ba'])\n",
    "prior500=add_extended_source(prior500,419,source['Spa'],source['r_K20e'],source['r_K20e']*source['Kb_a'])\n",
    "prior500=add_extended_source(prior500,420,WISE_sources[idx]['pa'],WISE_sources[idx]['Riso'],WISE_sources[idx]['Riso']*WISE_sources[idx]['ba'])\n"
   ]
  },
  {
   "cell_type": "code",
   "execution_count": null,
   "metadata": {
    "collapsed": false
   },
   "outputs": [],
   "source": [
    "prior250=add_sersic_source(prior250,419,WISE_sources[idx]['pa'],WISE_sources[idx]['scale_1a'],WISE_sources[idx]['beta_1a'],WISE_sources[idx]['ba'])\n",
    "prior250=add_sersic_source(prior250,420,WISE_sources[idx]['pa'],WISE_sources[idx]['scale_1b'],WISE_sources[idx]['beta_1b'],WISE_sources[idx]['ba'])\n",
    "\n",
    "prior350=add_sersic_source(prior350,419,WISE_sources[idx]['pa'],WISE_sources[idx]['scale_1a'],WISE_sources[idx]['beta_1a'],WISE_sources[idx]['ba'])\n",
    "prior350=add_sersic_source(prior350,420,WISE_sources[idx]['pa'],WISE_sources[idx]['scale_1b'],WISE_sources[idx]['beta_1b'],WISE_sources[idx]['ba'])\n",
    "\n",
    "prior500=add_sersic_source(prior500,419,WISE_sources[idx]['pa'],WISE_sources[idx]['scale_1a'],WISE_sources[idx]['beta_1a'],WISE_sources[idx]['ba'])\n",
    "prior500=add_sersic_source(prior500,420,WISE_sources[idx]['pa'],WISE_sources[idx]['scale_1b'],WISE_sources[idx]['beta_1b'],WISE_sources[idx]['ba'])\n",
    "\n"
   ]
  },
  {
   "cell_type": "code",
   "execution_count": null,
   "metadata": {
    "collapsed": false
   },
   "outputs": [],
   "source": [
    "SDSS=Table.read('/Users/pdh21/astrodata/XMM_LSS_Pilot/SDSS_extended_example.csv',format='ascii.csv')\n",
    "SDSS"
   ]
  },
  {
   "cell_type": "code",
   "execution_count": null,
   "metadata": {
    "collapsed": false
   },
   "outputs": [],
   "source": [
    "prior250=add_sersic_source(prior250,419,SDSS['expPhi_u'],SDSS['expRad_u'],1.0,SDSS['expAB_u'])\n",
    "prior350=add_sersic_source(prior350,419,SDSS['expPhi_u'],SDSS['expRad_u'],1.0,SDSS['expAB_u'])\n",
    "\n",
    "prior500=add_sersic_source(prior500,419,SDSS['expPhi_u'],SDSS['expRad_u'],1.0,SDSS['expAB_u'])\n",
    "\n"
   ]
  },
  {
   "cell_type": "code",
   "execution_count": null,
   "metadata": {
    "collapsed": false
   },
   "outputs": [],
   "source": [
    "from xidplus.stan_fit import SPIRE\n",
    "fit=SPIRE.all_bands(prior250,prior350,prior500,iter=1000)"
   ]
  },
  {
   "cell_type": "code",
   "execution_count": null,
   "metadata": {
    "collapsed": true
   },
   "outputs": [],
   "source": [
    "posterior=xidplus.posterior_stan(fit,[prior250,prior350,prior500])\n"
   ]
  },
  {
   "cell_type": "code",
   "execution_count": null,
   "metadata": {
    "collapsed": true
   },
   "outputs": [],
   "source": [
    "from xidplus import posterior_maps as postmaps\n",
    "\n",
    "hdurep_250=postmaps.make_fits_image(prior250,prior250.sim)\n",
    "hdurep_350=postmaps.make_fits_image(prior350,prior350.sim)\n",
    "hdurep_500=postmaps.make_fits_image(prior500,prior500.sim)"
   ]
  },
  {
   "cell_type": "code",
   "execution_count": null,
   "metadata": {
    "collapsed": true
   },
   "outputs": [],
   "source": [
    "mod_map=np.full((hdurep_250[1].data.shape[1],hdurep_250[1].data.shape[0],500),np.nan)\n",
    "mod_map_array=np.empty((prior250.snpix,500))\n",
    "\n",
    "for i in range(0,500):\n",
    "    mod_map_array[:,i]= postmaps.ymod_map(prior250,posterior.stan_fit[i,0,0:prior250.nsrc]).reshape(-1)+posterior.stan_fit[i,0,prior250.nsrc]+np.random.normal(scale=np.sqrt(prior250.snim**2+posterior.stan_fit[i,0,(prior250.nsrc+1)*3]**2))         \n",
    "    mod_map[prior250.sx_pix-np.min(prior250.sx_pix)-1,prior250.sy_pix-np.min(prior250.sy_pix)-1,i]=mod_map_array[:,i]"
   ]
  },
  {
   "cell_type": "code",
   "execution_count": null,
   "metadata": {
    "collapsed": true
   },
   "outputs": [],
   "source": [
    "mod_map_350=np.full((hdurep_350[1].data.shape[1],hdurep_350[1].data.shape[0],500),np.nan)\n",
    "mod_map_array_350=np.empty((prior350.snpix,500))\n",
    "\n",
    "for i in range(0,500):\n",
    "    mod_map_array_350[:,i]= postmaps.ymod_map(prior350,posterior.stan_fit[i,0,prior350.nsrc+1:2*prior350.nsrc+1]).reshape(-1)+posterior.stan_fit[i,0,2*prior350.nsrc+1]+np.random.normal(scale=np.sqrt(prior350.snim**2+posterior.stan_fit[i,0,1+(prior350.nsrc+1)*3]**2))         \n",
    "    mod_map_350[prior350.sx_pix-np.min(prior350.sx_pix)-1,prior350.sy_pix-np.min(prior350.sy_pix)-1,i]=mod_map_array_350[:,i]"
   ]
  },
  {
   "cell_type": "code",
   "execution_count": null,
   "metadata": {
    "collapsed": true
   },
   "outputs": [],
   "source": [
    "mod_map_500=np.full((hdurep_500[1].data.shape[1],hdurep_500[1].data.shape[0],500),np.nan)\n",
    "mod_map_array_500=np.empty((prior500.snpix,500))\n",
    "\n",
    "for i in range(0,500):\n",
    "    mod_map_array_500[:,i]= postmaps.ymod_map(prior500,posterior.stan_fit[i,0,2*prior500.nsrc+2:3*prior350.nsrc+2]).reshape(-1)+posterior.stan_fit[i,0,3*prior500.nsrc+2]+np.random.normal(scale=np.sqrt(prior500.snim**2+posterior.stan_fit[i,0,2+(prior500.nsrc+1)*3]**2))         \n",
    "    mod_map_500[prior500.sx_pix-np.min(prior500.sx_pix)-1,prior500.sy_pix-np.min(prior500.sy_pix)-1,i]=mod_map_array_500[:,i]"
   ]
  },
  {
   "cell_type": "code",
   "execution_count": null,
   "metadata": {
    "collapsed": true
   },
   "outputs": [],
   "source": [
    "import scipy.stats as st\n",
    "\n",
    "pval_250=np.empty_like(prior250.sim)\n",
    "for i in range(0,prior250.snpix):\n",
    "    ind=mod_map_array[i,:]<prior250.sim[i]\n",
    "    pval_250[i]=st.norm.ppf(sum(ind)/np.float(mod_map_array.shape[1]))\n",
    "pval_250[np.isposinf(pval_250)]=6\n",
    "    \n",
    "pval_350=np.empty_like(prior350.sim)\n",
    "for i in range(0,prior350.snpix):\n",
    "    ind=mod_map_array_350[i,:]<prior350.sim[i]\n",
    "    pval_350[i]=st.norm.ppf(sum(ind)/np.float(mod_map_array_350.shape[1]))\n",
    "pval_350[np.isposinf(pval_350)]=6\n",
    "    \n",
    "pval_500=np.empty_like(prior500.sim)\n",
    "for i in range(0,prior500.snpix):\n",
    "    ind=mod_map_array_500[i,:]<prior500.sim[i]\n",
    "    pval_500[i]=st.norm.ppf(sum(ind)/np.float(mod_map_array_500.shape[1]))\n",
    "pval_500[np.isposinf(pval_500)]=6"
   ]
  },
  {
   "cell_type": "code",
   "execution_count": null,
   "metadata": {
    "collapsed": true
   },
   "outputs": [],
   "source": []
  },
  {
   "cell_type": "code",
   "execution_count": null,
   "metadata": {
    "collapsed": false
   },
   "outputs": [],
   "source": [
    "cmap=sns.cubehelix_palette(8, start=.5, rot=-.75,as_cmap=True)\n",
    "\n",
    "vmin=-1.7E1/1.0E3\n",
    "vmax=4.446e+01/1.0E3\n",
    "ra_zoom=source['RAJ2000']\n",
    "dec_zoom=source['DEJ2000']\n",
    "radius=0.05\n",
    "fig = plt.figure(figsize=(30,30))\n",
    "cfhtls=aplpy.FITSFigure('/Users/pdh21/astrodata/XMM_LSS_Pilot/W1+1+2.U.11023_11534_3064_3575.fits',figure=fig,subplot=(3,3,1))\n",
    "cfhtls.show_colorscale(vmin=-10,vmax=200,cmap=cmap)\n",
    "cfhtls.recenter(ra_zoom, dec_zoom, radius=radius)\n",
    "\n",
    "\n",
    "mips=aplpy.FITSFigure('/Users/pdh21/astrodata/XMM_LSS_Pilot/wp4_xmm-lss_mips24_map_v1.0.fits.gz',figure=fig,subplot=(3,3,2))\n",
    "mips.show_colorscale(vmin=-0.001,vmax=5,cmap=cmap)\n",
    "mips.recenter(ra_zoom, dec_zoom, radius=radius)\n",
    "\n",
    "wise_band4=aplpy.FITSFigure('/Users/pdh21/astrodata/XMM_LSS_Pilot/L3a-0349m061_ac51-0349m061_ac51-w4-int-3_ra35.401958_dec-5.5213939_asec600.000.fits',figure=fig,subplot=(3,3,3))\n",
    "wise_band4.show_colorscale(vmin=202,vmax=204,cmap=cmap)\n",
    "wise_band4.recenter(ra_zoom, dec_zoom, radius=radius)\n",
    "wise_band4.show_ellipses(ra_zoom, dec_zoom,2*WISE_sources[idx]['Riso']/3600.0,2*WISE_sources[idx]['Riso']*WISE_sources[idx]['ba']/3600.0, angle=360.0-WISE_sources[idx]['pa'],edgecolor='white',linewidth=2.0)\n",
    "\n",
    "\n",
    "real_250 = aplpy.FITSFigure(hdulist_250[1],figure=fig,subplot=(3,3,4))\n",
    "real_250.show_colorscale(vmin=vmin,vmax=0.8,cmap=cmap)\n",
    "#real_250.show_markers(ra_list,dec_list, edgecolor='white', facecolor='white',\n",
    "                #marker='o', s=40, alpha=0.5)\n",
    "real_250.show_markers(IRAC_sources['RA'],IRAC_sources['DEC'], edgecolor='yellow', facecolor='yellow',\n",
    "                marker='o', s=40, alpha=0.5)\n",
    "real_250.recenter(ra_zoom, dec_zoom, radius=radius)\n",
    "real_250.show_ellipses(ra_zoom, dec_zoom,2*source['r_K20e']/3600.0,2*source['r_K20e']*source['Kb_a']/3600.0, angle=360.0-source['Spa'],edgecolor='white',linewidth=2.0)\n",
    "real_250.show_ellipses(ra_zoom, dec_zoom,2*WISE_sources[idx]['Riso']/3600.0,2*WISE_sources[idx]['Riso']*WISE_sources[idx]['ba']/3600.0, angle=360.0-WISE_sources[idx]['pa'],edgecolor='white',linewidth=2.0)\n",
    "\n",
    "real_250.add_colorbar()\n",
    "#real_250.show_markers(WISE_sources['ra'],WISE_sources['dec'], edgecolor='red', facecolor='red',\n",
    "#                marker='o', s=40, alpha=0.5)\n",
    "\n",
    "real_350 = aplpy.FITSFigure(hdulist_350[1],figure=fig,subplot=(3,3,5))\n",
    "real_350.show_colorscale(vmin=vmin,vmax=0.8,cmap=cmap)\n",
    "real_350.show_ellipses(ra_zoom, dec_zoom,2*source['r_K20e']/3600.0,2*source['r_K20e']*source['Kb_a']/3600.0, angle=360.0-source['Spa'],edgecolor='white',linewidth=2.0)\n",
    "\n",
    "#real_350.show_markers(prior250.sra, prior250.sdec, edgecolor='black', facecolor='black',\n",
    "                #marker='o', s=40, alpha=0.5)\n",
    "real_350.recenter(ra_zoom, dec_zoom, radius=radius)\n",
    "\n",
    "real_500 = aplpy.FITSFigure(hdulist_500[1],figure=fig,subplot=(3,3,6))\n",
    "real_500.show_colorscale(vmin=vmin,vmax=0.8,cmap=cmap)\n",
    "#real_500.show_markers(prior250.sra, prior250.sdec, edgecolor='black', facecolor='black',\n",
    "                #marker='o', s=40, alpha=0.5)\n",
    "real_500.recenter(ra_zoom, dec_zoom, radius=radius)\n",
    "real_500.show_ellipses(ra_zoom, dec_zoom,2*source['r_K20e']/3600.0,2*source['r_K20e']*source['Kb_a']/3600.0, angle=360.0-source['Spa'],edgecolor='white',linewidth=2.0)\n",
    "\n",
    "vmin=-6\n",
    "vmax=6\n",
    "cmap=sns.diverging_palette(220, 20,as_cmap=True)\n",
    "\n",
    "res250=aplpy.FITSFigure(hdurep_250[1],figure=fig,subplot=(3,3,7))\n",
    "res250.show_colorscale(vmin=vmin,vmax=vmax,cmap=cmap)\n",
    "res250.show_markers(prior250.sra, prior250.sdec, edgecolor='black', facecolor='black',\n",
    "                marker='o', s=80, alpha=0.5)\n",
    "res250.recenter(ra_zoom, dec_zoom, radius=radius)\n",
    "\n",
    "res350=aplpy.FITSFigure(hdurep_350[1],figure=fig,subplot=(3,3,8))\n",
    "res350.show_colorscale(vmin=vmin,vmax=vmax,cmap=cmap)\n",
    "res350.show_markers(prior350.sra, prior350.sdec, edgecolor='black', facecolor='black',\n",
    "                marker='o', s=80, alpha=0.5)\n",
    "res350.recenter(ra_zoom, dec_zoom, radius=radius)\n",
    "\n",
    "\n",
    "res500=aplpy.FITSFigure(hdurep_500[1],figure=fig,subplot=(3,3,9))\n",
    "res500.show_colorscale(vmin=vmin,vmax=vmax,cmap=cmap)\n",
    "res500.show_markers(prior500.sra, prior500.sdec, edgecolor='black', facecolor='black',\n",
    "                marker='o', s=80, alpha=0.5)\n",
    "\n",
    "\n",
    "res250._data[prior250.sy_pix-np.min(prior250.sy_pix)-1,prior250.sx_pix-np.min(prior250.sx_pix)-1]=pval_250\n",
    "res350._data[prior350.sy_pix-np.min(prior350.sy_pix)-1,prior350.sx_pix-np.min(prior350.sx_pix)-1]=pval_350\n",
    "res500._data[prior500.sy_pix-np.min(prior500.sy_pix)-1,prior500.sx_pix-np.min(prior500.sx_pix)-1]=pval_500\n",
    "res500.recenter(ra_zoom, dec_zoom, radius=radius)\n",
    "#res500.tick_labels.set_xformat('dd.dd')\n",
    "#res500.tick_labels.set_yformat('dd.dd')\n",
    "\n",
    "\n",
    "res250.show_colorscale(vmin=vmin,vmax=vmax,cmap=cmap)\n",
    "res350.show_colorscale(vmin=vmin,vmax=vmax,cmap=cmap)\n",
    "res500.show_colorscale(vmin=vmin,vmax=vmax,cmap=cmap)\n",
    "res250.add_colorbar()\n",
    "res250.colorbar.set_location('top')\n",
    "res350.add_colorbar()\n",
    "res350.colorbar.set_location('top')\n",
    "res500.add_colorbar()\n",
    "res500.colorbar.set_location('top')\n"
   ]
  },
  {
   "cell_type": "code",
   "execution_count": null,
   "metadata": {
    "collapsed": false
   },
   "outputs": [],
   "source": [
    "plt.imshow(mod_map[:,:,1],interpolation='nearest')\n",
    "plt.colorbar()"
   ]
  },
  {
   "cell_type": "code",
   "execution_count": null,
   "metadata": {
    "collapsed": false
   },
   "outputs": [],
   "source": [
    "plt.hist(posterior.stan_fit[:,:,420])"
   ]
  },
  {
   "cell_type": "code",
   "execution_count": null,
   "metadata": {
    "collapsed": false
   },
   "outputs": [],
   "source": [
    "prior250.nsrc"
   ]
  },
  {
   "cell_type": "code",
   "execution_count": null,
   "metadata": {
    "collapsed": true
   },
   "outputs": [],
   "source": []
  },
  {
   "cell_type": "code",
   "execution_count": null,
   "metadata": {
    "collapsed": false
   },
   "outputs": [],
   "source": [
    "cmap=sns.cubehelix_palette(8, start=.5, rot=-.75,as_cmap=True)\n",
    "\n",
    "vmin=-1.7E1/1.0E3\n",
    "vmax=4.446e+01/1.0E3\n",
    "ra_zoom=source['RAJ2000']\n",
    "dec_zoom=source['DEJ2000']\n",
    "radius=0.05\n",
    "fig = plt.figure(figsize=(30,30))\n",
    "cfhtls=aplpy.FITSFigure('/Users/pdh21/astrodata/XMM_LSS_Pilot/W1+1+2.U.11023_11534_3064_3575.fits',figure=fig,subplot=(3,3,1))\n",
    "cfhtls.show_colorscale(vmin=-10,vmax=200,cmap=cmap)\n",
    "cfhtls.recenter(ra_zoom, dec_zoom, radius=radius)\n",
    "\n",
    "\n",
    "mips=aplpy.FITSFigure('/Users/pdh21/astrodata/XMM_LSS_Pilot/wp4_xmm-lss_mips24_map_v1.0.fits.gz',figure=fig,subplot=(3,3,2))\n",
    "mips.show_colorscale(vmin=-0.001,vmax=5,cmap=cmap)\n",
    "mips.recenter(ra_zoom, dec_zoom, radius=radius)\n",
    "\n",
    "wise_band4=aplpy.FITSFigure('/Users/pdh21/astrodata/XMM_LSS_Pilot/L3a-0349m061_ac51-0349m061_ac51-w4-int-3_ra35.401958_dec-5.5213939_asec600.000.fits',figure=fig,subplot=(3,3,3))\n",
    "wise_band4.show_colorscale(vmin=202,vmax=204,cmap=cmap)\n",
    "wise_band4.recenter(ra_zoom, dec_zoom, radius=radius)\n",
    "wise_band4.show_ellipses(ra_zoom, dec_zoom,2*WISE_sources[idx]['Riso']/3600.0,2*WISE_sources[idx]['Riso']*WISE_sources[idx]['ba']/3600.0, angle=360.0-WISE_sources[idx]['pa'],edgecolor='white',linewidth=2.0)\n",
    "\n",
    "\n",
    "real_250 = aplpy.FITSFigure(hdulist_250[1],figure=fig,subplot=(3,3,4))\n",
    "real_250.show_colorscale(vmin=vmin,vmax=0.8,cmap=cmap,stretch='arcsinh')\n",
    "#real_250.show_markers(ra_list,dec_list, edgecolor='white', facecolor='white',\n",
    "                #marker='o', s=40, alpha=0.5)\n",
    "real_250.show_markers(IRAC_sources['RA'],IRAC_sources['DEC'], edgecolor='yellow', facecolor='yellow',\n",
    "                marker='o', s=40, alpha=0.5)\n",
    "real_250.recenter(ra_zoom, dec_zoom, radius=radius)\n",
    "real_250.show_ellipses(ra_zoom, dec_zoom,2*source['r_K20e']/3600.0,2*source['r_K20e']*source['Kb_a']/3600.0, angle=360.0-source['Spa'],edgecolor='white',linewidth=2.0)\n",
    "real_250.show_ellipses(ra_zoom, dec_zoom,2*WISE_sources[idx]['Riso']/3600.0,2*WISE_sources[idx]['Riso']*WISE_sources[idx]['ba']/3600.0, angle=360.0-WISE_sources[idx]['pa'],edgecolor='white',linewidth=2.0)\n",
    "\n",
    "real_250.add_colorbar()\n",
    "#real_250.show_markers(WISE_sources['ra'],WISE_sources['dec'], edgecolor='red', facecolor='red',\n",
    "#                marker='o', s=40, alpha=0.5)\n",
    "\n",
    "real_350 = aplpy.FITSFigure(hdulist_350[1],figure=fig,subplot=(3,3,5))\n",
    "real_350.show_colorscale(vmin=vmin,vmax=0.8,cmap=cmap,stretch='arcsinh')\n",
    "real_350.show_ellipses(ra_zoom, dec_zoom,2*source['r_K20e']/3600.0,2*source['r_K20e']*source['Kb_a']/3600.0, angle=360.0-source['Spa'],edgecolor='white',linewidth=2.0)\n",
    "\n",
    "#real_350.show_markers(prior250.sra, prior250.sdec, edgecolor='black', facecolor='black',\n",
    "                #marker='o', s=40, alpha=0.5)\n",
    "real_350.recenter(ra_zoom, dec_zoom, radius=radius)\n",
    "\n",
    "real_500 = aplpy.FITSFigure(hdulist_500[1],figure=fig,subplot=(3,3,6))\n",
    "real_500.show_colorscale(vmin=vmin,vmax=0.8,cmap=cmap,stretch='arcsinh')\n",
    "#real_500.show_markers(prior250.sra, prior250.sdec, edgecolor='black', facecolor='black',\n",
    "                #marker='o', s=40, alpha=0.5)\n",
    "real_500.recenter(ra_zoom, dec_zoom, radius=radius)\n",
    "real_500.show_ellipses(ra_zoom, dec_zoom,2*source['r_K20e']/3600.0,2*source['r_K20e']*source['Kb_a']/3600.0, angle=360.0-source['Spa'],edgecolor='white',linewidth=2.0)\n",
    "\n",
    "vmin=-1.7E1\n",
    "vmax=800.0\n",
    "#cmap=sns.diverging_palette(220, 20,as_cmap=True)\n",
    "\n",
    "res250=aplpy.FITSFigure(hdurep_250[1],figure=fig,subplot=(3,3,7))\n",
    "res250.show_colorscale(vmin=vmin,vmax=vmax,cmap=cmap,stretch='arcsinh')\n",
    "res250.show_markers(prior250.sra, prior250.sdec, edgecolor='black', facecolor='black',\n",
    "                marker='o', s=80, alpha=0.5)\n",
    "res250.recenter(ra_zoom, dec_zoom, radius=radius)\n",
    "\n",
    "res350=aplpy.FITSFigure(hdurep_350[1],figure=fig,subplot=(3,3,8))\n",
    "res350.show_colorscale(vmin=vmin,vmax=vmax,cmap=cmap,stretch='arcsinh')\n",
    "res350.show_markers(prior350.sra, prior350.sdec, edgecolor='black', facecolor='black',\n",
    "                marker='o', s=80, alpha=0.5)\n",
    "res350.recenter(ra_zoom, dec_zoom, radius=radius)\n",
    "\n",
    "\n",
    "res500=aplpy.FITSFigure(hdurep_500[1],figure=fig,subplot=(3,3,9))\n",
    "res500.show_colorscale(vmin=vmin,vmax=vmax,cmap=cmap,stretch='arcsinh')\n",
    "res500.show_markers(prior500.sra, prior500.sdec, edgecolor='black', facecolor='black',\n",
    "                marker='o', s=80, alpha=0.5)\n",
    "\n",
    "\n",
    "res250._data[prior250.sy_pix-np.min(prior250.sy_pix)-1,prior250.sx_pix-np.min(prior250.sx_pix)-1]=mod_map_array[:,50]\n",
    "res350._data[prior350.sy_pix-np.min(prior350.sy_pix)-1,prior350.sx_pix-np.min(prior350.sx_pix)-1]=mod_map_array_350[:,50]\n",
    "res500._data[prior500.sy_pix-np.min(prior500.sy_pix)-1,prior500.sx_pix-np.min(prior500.sx_pix)-1]=mod_map_array_500[:,50]\n",
    "res500.recenter(ra_zoom, dec_zoom, radius=radius)\n",
    "#res500.tick_labels.set_xformat('dd.dd')\n",
    "#res500.tick_labels.set_yformat('dd.dd')\n",
    "\n",
    "\n",
    "res250.show_colorscale(vmin=vmin,vmax=vmax,cmap=cmap,stretch='arcsinh')\n",
    "res350.show_colorscale(vmin=vmin,vmax=vmax,cmap=cmap,stretch='arcsinh')\n",
    "res500.show_colorscale(vmin=vmin,vmax=vmax,cmap=cmap,stretch='arcsinh')\n",
    "res250.add_colorbar()\n",
    "res250.colorbar.set_location('top')\n",
    "res350.add_colorbar()\n",
    "res350.colorbar.set_location('top')\n",
    "res500.add_colorbar()\n",
    "res500.colorbar.set_location('top')\n"
   ]
  },
  {
   "cell_type": "code",
   "execution_count": null,
   "metadata": {
    "collapsed": false
   },
   "outputs": [],
   "source": [
    "plt.scatter(posterior.stan_fit[:,:,419].flatten(),posterior.stan_fit[:,:,420].flatten())"
   ]
  },
  {
   "cell_type": "code",
   "execution_count": null,
   "metadata": {
    "collapsed": false
   },
   "outputs": [],
   "source": [
    "plt.hist(posterior.stan_fit[:,:,-4].flatten())"
   ]
  },
  {
   "cell_type": "code",
   "execution_count": null,
   "metadata": {
    "collapsed": true
   },
   "outputs": [],
   "source": [
    "prior250\n",
    "extended_source_conv=postmaps.make_fits_image(prior250,atemp)\n"
   ]
  },
  {
   "cell_type": "code",
   "execution_count": null,
   "metadata": {
    "collapsed": false
   },
   "outputs": [],
   "source": [
    "prior250.amat_col == 419"
   ]
  },
  {
   "cell_type": "code",
   "execution_count": null,
   "metadata": {
    "collapsed": false
   },
   "outputs": [],
   "source": [
    "prior250.nsrc"
   ]
  },
  {
   "cell_type": "code",
   "execution_count": null,
   "metadata": {
    "collapsed": false
   },
   "outputs": [],
   "source": [
    "atemp=np.empty_like(prior250.sim)\n",
    "atemp[:]=0.0\n",
    "ind=prior250.amat_col == 420\n",
    "atemp[prior250.amat_row[ind]]=prior250.amat_data[ind]\n",
    "extended_source_conv=postmaps.make_fits_image(prior250,atemp)\n",
    "cmap=sns.cubehelix_palette(8, start=.5, rot=-.75,as_cmap=True)\n",
    "real_250 = aplpy.FITSFigure(extended_source_conv[1])\n",
    "real_250.show_colorscale(cmap=cmap)\n",
    "#real_250.show_markers(ra_list,dec_list, edgecolor='white', facecolor='white',\n",
    "                #marker='o', s=40, alpha=0.5)\n",
    "real_250.show_ellipses(ra_zoom, dec_zoom,2*WISE_sources[idx]['Riso']/3600.0,2*WISE_sources[idx]['Riso']*WISE_sources[idx]['ba']/3600.0, angle=360.0-WISE_sources[idx]['pa'],edgecolor='white',linewidth=2.0)\n",
    "\n",
    "real_250.show_markers(IRAC_sources['RA'],IRAC_sources['DEC'], edgecolor='yellow', facecolor='yellow',\n",
    "                marker='o', s=40, alpha=0.5)\n",
    "#real_250.recenter(ra_zoom, dec_zoom, radius=radius)\n"
   ]
  },
  {
   "cell_type": "code",
   "execution_count": null,
   "metadata": {
    "collapsed": false
   },
   "outputs": [],
   "source": [
    "fit=SPIRE.all_bands(prior250,prior350,prior500,iter=1500)"
   ]
  },
  {
   "cell_type": "code",
   "execution_count": null,
   "metadata": {
    "collapsed": true
   },
   "outputs": [],
   "source": [
    "posterior=xidplus.posterior_stan(fit,[prior250,prior350,prior500])\n"
   ]
  },
  {
   "cell_type": "code",
   "execution_count": null,
   "metadata": {
    "collapsed": true
   },
   "outputs": [],
   "source": [
    "from xidplus import posterior_maps as postmaps\n",
    "\n",
    "hdurep_250=postmaps.make_fits_image(prior250,prior250.sim)\n",
    "hdurep_350=postmaps.make_fits_image(prior350,prior350.sim)\n",
    "hdurep_500=postmaps.make_fits_image(prior500,prior500.sim)"
   ]
  },
  {
   "cell_type": "code",
   "execution_count": null,
   "metadata": {
    "collapsed": true
   },
   "outputs": [],
   "source": [
    "mod_map=np.full((hdurep_250[1].data.shape[1],hdurep_250[1].data.shape[0],500),np.nan)\n",
    "mod_map_array=np.empty((prior250.snpix,500))\n",
    "\n",
    "for i in range(0,500):\n",
    "    mod_map_array[:,i]= postmaps.ymod_map(prior250,posterior.stan_fit[i,0,0:prior250.nsrc]).reshape(-1)+posterior.stan_fit[i,0,prior250.nsrc]+np.random.normal(scale=np.sqrt(prior250.snim**2+posterior.stan_fit[i,0,(prior250.nsrc+1)*3]**2))         \n",
    "    mod_map[prior250.sx_pix-np.min(prior250.sx_pix)-1,prior250.sy_pix-np.min(prior250.sy_pix)-1,i]=mod_map_array[:,i]"
   ]
  },
  {
   "cell_type": "code",
   "execution_count": null,
   "metadata": {
    "collapsed": true
   },
   "outputs": [],
   "source": [
    "mod_map_350=np.full((hdurep_350[1].data.shape[1],hdurep_350[1].data.shape[0],500),np.nan)\n",
    "mod_map_array_350=np.empty((prior350.snpix,500))\n",
    "\n",
    "for i in range(0,500):\n",
    "    mod_map_array_350[:,i]= postmaps.ymod_map(prior350,posterior.stan_fit[i,0,prior350.nsrc+1:2*prior350.nsrc+1]).reshape(-1)+posterior.stan_fit[i,0,2*prior350.nsrc+1]+np.random.normal(scale=np.sqrt(prior350.snim**2+posterior.stan_fit[i,0,1+(prior350.nsrc+1)*3]**2))         \n",
    "    mod_map_350[prior350.sx_pix-np.min(prior350.sx_pix)-1,prior350.sy_pix-np.min(prior350.sy_pix)-1,i]=mod_map_array_350[:,i]"
   ]
  },
  {
   "cell_type": "code",
   "execution_count": null,
   "metadata": {
    "collapsed": true
   },
   "outputs": [],
   "source": [
    "mod_map_500=np.full((hdurep_500[1].data.shape[1],hdurep_500[1].data.shape[0],500),np.nan)\n",
    "mod_map_array_500=np.empty((prior500.snpix,500))\n",
    "\n",
    "for i in range(0,500):\n",
    "    mod_map_array_500[:,i]= postmaps.ymod_map(prior500,posterior.stan_fit[i,0,2*prior500.nsrc+2:3*prior350.nsrc+2]).reshape(-1)+posterior.stan_fit[i,0,3*prior500.nsrc+2]+np.random.normal(scale=np.sqrt(prior500.snim**2+posterior.stan_fit[i,0,2+(prior500.nsrc+1)*3]**2))         \n",
    "    mod_map_500[prior500.sx_pix-np.min(prior500.sx_pix)-1,prior500.sy_pix-np.min(prior500.sy_pix)-1,i]=mod_map_array_500[:,i]"
   ]
  },
  {
   "cell_type": "code",
   "execution_count": null,
   "metadata": {
    "collapsed": true
   },
   "outputs": [],
   "source": [
    "import scipy.stats as st\n",
    "\n",
    "pval_250=np.empty_like(prior250.sim)\n",
    "for i in range(0,prior250.snpix):\n",
    "    ind=mod_map_array[i,:]<prior250.sim[i]\n",
    "    pval_250[i]=st.norm.ppf(sum(ind)/np.float(mod_map_array.shape[1]))\n",
    "pval_250[np.isposinf(pval_250)]=6\n",
    "    \n",
    "pval_350=np.empty_like(prior350.sim)\n",
    "for i in range(0,prior350.snpix):\n",
    "    ind=mod_map_array_350[i,:]<prior350.sim[i]\n",
    "    pval_350[i]=st.norm.ppf(sum(ind)/np.float(mod_map_array_350.shape[1]))\n",
    "pval_350[np.isposinf(pval_350)]=6\n",
    "    \n",
    "pval_500=np.empty_like(prior500.sim)\n",
    "for i in range(0,prior500.snpix):\n",
    "    ind=mod_map_array_500[i,:]<prior500.sim[i]\n",
    "    pval_500[i]=st.norm.ppf(sum(ind)/np.float(mod_map_array_500.shape[1]))\n",
    "pval_500[np.isposinf(pval_500)]=6"
   ]
  },
  {
   "cell_type": "code",
   "execution_count": null,
   "metadata": {
    "collapsed": false
   },
   "outputs": [],
   "source": [
    "cmap=sns.cubehelix_palette(8, start=.5, rot=-.75,as_cmap=True)\n",
    "\n",
    "vmin=-1.7E1/1.0E3\n",
    "vmax=4.446e+01/1.0E3\n",
    "ra_zoom=source['RAJ2000']\n",
    "dec_zoom=source['DEJ2000']\n",
    "radius=0.05\n",
    "fig = plt.figure(figsize=(30,30))\n",
    "cfhtls=aplpy.FITSFigure('/Users/pdh21/astrodata/XMM_LSS_Pilot/W1+1+2.U.11023_11534_3064_3575.fits',figure=fig,subplot=(3,3,1))\n",
    "cfhtls.show_colorscale(vmin=-10,vmax=200,cmap=cmap)\n",
    "cfhtls.recenter(ra_zoom, dec_zoom, radius=radius)\n",
    "\n",
    "\n",
    "mips=aplpy.FITSFigure('/Users/pdh21/astrodata/XMM_LSS_Pilot/wp4_xmm-lss_mips24_map_v1.0.fits.gz',figure=fig,subplot=(3,3,2))\n",
    "mips.show_colorscale(vmin=-0.001,vmax=5,cmap=cmap)\n",
    "mips.recenter(ra_zoom, dec_zoom, radius=radius)\n",
    "\n",
    "wise_band4=aplpy.FITSFigure('/Users/pdh21/astrodata/XMM_LSS_Pilot/L3a-0349m061_ac51-0349m061_ac51-w4-int-3_ra35.401958_dec-5.5213939_asec600.000.fits',figure=fig,subplot=(3,3,3))\n",
    "wise_band4.show_colorscale(vmin=202,vmax=204,cmap=cmap)\n",
    "wise_band4.recenter(ra_zoom, dec_zoom, radius=radius)\n",
    "wise_band4.show_ellipses(ra_zoom, dec_zoom,2*WISE_sources[idx]['Riso']/3600.0,2*WISE_sources[idx]['Riso']*WISE_sources[idx]['ba']/3600.0, angle=360.0-WISE_sources[idx]['pa'],edgecolor='white',linewidth=2.0)\n",
    "\n",
    "\n",
    "real_250 = aplpy.FITSFigure(hdulist_250[1],figure=fig,subplot=(3,3,4))\n",
    "real_250.show_colorscale(vmin=vmin,vmax=0.8,cmap=cmap)\n",
    "#real_250.show_markers(ra_list,dec_list, edgecolor='white', facecolor='white',\n",
    "                #marker='o', s=40, alpha=0.5)\n",
    "real_250.show_markers(IRAC_sources['RA'],IRAC_sources['DEC'], edgecolor='yellow', facecolor='yellow',\n",
    "                marker='o', s=40, alpha=0.5)\n",
    "real_250.recenter(ra_zoom, dec_zoom, radius=radius)\n",
    "real_250.show_ellipses(ra_zoom, dec_zoom,2*source['r_K20e']/3600.0,2*source['r_K20e']*source['Kb_a']/3600.0, angle=360.0-source['Spa'],edgecolor='white',linewidth=2.0)\n",
    "real_250.show_ellipses(ra_zoom, dec_zoom,2*WISE_sources[idx]['Riso']/3600.0,2*WISE_sources[idx]['Riso']*WISE_sources[idx]['ba']/3600.0, angle=360.0-WISE_sources[idx]['pa'],edgecolor='white',linewidth=2.0)\n",
    "\n",
    "real_250.add_colorbar()\n",
    "#real_250.show_markers(WISE_sources['ra'],WISE_sources['dec'], edgecolor='red', facecolor='red',\n",
    "#                marker='o', s=40, alpha=0.5)\n",
    "\n",
    "real_350 = aplpy.FITSFigure(hdulist_350[1],figure=fig,subplot=(3,3,5))\n",
    "real_350.show_colorscale(vmin=vmin,vmax=0.8,cmap=cmap)\n",
    "real_350.show_ellipses(ra_zoom, dec_zoom,2*source['r_K20e']/3600.0,2*source['r_K20e']*source['Kb_a']/3600.0, angle=360.0-source['Spa'],edgecolor='white',linewidth=2.0)\n",
    "\n",
    "#real_350.show_markers(prior250.sra, prior250.sdec, edgecolor='black', facecolor='black',\n",
    "                #marker='o', s=40, alpha=0.5)\n",
    "real_350.recenter(ra_zoom, dec_zoom, radius=radius)\n",
    "\n",
    "real_500 = aplpy.FITSFigure(hdulist_500[1],figure=fig,subplot=(3,3,6))\n",
    "real_500.show_colorscale(vmin=vmin,vmax=0.8,cmap=cmap)\n",
    "#real_500.show_markers(prior250.sra, prior250.sdec, edgecolor='black', facecolor='black',\n",
    "                #marker='o', s=40, alpha=0.5)\n",
    "real_500.recenter(ra_zoom, dec_zoom, radius=radius)\n",
    "real_500.show_ellipses(ra_zoom, dec_zoom,2*source['r_K20e']/3600.0,2*source['r_K20e']*source['Kb_a']/3600.0, angle=360.0-source['Spa'],edgecolor='white',linewidth=2.0)\n",
    "\n",
    "vmin=-6\n",
    "vmax=6\n",
    "cmap=sns.diverging_palette(220, 20,as_cmap=True)\n",
    "\n",
    "res250=aplpy.FITSFigure(hdurep_250[1],figure=fig,subplot=(3,3,7))\n",
    "res250.show_colorscale(vmin=vmin,vmax=vmax,cmap=cmap)\n",
    "res250.show_markers(prior250.sra, prior250.sdec, edgecolor='black', facecolor='black',\n",
    "                marker='o', s=80, alpha=0.5)\n",
    "res250.recenter(ra_zoom, dec_zoom, radius=radius)\n",
    "\n",
    "res350=aplpy.FITSFigure(hdurep_350[1],figure=fig,subplot=(3,3,8))\n",
    "res350.show_colorscale(vmin=vmin,vmax=vmax,cmap=cmap)\n",
    "res350.show_markers(prior350.sra, prior350.sdec, edgecolor='black', facecolor='black',\n",
    "                marker='o', s=80, alpha=0.5)\n",
    "res350.recenter(ra_zoom, dec_zoom, radius=radius)\n",
    "\n",
    "\n",
    "res500=aplpy.FITSFigure(hdurep_500[1],figure=fig,subplot=(3,3,9))\n",
    "res500.show_colorscale(vmin=vmin,vmax=vmax,cmap=cmap)\n",
    "res500.show_markers(prior500.sra, prior500.sdec, edgecolor='black', facecolor='black',\n",
    "                marker='o', s=80, alpha=0.5)\n",
    "\n",
    "\n",
    "res250._data[prior250.sy_pix-np.min(prior250.sy_pix)-1,prior250.sx_pix-np.min(prior250.sx_pix)-1]=pval_250\n",
    "res350._data[prior350.sy_pix-np.min(prior350.sy_pix)-1,prior350.sx_pix-np.min(prior350.sx_pix)-1]=pval_350\n",
    "res500._data[prior500.sy_pix-np.min(prior500.sy_pix)-1,prior500.sx_pix-np.min(prior500.sx_pix)-1]=pval_500\n",
    "res500.recenter(ra_zoom, dec_zoom, radius=radius)\n",
    "#res500.tick_labels.set_xformat('dd.dd')\n",
    "#res500.tick_labels.set_yformat('dd.dd')\n",
    "\n",
    "\n",
    "res250.show_colorscale(vmin=vmin,vmax=vmax,cmap=cmap)\n",
    "res350.show_colorscale(vmin=vmin,vmax=vmax,cmap=cmap)\n",
    "res500.show_colorscale(vmin=vmin,vmax=vmax,cmap=cmap)\n",
    "res250.add_colorbar()\n",
    "res250.colorbar.set_location('top')\n",
    "res350.add_colorbar()\n",
    "res350.colorbar.set_location('top')\n",
    "res500.add_colorbar()\n",
    "res500.colorbar.set_location('top')"
   ]
  },
  {
   "cell_type": "code",
   "execution_count": null,
   "metadata": {
    "collapsed": false
   },
   "outputs": [],
   "source": [
    "cmap=sns.cubehelix_palette(8, start=.5, rot=-.75,as_cmap=True)\n",
    "\n",
    "vmin=-1.7E1/1.0E3\n",
    "vmax=4.446e+01/1.0E3\n",
    "ra_zoom=source['RAJ2000']\n",
    "dec_zoom=source['DEJ2000']\n",
    "radius=0.05\n",
    "fig = plt.figure(figsize=(30,30))\n",
    "cfhtls=aplpy.FITSFigure('/Users/pdh21/astrodata/XMM_LSS_Pilot/W1+1+2.U.11023_11534_3064_3575.fits',figure=fig,subplot=(3,3,1))\n",
    "cfhtls.show_colorscale(vmin=-10,vmax=200,cmap=cmap)\n",
    "cfhtls.recenter(ra_zoom, dec_zoom, radius=radius)\n",
    "\n",
    "\n",
    "mips=aplpy.FITSFigure('/Users/pdh21/astrodata/XMM_LSS_Pilot/wp4_xmm-lss_mips24_map_v1.0.fits.gz',figure=fig,subplot=(3,3,2))\n",
    "mips.show_colorscale(vmin=-0.001,vmax=5,cmap=cmap)\n",
    "mips.recenter(ra_zoom, dec_zoom, radius=radius)\n",
    "\n",
    "wise_band4=aplpy.FITSFigure('/Users/pdh21/astrodata/XMM_LSS_Pilot/L3a-0349m061_ac51-0349m061_ac51-w4-int-3_ra35.401958_dec-5.5213939_asec600.000.fits',figure=fig,subplot=(3,3,3))\n",
    "wise_band4.show_colorscale(vmin=202,vmax=204,cmap=cmap)\n",
    "wise_band4.recenter(ra_zoom, dec_zoom, radius=radius)\n",
    "wise_band4.show_ellipses(ra_zoom, dec_zoom,2*WISE_sources[idx]['Riso']/3600.0,2*WISE_sources[idx]['Riso']*WISE_sources[idx]['ba']/3600.0, angle=360.0-WISE_sources[idx]['pa'],edgecolor='white',linewidth=2.0)\n",
    "\n",
    "\n",
    "real_250 = aplpy.FITSFigure(hdulist_250[1],figure=fig,subplot=(3,3,4))\n",
    "real_250.show_colorscale(vmin=vmin,vmax=0.8,cmap=cmap,stretch='arcsinh')\n",
    "#real_250.show_markers(ra_list,dec_list, edgecolor='white', facecolor='white',\n",
    "                #marker='o', s=40, alpha=0.5)\n",
    "real_250.show_markers(IRAC_sources['RA'],IRAC_sources['DEC'], edgecolor='yellow', facecolor='yellow',\n",
    "                marker='o', s=40, alpha=0.5)\n",
    "real_250.recenter(ra_zoom, dec_zoom, radius=radius)\n",
    "real_250.show_ellipses(ra_zoom, dec_zoom,2*source['r_K20e']/3600.0,2*source['r_K20e']*source['Kb_a']/3600.0, angle=360.0-source['Spa'],edgecolor='white',linewidth=2.0)\n",
    "real_250.show_ellipses(ra_zoom, dec_zoom,2*WISE_sources[idx]['Riso']/3600.0,2*WISE_sources[idx]['Riso']*WISE_sources[idx]['ba']/3600.0, angle=360.0-WISE_sources[idx]['pa'],edgecolor='white',linewidth=2.0)\n",
    "\n",
    "real_250.add_colorbar()\n",
    "#real_250.show_markers(WISE_sources['ra'],WISE_sources['dec'], edgecolor='red', facecolor='red',\n",
    "#                marker='o', s=40, alpha=0.5)\n",
    "\n",
    "real_350 = aplpy.FITSFigure(hdulist_350[1],figure=fig,subplot=(3,3,5))\n",
    "real_350.show_colorscale(vmin=vmin,vmax=0.8,cmap=cmap,stretch='arcsinh')\n",
    "real_350.show_ellipses(ra_zoom, dec_zoom,2*source['r_K20e']/3600.0,2*source['r_K20e']*source['Kb_a']/3600.0, angle=360.0-source['Spa'],edgecolor='white',linewidth=2.0)\n",
    "\n",
    "#real_350.show_markers(prior250.sra, prior250.sdec, edgecolor='black', facecolor='black',\n",
    "                #marker='o', s=40, alpha=0.5)\n",
    "real_350.recenter(ra_zoom, dec_zoom, radius=radius)\n",
    "\n",
    "real_500 = aplpy.FITSFigure(hdulist_500[1],figure=fig,subplot=(3,3,6))\n",
    "real_500.show_colorscale(vmin=vmin,vmax=0.8,cmap=cmap,stretch='arcsinh')\n",
    "#real_500.show_markers(prior250.sra, prior250.sdec, edgecolor='black', facecolor='black',\n",
    "                #marker='o', s=40, alpha=0.5)\n",
    "real_500.recenter(ra_zoom, dec_zoom, radius=radius)\n",
    "real_500.show_ellipses(ra_zoom, dec_zoom,2*source['r_K20e']/3600.0,2*source['r_K20e']*source['Kb_a']/3600.0, angle=360.0-source['Spa'],edgecolor='white',linewidth=2.0)\n",
    "\n",
    "vmin=-1.7E1\n",
    "vmax=800.0\n",
    "#cmap=sns.diverging_palette(220, 20,as_cmap=True)\n",
    "\n",
    "res250=aplpy.FITSFigure(hdurep_250[1],figure=fig,subplot=(3,3,7))\n",
    "res250.show_colorscale(vmin=vmin,vmax=vmax,cmap=cmap,stretch='arcsinh')\n",
    "res250.show_markers(prior250.sra, prior250.sdec, edgecolor='black', facecolor='black',\n",
    "                marker='o', s=80, alpha=0.5)\n",
    "res250.recenter(ra_zoom, dec_zoom, radius=radius)\n",
    "\n",
    "res350=aplpy.FITSFigure(hdurep_350[1],figure=fig,subplot=(3,3,8))\n",
    "res350.show_colorscale(vmin=vmin,vmax=vmax,cmap=cmap,stretch='arcsinh')\n",
    "res350.show_markers(prior350.sra, prior350.sdec, edgecolor='black', facecolor='black',\n",
    "                marker='o', s=80, alpha=0.5)\n",
    "res350.recenter(ra_zoom, dec_zoom, radius=radius)\n",
    "\n",
    "\n",
    "res500=aplpy.FITSFigure(hdurep_500[1],figure=fig,subplot=(3,3,9))\n",
    "res500.show_colorscale(vmin=vmin,vmax=vmax,cmap=cmap,stretch='arcsinh')\n",
    "res500.show_markers(prior500.sra, prior500.sdec, edgecolor='black', facecolor='black',\n",
    "                marker='o', s=80, alpha=0.5)\n",
    "\n",
    "\n",
    "res250._data[prior250.sy_pix-np.min(prior250.sy_pix)-1,prior250.sx_pix-np.min(prior250.sx_pix)-1]=mod_map_array[:,50]\n",
    "res350._data[prior350.sy_pix-np.min(prior350.sy_pix)-1,prior350.sx_pix-np.min(prior350.sx_pix)-1]=mod_map_array_350[:,50]\n",
    "res500._data[prior500.sy_pix-np.min(prior500.sy_pix)-1,prior500.sx_pix-np.min(prior500.sx_pix)-1]=mod_map_array_500[:,50]\n",
    "res500.recenter(ra_zoom, dec_zoom, radius=radius)\n",
    "#res500.tick_labels.set_xformat('dd.dd')\n",
    "#res500.tick_labels.set_yformat('dd.dd')\n",
    "\n",
    "\n",
    "res250.show_colorscale(vmin=vmin,vmax=vmax,cmap=cmap,stretch='arcsinh')\n",
    "res350.show_colorscale(vmin=vmin,vmax=vmax,cmap=cmap,stretch='arcsinh')\n",
    "res500.show_colorscale(vmin=vmin,vmax=vmax,cmap=cmap,stretch='arcsinh')\n",
    "res250.add_colorbar()\n",
    "res250.colorbar.set_location('top')\n",
    "res350.add_colorbar()\n",
    "res350.colorbar.set_location('top')\n",
    "res500.add_colorbar()\n",
    "res500.colorbar.set_location('top')"
   ]
  },
  {
   "cell_type": "code",
   "execution_count": null,
   "metadata": {
    "collapsed": false
   },
   "outputs": [],
   "source": [
    "plt.scatter(posterior.stan_fit[:,:,421*2-1].flatten(),posterior.stan_fit[:,:,421*2].flatten())"
   ]
  },
  {
   "cell_type": "code",
   "execution_count": null,
   "metadata": {
    "collapsed": false
   },
   "outputs": [],
   "source": [
    "vmin=-1.7E1/1.0E3\n",
    "vmax=4.446e+01/1.0E3\n",
    "cmap=sns.cubehelix_palette(8, start=.5, rot=-.75,as_cmap=True)\n",
    "real_250 = aplpy.FITSFigure(extended_source_conv[1])\n",
    "real_250.show_colorscale(cmap=cmap)\n",
    "#real_250.show_markers(ra_list,dec_list, edgecolor='white', facecolor='white',\n",
    "                #marker='o', s=40, alpha=0.5)\n",
    "real_250.show_ellipses(ra_zoom, dec_zoom,2*WISE_sources[idx]['Riso']/3600.0,2*WISE_sources[idx]['Riso']*WISE_sources[idx]['ba']/3600.0, angle=360.0-WISE_sources[idx]['pa'],edgecolor='white',linewidth=2.0)\n",
    "\n",
    "real_250.show_markers(IRAC_sources['RA'],IRAC_sources['DEC'], edgecolor='yellow', facecolor='yellow',\n",
    "                marker='o', s=40, alpha=0.5)\n",
    "#real_250.recenter(ra_zoom, dec_zoom, radius=radius)\n",
    "real_250.add_colorbar()"
   ]
  },
  {
   "cell_type": "code",
   "execution_count": null,
   "metadata": {
    "collapsed": true
   },
   "outputs": [],
   "source": []
  }
 ],
 "metadata": {
  "kernelspec": {
   "display_name": "Python [conda env:herschelhelp_internal]",
   "language": "python",
   "name": "conda-env-herschelhelp_internal-py"
  },
  "language_info": {
   "codemirror_mode": {
    "name": "ipython",
    "version": 3
   },
   "file_extension": ".py",
   "mimetype": "text/x-python",
   "name": "python",
   "nbconvert_exporter": "python",
   "pygments_lexer": "ipython3",
   "version": "3.6.1"
  }
 },
 "nbformat": 4,
 "nbformat_minor": 0
}
